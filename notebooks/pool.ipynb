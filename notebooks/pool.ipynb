{
 "cells": [
  {
   "cell_type": "code",
   "execution_count": null,
   "id": "a63ff6e0-bc07-46b8-97fc-2563d98feae9",
   "metadata": {},
   "outputs": [],
   "source": [
    "# op1\n",
    "# data = data.assign(datetime = pd.to_datetime(data['Date'], format=\"%d/%m/%Y\"))\n",
    "\n",
    "# op2\n",
    "# data[\"datetime\"] = pd.to_datetime(data['Date'], format=\"%d/%m/%Y\")"
   ]
  },
  {
   "cell_type": "code",
   "execution_count": null,
   "id": "f7287db1-d896-4820-8cab-d9697cc2066b",
   "metadata": {},
   "outputs": [],
   "source": [
    "# data = data.set_index('datetime').drop(['Day', 'Date'], axis=1)"
   ]
  },
  {
   "cell_type": "code",
   "execution_count": null,
   "id": "8aa25420-3c00-4dc5-a911-efac1dfefe25",
   "metadata": {},
   "outputs": [],
   "source": [
    "# # pandas quick plotting method\n",
    "# data['totalU'].plot()"
   ]
  },
  {
   "cell_type": "code",
   "execution_count": null,
   "id": "2833349d-ca0c-45ae-bd18-02ca57dc883e",
   "metadata": {},
   "outputs": [],
   "source": []
  },
  {
   "cell_type": "code",
   "execution_count": null,
   "id": "91dac978-10cd-477c-b602-a546ee95bd8e",
   "metadata": {},
   "outputs": [],
   "source": [
    "# previous way of preparing training and testing data"
   ]
  },
  {
   "cell_type": "code",
   "execution_count": null,
   "id": "c03aeeff-2f1f-4a4c-bd55-bf6739873b88",
   "metadata": {},
   "outputs": [],
   "source": [
    "def prepare_training_data(df):\n",
    "\n",
    "    y = data[['totalU']].to_numpy().reshape(-1, 1)\n",
    "    y = y - y.mean()\n",
    "    X = (df.index.year + df.index.month / 12).to_numpy().reshape(-1, 1)\n",
    "    \n",
    "    # change unit to million\n",
    "    y = y / 1000_000\n",
    "    \n",
    "    return X, y"
   ]
  },
  {
   "cell_type": "code",
   "execution_count": null,
   "id": "768f6738-7612-45c0-8b6e-06a241d2b5cc",
   "metadata": {},
   "outputs": [],
   "source": [
    "X, y = prepare_training_data(data)"
   ]
  },
  {
   "cell_type": "code",
   "execution_count": null,
   "id": "a2a8da8a-a125-4670-8657-37015dbe6062",
   "metadata": {},
   "outputs": [],
   "source": []
  },
  {
   "cell_type": "code",
   "execution_count": null,
   "id": "0c26e703-5fc3-4982-ac65-c9a14ba85b2c",
   "metadata": {},
   "outputs": [],
   "source": [
    "# # test the plotting func below using one month\n",
    "# monthly_data = data[data['Year'] == 2013]\n",
    "# monthly_data.shape\n",
    "\n",
    "# fig, ax = plt.subplots(figsize=(4,3))\n",
    "# year_average_plot(ax, monthly_data, title='2013')"
   ]
  },
  {
   "cell_type": "code",
   "execution_count": null,
   "id": "35ea8e0f-0c36-4a6d-83f8-723ab47378ee",
   "metadata": {},
   "outputs": [],
   "source": []
  },
  {
   "cell_type": "markdown",
   "id": "e13f3255-4610-46e1-9841-bcd768662c69",
   "metadata": {},
   "source": [
    "## tensorflow modelling"
   ]
  },
  {
   "cell_type": "code",
   "execution_count": null,
   "id": "9ba0e836-f6e7-4533-b20b-db9286eaf665",
   "metadata": {},
   "outputs": [],
   "source": [
    "''' tensorflow stuff '''\n",
    "\n",
    "# import tensorflow as tf\n",
    "# import tensorflow_probability as tfp\n",
    "# tfd = tfp.distributions\n",
    "# tfpl = tfp.layers\n",
    "\n",
    "# print('TF version:', tf.__version__)\n",
    "# print('TFP version:', tfp.__version__)\n",
    "\n",
    "# from tensorflow.keras.models import Sequential\n",
    "# from tensorflow.keras.losses import MeanSquaredError\n",
    "# from tensorflow.keras.optimizers import RMSprop\n",
    "# from tensorflow import keras\n",
    "# from tensorflow.keras import layers"
   ]
  },
  {
   "cell_type": "code",
   "execution_count": null,
   "id": "8a6ee24e-70bb-4430-a23c-51912e28f1fa",
   "metadata": {},
   "outputs": [],
   "source": [
    "# from probabilistic_models_archive.prior import sg_prior, gmm_prior\n",
    "# from probabilistic_models_archive.posterior import posterior\n",
    "# from probabilistic_models_archive.utils import nll"
   ]
  },
  {
   "cell_type": "markdown",
   "id": "e8abb986-44af-4a6a-bd1a-b9b52cea4322",
   "metadata": {},
   "source": [
    "#### SciLearn implementation"
   ]
  },
  {
   "cell_type": "code",
   "execution_count": null,
   "id": "3065196b-3308-4b1e-ac29-fc28f52776a6",
   "metadata": {},
   "outputs": [],
   "source": [
    "from sklearn.gaussian_process import GaussianProcessRegressor\n",
    "from sklearn.gaussian_process.kernels import RBF"
   ]
  },
  {
   "cell_type": "code",
   "execution_count": null,
   "id": "3fe42950-85ac-4f34-bffa-36bff61bbc12",
   "metadata": {},
   "outputs": [],
   "source": [
    "kernel = 1 * RBF()\n",
    "gaussian_process = GaussianProcessRegressor(kernel=kernel, n_restarts_optimizer=9)"
   ]
  },
  {
   "cell_type": "code",
   "execution_count": null,
   "id": "709c1e7f-396d-4e26-a887-859995c501b5",
   "metadata": {},
   "outputs": [],
   "source": [
    "gaussian_process.fit(X, y)"
   ]
  },
  {
   "cell_type": "code",
   "execution_count": null,
   "id": "6a032bab-f9d7-44ba-844c-9587bb0bf4f7",
   "metadata": {},
   "outputs": [],
   "source": [
    "mean_prediction, std_prediction = gaussian_process.predict(X_test, return_std=True)"
   ]
  },
  {
   "cell_type": "code",
   "execution_count": null,
   "id": "b54d5cf2-dcb2-498b-9f47-6162f3ba4e46",
   "metadata": {},
   "outputs": [],
   "source": [
    "plt.figure(figsize=(10, 4))\n",
    "plt.plot(X, y, color=\"black\", linestyle=\"dashed\", label=\"gt\", marker='.')\n",
    "\n",
    "plt.plot(X_test, mean_prediction, label=\"Mean prediction\")\n",
    "\n",
    "plt.fill_between(\n",
    "    X_test.ravel(),\n",
    "    mean_prediction - 1.96 * std_prediction,\n",
    "    mean_prediction + 1.96 * std_prediction,\n",
    "    color=\"tab:orange\",\n",
    "    alpha=0.5,\n",
    "    label=r\"95% confidence interval\",\n",
    ")\n",
    "\n",
    "plt.show()"
   ]
  },
  {
   "cell_type": "markdown",
   "id": "6e957fa8-39a3-4ea4-b562-05c724297402",
   "metadata": {},
   "source": [
    "### Bayesian NN "
   ]
  },
  {
   "cell_type": "code",
   "execution_count": null,
   "id": "d3140950-a913-4cb8-910b-8abfdb159afc",
   "metadata": {},
   "outputs": [],
   "source": [
    "x_train = X\n",
    "y_train = y"
   ]
  },
  {
   "cell_type": "code",
   "execution_count": null,
   "id": "13ad0383-91fb-4ef4-bdb4-3e0227a00762",
   "metadata": {},
   "outputs": [],
   "source": [
    "plt.figure(figsize=(10, 4))\n",
    "plt.scatter(x_train, y_train, alpha=0.2)\n",
    "plt.show()"
   ]
  },
  {
   "cell_type": "code",
   "execution_count": null,
   "id": "f8b6f391-366b-4cf7-9d83-3fbfb611bc56",
   "metadata": {},
   "outputs": [],
   "source": [
    "def build_and_compile_model():\n",
    "    model = keras.Sequential([\n",
    "      layers.Dense(64, activation='sigmoid'),\n",
    "      layers.Dense(128, activation='sigmoid'),\n",
    "      layers.Dense(1)\n",
    "    ])\n",
    "\n",
    "    model.compile(loss='mse',\n",
    "                optimizer=tf.keras.optimizers.Adam(learning_rate=0.1))\n",
    "    return model"
   ]
  },
  {
   "cell_type": "code",
   "execution_count": null,
   "id": "a9b06842-f7a3-43ba-8b42-9b26275cb7e9",
   "metadata": {},
   "outputs": [],
   "source": [
    "DNN_model = build_and_compile_model()"
   ]
  },
  {
   "cell_type": "code",
   "execution_count": null,
   "id": "7b7725af-c3ce-4d9b-bef1-e68bfe4dbdde",
   "metadata": {},
   "outputs": [],
   "source": [
    "history = DNN_model.fit(\n",
    "    x_train,\n",
    "    y_train,\n",
    "    # validation_split=0.2,\n",
    "    verbose=0, \n",
    "    batch_size=16,\n",
    "    epochs=500)"
   ]
  },
  {
   "cell_type": "code",
   "execution_count": null,
   "id": "2c49f674-e83f-4252-901d-7f40687aadd4",
   "metadata": {},
   "outputs": [],
   "source": [
    "# plot_loss(history)"
   ]
  },
  {
   "cell_type": "code",
   "execution_count": null,
   "id": "4ac941d4-2db9-42c7-9a81-998f0b7e9e5e",
   "metadata": {},
   "outputs": [],
   "source": [
    "test_predictions = DNN_model.predict(X_test)"
   ]
  },
  {
   "cell_type": "code",
   "execution_count": null,
   "id": "851f4d47-032c-4d98-ba16-b7c3ce5314ae",
   "metadata": {},
   "outputs": [],
   "source": [
    "pseudo_train_preds = DNN_model.predict(x_train)"
   ]
  },
  {
   "cell_type": "code",
   "execution_count": null,
   "id": "704b10fa-afd6-424c-b0c7-029adb728bc7",
   "metadata": {},
   "outputs": [],
   "source": [
    "test_predictions.shape"
   ]
  },
  {
   "cell_type": "code",
   "execution_count": null,
   "id": "1252cfe0-dbad-4ce2-af00-65303b5f5463",
   "metadata": {},
   "outputs": [],
   "source": [
    "# Plot an ensemble of trained probabilistic regressions\n",
    "\n",
    "plt.scatter(x_train, y_train, marker='.', alpha=0.2, label='data')\n",
    "plt.scatter(X_test, test_predictions)\n",
    "plt.scatter(x_train, pseudo_train_preds)\n",
    "# for _ in range(5):\n",
    "#     y_model = model_BNN(x_train)\n",
    "#     y_hat = y_model.mean()\n",
    "#     y_hat_m2sd = y_hat - 2 * y_model.stddev()\n",
    "#     y_hat_p2sd = y_hat + 2 * y_model.stddev()\n",
    "#     if _ == 0:\n",
    "#         plt.plot(x_train, y_hat, color='red', alpha=0.8, label='model $\\mu$')\n",
    "#         plt.plot(x_train, y_hat_m2sd, color='green', alpha=0.8, label='model $\\mu \\pm 2 \\sigma$')\n",
    "#         plt.plot(x_train, y_hat_p2sd, color='green', alpha=0.8)\n",
    "#     else:\n",
    "#         plt.plot(x_train, y_hat, color='red', alpha=0.8)\n",
    "#         plt.plot(x_train, y_hat_m2sd, color='green', alpha=0.8)\n",
    "#         plt.plot(x_train, y_hat_p2sd, color='green', alpha=0.8)        \n",
    "# plt.legend()\n",
    "# plt.show()"
   ]
  },
  {
   "cell_type": "markdown",
   "id": "ffc743b7-188b-4b9e-9acb-4a3ccbb7c7c4",
   "metadata": {},
   "source": [
    "#### BNN"
   ]
  },
  {
   "cell_type": "code",
   "execution_count": null,
   "id": "7099b6d9-588e-4cb0-b323-9339b3ea85ca",
   "metadata": {},
   "outputs": [],
   "source": [
    "# Create probabilistic regression with one hidden layer, weight uncertainty\n",
    "\n",
    "model_BNN = Sequential([\n",
    "    tfpl.DenseVariational(units=64,\n",
    "                          input_shape=(1,),\n",
    "                          make_prior_fn=sg_prior,\n",
    "                          make_posterior_fn=posterior,\n",
    "                          kl_weight=1/x_train.shape[0],\n",
    "                          activation='sigmoid'),\n",
    "    tfpl.DenseVariational(units=64,\n",
    "                          input_shape=(1,),\n",
    "                          make_prior_fn=sg_prior,\n",
    "                          make_posterior_fn=posterior,\n",
    "                          kl_weight=1/x_train.shape[0],\n",
    "                          activation='sigmoid'),\n",
    "    tfpl.DenseVariational(units=tfpl.IndependentNormal.params_size(1),\n",
    "                          make_prior_fn=sg_prior,\n",
    "                          make_posterior_fn=posterior,\n",
    "                          kl_weight=1/x_train.shape[0]),\n",
    "    tfpl.IndependentNormal(1)\n",
    "])\n",
    "\n",
    "model_BNN.compile(loss=nll, optimizer=RMSprop())"
   ]
  },
  {
   "cell_type": "code",
   "execution_count": null,
   "id": "140c38d4-52ce-4f75-8ff0-d1f791d09233",
   "metadata": {},
   "outputs": [],
   "source": [
    "# # Train the model\n",
    "\n",
    "# model_BNN.fit(x_train, y_train, epochs=500, verbose=1)\n",
    "# model_BNN.evaluate(x_train, y_train)"
   ]
  },
  {
   "cell_type": "code",
   "execution_count": null,
   "id": "1e1ece38-30b2-452b-b367-151ab669e37d",
   "metadata": {},
   "outputs": [],
   "source": [
    "# Plot an ensemble of trained probabilistic regressions\n",
    "\n",
    "plt.scatter(x_train, y_train, marker='.', alpha=0.2, label='data')\n",
    "for _ in range(5):\n",
    "    y_model = model_BNN(x_train)\n",
    "    y_hat = y_model.mean()\n",
    "    y_hat_m2sd = y_hat - 2 * y_model.stddev()\n",
    "    y_hat_p2sd = y_hat + 2 * y_model.stddev()\n",
    "    if _ == 0:\n",
    "        plt.plot(x_train, y_hat, color='red', alpha=0.8, label='model $\\mu$')\n",
    "        plt.plot(x_train, y_hat_m2sd, color='green', alpha=0.8, label='model $\\mu \\pm 2 \\sigma$')\n",
    "        plt.plot(x_train, y_hat_p2sd, color='green', alpha=0.8)\n",
    "    else:\n",
    "        plt.plot(x_train, y_hat, color='red', alpha=0.8)\n",
    "        plt.plot(x_train, y_hat_m2sd, color='green', alpha=0.8)\n",
    "        plt.plot(x_train, y_hat_p2sd, color='green', alpha=0.8)        \n",
    "plt.legend()\n",
    "plt.show()"
   ]
  },
  {
   "cell_type": "code",
   "execution_count": null,
   "id": "cc3593a9-97d5-4f16-b62b-7c522938682c",
   "metadata": {},
   "outputs": [],
   "source": []
  },
  {
   "cell_type": "code",
   "execution_count": null,
   "id": "0458391b-adde-47f8-991e-18775deaea7b",
   "metadata": {},
   "outputs": [],
   "source": []
  },
  {
   "cell_type": "code",
   "execution_count": null,
   "id": "64b97f05-1624-44e5-b3d9-9ff8f50ffb1e",
   "metadata": {},
   "outputs": [],
   "source": []
  },
  {
   "cell_type": "code",
   "execution_count": null,
   "id": "e9b1ce2c-b4f5-46b0-a42b-78628a297e79",
   "metadata": {},
   "outputs": [],
   "source": []
  }
 ],
 "metadata": {
  "kernelspec": {
   "display_name": "Python 3 (ipykernel)",
   "language": "python",
   "name": "python3"
  },
  "language_info": {
   "codemirror_mode": {
    "name": "ipython",
    "version": 3
   },
   "file_extension": ".py",
   "mimetype": "text/x-python",
   "name": "python",
   "nbconvert_exporter": "python",
   "pygments_lexer": "ipython3",
   "version": "3.8.13"
  }
 },
 "nbformat": 4,
 "nbformat_minor": 5
}
