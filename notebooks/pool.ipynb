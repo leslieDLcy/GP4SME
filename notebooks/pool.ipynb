{
 "cells": [
  {
   "cell_type": "code",
   "execution_count": null,
   "id": "a63ff6e0-bc07-46b8-97fc-2563d98feae9",
   "metadata": {},
   "outputs": [],
   "source": [
    "# op1\n",
    "# data = data.assign(datetime = pd.to_datetime(data['Date'], format=\"%d/%m/%Y\"))\n",
    "\n",
    "# op2\n",
    "# data[\"datetime\"] = pd.to_datetime(data['Date'], format=\"%d/%m/%Y\")"
   ]
  },
  {
   "cell_type": "code",
   "execution_count": null,
   "id": "f7287db1-d896-4820-8cab-d9697cc2066b",
   "metadata": {},
   "outputs": [],
   "source": [
    "# data = data.set_index('datetime').drop(['Day', 'Date'], axis=1)"
   ]
  },
  {
   "cell_type": "code",
   "execution_count": null,
   "id": "8aa25420-3c00-4dc5-a911-efac1dfefe25",
   "metadata": {},
   "outputs": [],
   "source": [
    "# # pandas quick plotting method\n",
    "# data['totalU'].plot()"
   ]
  }
 ],
 "metadata": {
  "kernelspec": {
   "display_name": "Python 3 (ipykernel)",
   "language": "python",
   "name": "python3"
  },
  "language_info": {
   "codemirror_mode": {
    "name": "ipython",
    "version": 3
   },
   "file_extension": ".py",
   "mimetype": "text/x-python",
   "name": "python",
   "nbconvert_exporter": "python",
   "pygments_lexer": "ipython3",
   "version": "3.8.13"
  }
 },
 "nbformat": 4,
 "nbformat_minor": 5
}
