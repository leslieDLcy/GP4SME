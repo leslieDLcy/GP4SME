{
 "cells": [
  {
   "cell_type": "markdown",
   "id": "4bba9e9a-25e1-4408-9940-8b83d95dfcc4",
   "metadata": {},
   "source": [
    "Introduction\n",
    "=========\n",
    "\n",
    "A first attempt for assignment\n"
   ]
  },
  {
   "cell_type": "code",
   "execution_count": 1,
   "id": "343a4e8e-a878-4c51-b925-5e7c22c4106d",
   "metadata": {},
   "outputs": [],
   "source": [
    "import pandas as pd\n",
    "import numpy as np\n",
    "import matplotlib.pyplot as plt\n",
    "import seaborn as sns\n",
    "import matplotlib as mpl\n",
    "import datetime"
   ]
  },
  {
   "cell_type": "code",
   "execution_count": 2,
   "id": "7a83279b-e05b-4b60-b8c2-972492635595",
   "metadata": {},
   "outputs": [
    {
     "name": "stderr",
     "output_type": "stream",
     "text": [
      "2023-11-14 22:00:44.129936: I tensorflow/core/platform/cpu_feature_guard.cc:193] This TensorFlow binary is optimized with oneAPI Deep Neural Network Library (oneDNN) to use the following CPU instructions in performance-critical operations:  AVX2 FMA\n",
      "To enable them in other operations, rebuild TensorFlow with the appropriate compiler flags.\n",
      "2023-11-14 22:00:44.306855: E tensorflow/stream_executor/cuda/cuda_blas.cc:2981] Unable to register cuBLAS factory: Attempting to register factory for plugin cuBLAS when one has already been registered\n",
      "2023-11-14 22:00:45.167846: W tensorflow/stream_executor/platform/default/dso_loader.cc:64] Could not load dynamic library 'libnvinfer.so.7'; dlerror: libnvinfer.so.7: cannot open shared object file: No such file or directory; LD_LIBRARY_PATH: /data/share/soft/anaconda/anaconda3/envs/tf/lib/libfabric::/usr/local/cuda/lib64\n",
      "2023-11-14 22:00:45.167963: W tensorflow/stream_executor/platform/default/dso_loader.cc:64] Could not load dynamic library 'libnvinfer_plugin.so.7'; dlerror: libnvinfer_plugin.so.7: cannot open shared object file: No such file or directory; LD_LIBRARY_PATH: /data/share/soft/anaconda/anaconda3/envs/tf/lib/libfabric::/usr/local/cuda/lib64\n",
      "2023-11-14 22:00:45.167973: W tensorflow/compiler/tf2tensorrt/utils/py_utils.cc:38] TF-TRT Warning: Cannot dlopen some TensorRT libraries. If you would like to use Nvidia GPU with TensorRT, please make sure the missing libraries mentioned above are installed properly.\n"
     ]
    },
    {
     "name": "stdout",
     "output_type": "stream",
     "text": [
      "TF version: 2.10.1\n",
      "TFP version: 0.18.0\n"
     ]
    }
   ],
   "source": [
    "import tensorflow as tf\n",
    "import tensorflow_probability as tfp\n",
    "tfd = tfp.distributions\n",
    "tfpl = tfp.layers\n",
    "\n",
    "print('TF version:', tf.__version__)\n",
    "print('TFP version:', tfp.__version__)\n",
    "\n",
    "from tensorflow.keras.models import Sequential\n",
    "from tensorflow.keras.losses import MeanSquaredError\n",
    "from tensorflow.keras.optimizers import RMSprop"
   ]
  },
  {
   "cell_type": "code",
   "execution_count": 3,
   "id": "5e384c62-1c04-4614-9e96-279d3eb3a101",
   "metadata": {},
   "outputs": [],
   "source": [
    "from tensorflow import keras\n",
    "from tensorflow.keras import layers"
   ]
  },
  {
   "cell_type": "code",
   "execution_count": 4,
   "id": "b2deed12-7ae2-4b08-8bfa-ad84add49530",
   "metadata": {},
   "outputs": [],
   "source": [
    "# from probabilistic_models_archive.prior import sg_prior, gmm_prior\n",
    "# from probabilistic_models_archive.posterior import posterior\n",
    "# from probabilistic_models_archive.utils import nll"
   ]
  },
  {
   "cell_type": "code",
   "execution_count": 5,
   "id": "0ab78ef9-5142-4cf1-bad0-07f4b82d4b8b",
   "metadata": {},
   "outputs": [],
   "source": [
    "# %matplotlib inline"
   ]
  },
  {
   "cell_type": "code",
   "execution_count": 6,
   "id": "1eac1d3e-c00f-4c38-ab6b-59626bdb8379",
   "metadata": {},
   "outputs": [],
   "source": [
    "data = pd.read_csv('../data/raw/smedebtsu.csv')"
   ]
  },
  {
   "cell_type": "code",
   "execution_count": 7,
   "id": "12d3fb0c-95cd-4893-91d9-4cef392247ae",
   "metadata": {},
   "outputs": [
    {
     "name": "stdout",
     "output_type": "stream",
     "text": [
      "<class 'pandas.core.frame.DataFrame'>\n",
      "RangeIndex: 84 entries, 0 to 83\n",
      "Data columns (total 16 columns):\n",
      " #   Column   Non-Null Count  Dtype  \n",
      "---  ------   --------------  -----  \n",
      " 0   Date     84 non-null     object \n",
      " 1   Day      84 non-null     int64  \n",
      " 2   Month    84 non-null     int64  \n",
      " 3   Year     84 non-null     int64  \n",
      " 4   LenderA  84 non-null     float64\n",
      " 5   LenderB  84 non-null     float64\n",
      " 6   LenderC  84 non-null     float64\n",
      " 7   LenderD  84 non-null     int64  \n",
      " 8   LenderE  84 non-null     float64\n",
      " 9   LenderF  84 non-null     float64\n",
      " 10  LenderG  84 non-null     float64\n",
      " 11  LenderH  84 non-null     float64\n",
      " 12  LenderI  84 non-null     float64\n",
      " 13  LenderJ  84 non-null     float64\n",
      " 14  LenderK  84 non-null     float64\n",
      " 15  totalU   84 non-null     float64\n",
      "dtypes: float64(11), int64(4), object(1)\n",
      "memory usage: 10.6+ KB\n"
     ]
    }
   ],
   "source": [
    "data.info()"
   ]
  },
  {
   "cell_type": "markdown",
   "id": "2f41f5e9-ca46-4894-8295-d29285688ff5",
   "metadata": {
    "tags": []
   },
   "source": [
    "### clean date format"
   ]
  },
  {
   "cell_type": "code",
   "execution_count": 8,
   "id": "d24274c3-3880-4a84-a59d-a30dc9281019",
   "metadata": {},
   "outputs": [],
   "source": [
    "def inspect_date_format(df):\n",
    "    \"\"\" identifying rows with wrong date formatting \"\"\"\n",
    "    \n",
    "    m = pd.to_datetime(df['Date'], format=\"%d/%m/%Y\", errors='coerce').isna()\n",
    "    wrong_dates = df.loc[m, 'Date'].unique().tolist()\n",
    "    print(\"Detected wrong date format:\", wrong_dates)\n",
    "    \n",
    "    # pinpoint the rows with such incorrect dates\n",
    "    for i in wrong_dates:\n",
    "        print(f\"row index with wrong dates '{i}' ==> {df[df['Date'] == i].index}\")"
   ]
  },
  {
   "cell_type": "code",
   "execution_count": 9,
   "id": "16a99192-b81a-4617-9f24-2c1b82c49042",
   "metadata": {},
   "outputs": [
    {
     "name": "stdout",
     "output_type": "stream",
     "text": [
      "Detected wrong date format: ['04/042022', '02/052022']\n",
      "row index with wrong dates '04/042022' ==> Index([73], dtype='int64')\n",
      "row index with wrong dates '02/052022' ==> Index([74, 75], dtype='int64')\n"
     ]
    }
   ],
   "source": [
    "inspect_date_format(data)"
   ]
  },
  {
   "cell_type": "code",
   "execution_count": 10,
   "id": "01a4b257-7b5a-4448-9add-dd4bfaece8e7",
   "metadata": {},
   "outputs": [],
   "source": [
    "# correct wrong date formats in the raw data\n",
    "\n",
    "data.loc[73, 'Date'] = \"04/04/2022\"\n",
    "data.loc[74, 'Date'] = \"02/05/2022\"\n",
    "data.loc[75, 'Date'] = \"02/05/2022\""
   ]
  },
  {
   "cell_type": "code",
   "execution_count": 11,
   "id": "81b71d05-d610-4909-8039-3038a5ee5939",
   "metadata": {},
   "outputs": [],
   "source": [
    "def date_formatting(df):\n",
    "    return (df\n",
    "            .assign(datetime = pd.to_datetime(df['Date'], format=\"%d/%m/%Y\"))  \n",
    "            .set_index('datetime')\n",
    "            .drop(['Day', 'Date'], axis=1)\n",
    "           )"
   ]
  },
  {
   "cell_type": "code",
   "execution_count": 14,
   "id": "d555630f-4e2b-4e31-8d74-08ac7eee3b21",
   "metadata": {},
   "outputs": [],
   "source": [
    "data = date_formatting(data)"
   ]
  },
  {
   "cell_type": "code",
   "execution_count": 15,
   "id": "17ed7838-67ff-45db-ba9c-bbb0d87e37f8",
   "metadata": {},
   "outputs": [
    {
     "data": {
      "text/html": [
       "<div>\n",
       "<style scoped>\n",
       "    .dataframe tbody tr th:only-of-type {\n",
       "        vertical-align: middle;\n",
       "    }\n",
       "\n",
       "    .dataframe tbody tr th {\n",
       "        vertical-align: top;\n",
       "    }\n",
       "\n",
       "    .dataframe thead th {\n",
       "        text-align: right;\n",
       "    }\n",
       "</style>\n",
       "<table border=\"1\" class=\"dataframe\">\n",
       "  <thead>\n",
       "    <tr style=\"text-align: right;\">\n",
       "      <th></th>\n",
       "      <th>Month</th>\n",
       "      <th>Year</th>\n",
       "      <th>LenderA</th>\n",
       "      <th>LenderB</th>\n",
       "      <th>LenderC</th>\n",
       "      <th>LenderD</th>\n",
       "      <th>LenderE</th>\n",
       "      <th>LenderF</th>\n",
       "      <th>LenderG</th>\n",
       "      <th>LenderH</th>\n",
       "      <th>LenderI</th>\n",
       "      <th>LenderJ</th>\n",
       "      <th>LenderK</th>\n",
       "      <th>totalU</th>\n",
       "    </tr>\n",
       "    <tr>\n",
       "      <th>datetime</th>\n",
       "      <th></th>\n",
       "      <th></th>\n",
       "      <th></th>\n",
       "      <th></th>\n",
       "      <th></th>\n",
       "      <th></th>\n",
       "      <th></th>\n",
       "      <th></th>\n",
       "      <th></th>\n",
       "      <th></th>\n",
       "      <th></th>\n",
       "      <th></th>\n",
       "      <th></th>\n",
       "      <th></th>\n",
       "    </tr>\n",
       "  </thead>\n",
       "  <tbody>\n",
       "    <tr>\n",
       "      <th>2013-10-13</th>\n",
       "      <td>10</td>\n",
       "      <td>2013</td>\n",
       "      <td>74349.0</td>\n",
       "      <td>70109.93</td>\n",
       "      <td>11477.84</td>\n",
       "      <td>4884</td>\n",
       "      <td>0.0</td>\n",
       "      <td>61763.24</td>\n",
       "      <td>0.0</td>\n",
       "      <td>0.0</td>\n",
       "      <td>2442.00</td>\n",
       "      <td>0.0</td>\n",
       "      <td>2981.00</td>\n",
       "      <td>228007.01</td>\n",
       "    </tr>\n",
       "    <tr>\n",
       "      <th>2013-11-13</th>\n",
       "      <td>11</td>\n",
       "      <td>2013</td>\n",
       "      <td>73535.0</td>\n",
       "      <td>66083.05</td>\n",
       "      <td>9607.84</td>\n",
       "      <td>5170</td>\n",
       "      <td>0.0</td>\n",
       "      <td>61763.24</td>\n",
       "      <td>2563.0</td>\n",
       "      <td>0.0</td>\n",
       "      <td>2422.09</td>\n",
       "      <td>0.0</td>\n",
       "      <td>6844.09</td>\n",
       "      <td>227988.31</td>\n",
       "    </tr>\n",
       "    <tr>\n",
       "      <th>2013-12-10</th>\n",
       "      <td>12</td>\n",
       "      <td>2013</td>\n",
       "      <td>71027.0</td>\n",
       "      <td>93500.00</td>\n",
       "      <td>14300.00</td>\n",
       "      <td>4950</td>\n",
       "      <td>0.0</td>\n",
       "      <td>59400.00</td>\n",
       "      <td>12232.0</td>\n",
       "      <td>0.0</td>\n",
       "      <td>2640.00</td>\n",
       "      <td>0.0</td>\n",
       "      <td>7150.00</td>\n",
       "      <td>265199.00</td>\n",
       "    </tr>\n",
       "    <tr>\n",
       "      <th>2014-01-23</th>\n",
       "      <td>1</td>\n",
       "      <td>2014</td>\n",
       "      <td>0.0</td>\n",
       "      <td>15741.00</td>\n",
       "      <td>14300.00</td>\n",
       "      <td>3300</td>\n",
       "      <td>262944.0</td>\n",
       "      <td>0.00</td>\n",
       "      <td>3168.0</td>\n",
       "      <td>0.0</td>\n",
       "      <td>0.00</td>\n",
       "      <td>0.0</td>\n",
       "      <td>0.00</td>\n",
       "      <td>299453.00</td>\n",
       "    </tr>\n",
       "    <tr>\n",
       "      <th>2014-03-05</th>\n",
       "      <td>3</td>\n",
       "      <td>2014</td>\n",
       "      <td>0.0</td>\n",
       "      <td>14850.00</td>\n",
       "      <td>13200.00</td>\n",
       "      <td>3476</td>\n",
       "      <td>254177.0</td>\n",
       "      <td>0.00</td>\n",
       "      <td>4400.0</td>\n",
       "      <td>0.0</td>\n",
       "      <td>0.00</td>\n",
       "      <td>0.0</td>\n",
       "      <td>0.00</td>\n",
       "      <td>290103.00</td>\n",
       "    </tr>\n",
       "  </tbody>\n",
       "</table>\n",
       "</div>"
      ],
      "text/plain": [
       "            Month  Year  LenderA   LenderB   LenderC  LenderD   LenderE  \\\n",
       "datetime                                                                  \n",
       "2013-10-13     10  2013  74349.0  70109.93  11477.84     4884       0.0   \n",
       "2013-11-13     11  2013  73535.0  66083.05   9607.84     5170       0.0   \n",
       "2013-12-10     12  2013  71027.0  93500.00  14300.00     4950       0.0   \n",
       "2014-01-23      1  2014      0.0  15741.00  14300.00     3300  262944.0   \n",
       "2014-03-05      3  2014      0.0  14850.00  13200.00     3476  254177.0   \n",
       "\n",
       "             LenderF  LenderG  LenderH  LenderI  LenderJ  LenderK     totalU  \n",
       "datetime                                                                      \n",
       "2013-10-13  61763.24      0.0      0.0  2442.00      0.0  2981.00  228007.01  \n",
       "2013-11-13  61763.24   2563.0      0.0  2422.09      0.0  6844.09  227988.31  \n",
       "2013-12-10  59400.00  12232.0      0.0  2640.00      0.0  7150.00  265199.00  \n",
       "2014-01-23      0.00   3168.0      0.0     0.00      0.0     0.00  299453.00  \n",
       "2014-03-05      0.00   4400.0      0.0     0.00      0.0     0.00  290103.00  "
      ]
     },
     "execution_count": 15,
     "metadata": {},
     "output_type": "execute_result"
    }
   ],
   "source": [
    "data.head()"
   ]
  },
  {
   "cell_type": "markdown",
   "id": "76b76294-a172-4c10-ba19-c7bdca50d54c",
   "metadata": {
    "tags": []
   },
   "source": [
    "### check missing data"
   ]
  },
  {
   "cell_type": "code",
   "execution_count": 16,
   "id": "3d74e9f1-00cb-414a-a0b5-a165c6b4417c",
   "metadata": {},
   "outputs": [
    {
     "data": {
      "text/plain": [
       "Month      0\n",
       "Year       0\n",
       "LenderA    0\n",
       "LenderB    0\n",
       "LenderC    0\n",
       "LenderD    0\n",
       "LenderE    0\n",
       "LenderF    0\n",
       "LenderG    0\n",
       "LenderH    0\n",
       "LenderI    0\n",
       "LenderJ    0\n",
       "LenderK    0\n",
       "totalU     0\n",
       "dtype: int64"
      ]
     },
     "execution_count": 16,
     "metadata": {},
     "output_type": "execute_result"
    }
   ],
   "source": [
    "data.isna().sum()"
   ]
  },
  {
   "cell_type": "markdown",
   "id": "5123841c-c5ef-451c-ac8a-f0a8558597c7",
   "metadata": {},
   "source": [
    "conclusion: currently, there is no missing data. However, in the cases there are, we can show the places for missing data"
   ]
  },
  {
   "cell_type": "code",
   "execution_count": 17,
   "id": "47e53349-946d-403d-bd68-c0e914ed4fbd",
   "metadata": {},
   "outputs": [],
   "source": [
    "# data.query('data.isna()')"
   ]
  },
  {
   "cell_type": "code",
   "execution_count": 18,
   "id": "7de724b2-1cd3-473d-b9cb-38eea6fe3781",
   "metadata": {},
   "outputs": [],
   "source": [
    "# check for missing months"
   ]
  },
  {
   "cell_type": "code",
   "execution_count": 19,
   "id": "d8212765-563b-4e9a-8c68-01dc431f4aaf",
   "metadata": {},
   "outputs": [],
   "source": [
    "def find_missing_months(df):\n",
    "    \"\"\" look for months with missing records from the history \n",
    "    \n",
    "    args:\n",
    "        df: the query dataframe\n",
    "        \n",
    "    return:\n",
    "        information (stdout) as to missing months\n",
    "    \"\"\"\n",
    "    \n",
    "    s = df.resample('MS').size()\n",
    "    mm = s[s == 0].index.to_period('M')\n",
    "    num = len(mm)\n",
    "    print(f\"Total number of months with missing records: {num}\")\n",
    "    print(\"Missing months are: \\n\", mm)"
   ]
  },
  {
   "cell_type": "code",
   "execution_count": 20,
   "id": "7fb65778-7c3f-4570-b4e5-c626cd154b12",
   "metadata": {},
   "outputs": [
    {
     "name": "stdout",
     "output_type": "stream",
     "text": [
      "Total number of months with missing records: 33\n",
      "Missing months are: \n",
      " PeriodIndex(['2014-02', '2015-06', '2015-07', '2015-09', '2016-03', '2016-04',\n",
      "             '2017-06', '2017-08', '2018-01', '2018-02', '2018-04', '2018-06',\n",
      "             '2018-08', '2018-10', '2019-02', '2019-06', '2020-01', '2020-05',\n",
      "             '2020-07', '2020-09', '2020-10', '2020-11', '2021-01', '2021-02',\n",
      "             '2021-03', '2021-05', '2021-06', '2021-08', '2022-02', '2022-06',\n",
      "             '2022-07', '2022-12', '2023-01'],\n",
      "            dtype='period[M]', name='datetime')\n"
     ]
    }
   ],
   "source": [
    "find_missing_months(data)"
   ]
  },
  {
   "cell_type": "code",
   "execution_count": null,
   "id": "cdfe9085-5cf8-4acb-b07e-5edab4ae149c",
   "metadata": {},
   "outputs": [],
   "source": []
  },
  {
   "cell_type": "code",
   "execution_count": null,
   "id": "7e6b4333-6068-442d-9961-7dadeb37c3af",
   "metadata": {},
   "outputs": [],
   "source": []
  },
  {
   "cell_type": "markdown",
   "id": "5733f349-4446-4dce-bd23-2604e49e1814",
   "metadata": {
    "tags": []
   },
   "source": [
    "### check duplicated data"
   ]
  },
  {
   "cell_type": "code",
   "execution_count": 21,
   "id": "1e383e85-eb02-4217-b80a-3caf8ab678c3",
   "metadata": {},
   "outputs": [
    {
     "data": {
      "text/plain": [
       "0"
      ]
     },
     "execution_count": 21,
     "metadata": {},
     "output_type": "execute_result"
    }
   ],
   "source": [
    "data.duplicated().sum()"
   ]
  },
  {
   "cell_type": "code",
   "execution_count": 24,
   "id": "9b01e276-f946-40a0-a726-bf1dbdbfef55",
   "metadata": {},
   "outputs": [
    {
     "data": {
      "text/html": [
       "<div>\n",
       "<style scoped>\n",
       "    .dataframe tbody tr th:only-of-type {\n",
       "        vertical-align: middle;\n",
       "    }\n",
       "\n",
       "    .dataframe tbody tr th {\n",
       "        vertical-align: top;\n",
       "    }\n",
       "\n",
       "    .dataframe thead th {\n",
       "        text-align: right;\n",
       "    }\n",
       "</style>\n",
       "<table border=\"1\" class=\"dataframe\">\n",
       "  <thead>\n",
       "    <tr style=\"text-align: right;\">\n",
       "      <th></th>\n",
       "      <th>Month</th>\n",
       "      <th>Year</th>\n",
       "      <th>LenderA</th>\n",
       "      <th>LenderB</th>\n",
       "      <th>LenderC</th>\n",
       "      <th>LenderD</th>\n",
       "      <th>LenderE</th>\n",
       "      <th>LenderF</th>\n",
       "      <th>LenderG</th>\n",
       "      <th>LenderH</th>\n",
       "      <th>LenderI</th>\n",
       "      <th>LenderJ</th>\n",
       "      <th>LenderK</th>\n",
       "      <th>totalU</th>\n",
       "    </tr>\n",
       "    <tr>\n",
       "      <th>datetime</th>\n",
       "      <th></th>\n",
       "      <th></th>\n",
       "      <th></th>\n",
       "      <th></th>\n",
       "      <th></th>\n",
       "      <th></th>\n",
       "      <th></th>\n",
       "      <th></th>\n",
       "      <th></th>\n",
       "      <th></th>\n",
       "      <th></th>\n",
       "      <th></th>\n",
       "      <th></th>\n",
       "      <th></th>\n",
       "    </tr>\n",
       "  </thead>\n",
       "  <tbody>\n",
       "  </tbody>\n",
       "</table>\n",
       "</div>"
      ],
      "text/plain": [
       "Empty DataFrame\n",
       "Columns: [Month, Year, LenderA, LenderB, LenderC, LenderD, LenderE, LenderF, LenderG, LenderH, LenderI, LenderJ, LenderK, totalU]\n",
       "Index: []"
      ]
     },
     "execution_count": 24,
     "metadata": {},
     "output_type": "execute_result"
    }
   ],
   "source": [
    "# display the duplicated rows if there exist\n",
    "\n",
    "data[data.duplicated()]"
   ]
  },
  {
   "cell_type": "markdown",
   "id": "36a0e587-df4b-4ae4-a1e5-42d88c8992ef",
   "metadata": {},
   "source": [
    "### data visualization"
   ]
  },
  {
   "cell_type": "code",
   "execution_count": 37,
   "id": "ad02b9a2-9624-4795-b902-80e0fb5b8d9a",
   "metadata": {},
   "outputs": [],
   "source": [
    "def boxplot_annual_averge(df):\n",
    "\n",
    "    sns.set_style(\"whitegrid\")\n",
    "    fig, ax = plt.subplots(figsize=(8, 8))\n",
    "    ax = sns.boxplot(\n",
    "        data=df, \n",
    "        y='totalU', \n",
    "        x='Year', \n",
    "    )\n",
    "    ax.set_ylabel('Total Debts')\n",
    "    ax.yaxis.set_major_formatter('£{x:,.2f}')"
   ]
  },
  {
   "cell_type": "code",
   "execution_count": 38,
   "id": "3efa10a1-4092-4c4d-bb0f-e9ed82d33652",
   "metadata": {},
   "outputs": [
    {
     "data": {
      "image/png": "[encoded data removed]",
      "text/plain": [
       "<Figure size 800x800 with 1 Axes>"
      ]
     },
     "metadata": {},
     "output_type": "display_data"
    }
   ],
   "source": [
    "boxplot_annual_averge(data)"
   ]
  },
  {
   "cell_type": "code",
   "execution_count": 28,
   "id": "8270e7d9-3fb4-4c56-aa97-eba01f4292cf",
   "metadata": {},
   "outputs": [
    {
     "data": {
      "text/plain": [
       "(84, 14)"
      ]
     },
     "execution_count": 28,
     "metadata": {},
     "output_type": "execute_result"
    }
   ],
   "source": [
    "data.shape"
   ]
  },
  {
   "cell_type": "code",
   "execution_count": 42,
   "id": "c5f0ea51-e19e-41a4-8938-958cabdadb01",
   "metadata": {},
   "outputs": [],
   "source": [
    "# test the plotting func below using one month\n",
    "monthly_data = data[data['Year'] == 2013]"
   ]
  },
  {
   "cell_type": "code",
   "execution_count": 43,
   "id": "f7d4d3e2-4e69-4d75-a225-f1d33d3c7245",
   "metadata": {},
   "outputs": [
    {
     "data": {
      "text/html": [
       "<div>\n",
       "<style scoped>\n",
       "    .dataframe tbody tr th:only-of-type {\n",
       "        vertical-align: middle;\n",
       "    }\n",
       "\n",
       "    .dataframe tbody tr th {\n",
       "        vertical-align: top;\n",
       "    }\n",
       "\n",
       "    .dataframe thead th {\n",
       "        text-align: right;\n",
       "    }\n",
       "</style>\n",
       "<table border=\"1\" class=\"dataframe\">\n",
       "  <thead>\n",
       "    <tr style=\"text-align: right;\">\n",
       "      <th></th>\n",
       "      <th>Month</th>\n",
       "      <th>Year</th>\n",
       "      <th>LenderA</th>\n",
       "      <th>LenderB</th>\n",
       "      <th>LenderC</th>\n",
       "      <th>LenderD</th>\n",
       "      <th>LenderE</th>\n",
       "      <th>LenderF</th>\n",
       "      <th>LenderG</th>\n",
       "      <th>LenderH</th>\n",
       "      <th>LenderI</th>\n",
       "      <th>LenderJ</th>\n",
       "      <th>LenderK</th>\n",
       "      <th>totalU</th>\n",
       "    </tr>\n",
       "    <tr>\n",
       "      <th>datetime</th>\n",
       "      <th></th>\n",
       "      <th></th>\n",
       "      <th></th>\n",
       "      <th></th>\n",
       "      <th></th>\n",
       "      <th></th>\n",
       "      <th></th>\n",
       "      <th></th>\n",
       "      <th></th>\n",
       "      <th></th>\n",
       "      <th></th>\n",
       "      <th></th>\n",
       "      <th></th>\n",
       "      <th></th>\n",
       "    </tr>\n",
       "  </thead>\n",
       "  <tbody>\n",
       "    <tr>\n",
       "      <th>2013-10-13</th>\n",
       "      <td>10</td>\n",
       "      <td>2013</td>\n",
       "      <td>74349.0</td>\n",
       "      <td>70109.93</td>\n",
       "      <td>11477.84</td>\n",
       "      <td>4884</td>\n",
       "      <td>0.0</td>\n",
       "      <td>61763.24</td>\n",
       "      <td>0.0</td>\n",
       "      <td>0.0</td>\n",
       "      <td>2442.00</td>\n",
       "      <td>0.0</td>\n",
       "      <td>2981.00</td>\n",
       "      <td>228007.01</td>\n",
       "    </tr>\n",
       "    <tr>\n",
       "      <th>2013-11-13</th>\n",
       "      <td>11</td>\n",
       "      <td>2013</td>\n",
       "      <td>73535.0</td>\n",
       "      <td>66083.05</td>\n",
       "      <td>9607.84</td>\n",
       "      <td>5170</td>\n",
       "      <td>0.0</td>\n",
       "      <td>61763.24</td>\n",
       "      <td>2563.0</td>\n",
       "      <td>0.0</td>\n",
       "      <td>2422.09</td>\n",
       "      <td>0.0</td>\n",
       "      <td>6844.09</td>\n",
       "      <td>227988.31</td>\n",
       "    </tr>\n",
       "    <tr>\n",
       "      <th>2013-12-10</th>\n",
       "      <td>12</td>\n",
       "      <td>2013</td>\n",
       "      <td>71027.0</td>\n",
       "      <td>93500.00</td>\n",
       "      <td>14300.00</td>\n",
       "      <td>4950</td>\n",
       "      <td>0.0</td>\n",
       "      <td>59400.00</td>\n",
       "      <td>12232.0</td>\n",
       "      <td>0.0</td>\n",
       "      <td>2640.00</td>\n",
       "      <td>0.0</td>\n",
       "      <td>7150.00</td>\n",
       "      <td>265199.00</td>\n",
       "    </tr>\n",
       "  </tbody>\n",
       "</table>\n",
       "</div>"
      ],
      "text/plain": [
       "            Month  Year  LenderA   LenderB   LenderC  LenderD  LenderE  \\\n",
       "datetime                                                                 \n",
       "2013-10-13     10  2013  74349.0  70109.93  11477.84     4884      0.0   \n",
       "2013-11-13     11  2013  73535.0  66083.05   9607.84     5170      0.0   \n",
       "2013-12-10     12  2013  71027.0  93500.00  14300.00     4950      0.0   \n",
       "\n",
       "             LenderF  LenderG  LenderH  LenderI  LenderJ  LenderK     totalU  \n",
       "datetime                                                                      \n",
       "2013-10-13  61763.24      0.0      0.0  2442.00      0.0  2981.00  228007.01  \n",
       "2013-11-13  61763.24   2563.0      0.0  2422.09      0.0  6844.09  227988.31  \n",
       "2013-12-10  59400.00  12232.0      0.0  2640.00      0.0  7150.00  265199.00  "
      ]
     },
     "execution_count": 43,
     "metadata": {},
     "output_type": "execute_result"
    }
   ],
   "source": [
    "monthly_data"
   ]
  },
  {
   "cell_type": "code",
   "execution_count": 44,
   "id": "a0814dd2-150c-482c-90de-52d004e4ba55",
   "metadata": {},
   "outputs": [],
   "source": [
    "def year_average_plot(ax, df, title):\n",
    "\n",
    "    # plotting style\n",
    "    ax.plot(df.Month, \n",
    "            df.totalU, \n",
    "            color='black', \n",
    "            marker='o', \n",
    "            linestyle='-',\n",
    "            linewidth=2, \n",
    "            mfc = 'salmon',\n",
    "            mec = None,\n",
    "            markersize=8,\n",
    "           )\n",
    "    ax.grid(which='both')\n",
    "    ax.set_title(f'{title}')\n",
    "    \n",
    "    # x-axis formatting\n",
    "    ax.set_xlim(0, 13)\n",
    "    ax.xaxis.set_major_locator(\n",
    "        mpl.ticker.FixedLocator(np.arange(1,13)))\n",
    "    \n",
    "    # y-axis formatting\n",
    "    ax.set_ylim(200000, 800000)\n",
    "    ax.yaxis.set_major_locator(\n",
    "        mpl.ticker.FixedLocator(\n",
    "            [300000, 400000, 500000, 600000, 700000]))\n",
    "    ax.yaxis.set_major_formatter('£{x:,.2f}')\n",
    "    ax.yaxis.set_minor_locator(\n",
    "        mpl.ticker.AutoMinorLocator(n=2))\n"
   ]
  },
  {
   "cell_type": "code",
   "execution_count": 45,
   "id": "b0f83273-0bd3-4e1d-9045-09f44cd57ea1",
   "metadata": {},
   "outputs": [
    {
     "data": {
      "image/png": "[encoded data removed]",
      "text/plain": [
       "<Figure size 640x480 with 1 Axes>"
      ]
     },
     "metadata": {},
     "output_type": "display_data"
    }
   ],
   "source": [
    "fig, ax = plt.subplots()\n",
    "year_average_plot(ax, monthly_data, title='2013')"
   ]
  },
  {
   "cell_type": "code",
   "execution_count": 46,
   "id": "1d93ebae-2221-4dbf-80d7-0eb2dbf2d529",
   "metadata": {},
   "outputs": [
    {
     "data": {
      "image/png": "[encoded data removed]",
      "text/plain": [
       "<Figure size 1200x1200 with 11 Axes>"
      ]
     },
     "metadata": {},
     "output_type": "display_data"
    }
   ],
   "source": [
    "fig, axs = plt.subplots(\n",
    "    nrows=3, ncols=4, \n",
    "    sharex=True, sharey=True,\n",
    "    layout=\"constrained\",\n",
    "    figsize=(12, 12))\n",
    "\n",
    "monthly_data_gen = (data[data['Year'] == year] for year in range(2013, 2024))\n",
    "year_gen = iter(range(2013, 2024))\n",
    "    \n",
    "for row in range(4):\n",
    "    for col in range(4):\n",
    "        try: \n",
    "            year_average_plot(ax=axs[row, col], df=next(monthly_data_gen), title=next(year_gen))\n",
    "        except Exception:\n",
    "            pass\n",
    "        \n",
    "fig.delaxes(axs[2][3])\n",
    "plt.show()"
   ]
  },
  {
   "cell_type": "code",
   "execution_count": 47,
   "id": "601a0866-a519-47fb-b8f9-e8be2b4ecab6",
   "metadata": {},
   "outputs": [
    {
     "data": {
      "image/png": "[encoded data removed]",
      "text/plain": [
       "<Figure size 1000x400 with 1 Axes>"
      ]
     },
     "metadata": {},
     "output_type": "display_data"
    }
   ],
   "source": [
    "fig, ax  = plt.subplots(figsize=(10, 4))\n",
    "ax.plot(data.index, data['totalU'], 'k-x')\n",
    "ax.yaxis.set_major_formatter('£{x:,.2f}')"
   ]
  },
  {
   "cell_type": "markdown",
   "id": "06c644c0-2e41-4fc6-a61e-1759937c3cbd",
   "metadata": {
    "tags": []
   },
   "source": [
    "# Modelling"
   ]
  },
  {
   "cell_type": "code",
   "execution_count": null,
   "id": "47d9bdfe-93a9-42ad-b719-197d40bf326a",
   "metadata": {},
   "outputs": [],
   "source": [
    "## GP modelling"
   ]
  },
  {
   "cell_type": "code",
   "execution_count": 48,
   "id": "de7536bd-426e-4066-91e4-344a6d2d1048",
   "metadata": {},
   "outputs": [
    {
     "data": {
      "text/html": [
       "<div>\n",
       "<style scoped>\n",
       "    .dataframe tbody tr th:only-of-type {\n",
       "        vertical-align: middle;\n",
       "    }\n",
       "\n",
       "    .dataframe tbody tr th {\n",
       "        vertical-align: top;\n",
       "    }\n",
       "\n",
       "    .dataframe thead th {\n",
       "        text-align: right;\n",
       "    }\n",
       "</style>\n",
       "<table border=\"1\" class=\"dataframe\">\n",
       "  <thead>\n",
       "    <tr style=\"text-align: right;\">\n",
       "      <th></th>\n",
       "      <th>Month</th>\n",
       "      <th>Year</th>\n",
       "      <th>LenderA</th>\n",
       "      <th>LenderB</th>\n",
       "      <th>LenderC</th>\n",
       "      <th>LenderD</th>\n",
       "      <th>LenderE</th>\n",
       "      <th>LenderF</th>\n",
       "      <th>LenderG</th>\n",
       "      <th>LenderH</th>\n",
       "      <th>LenderI</th>\n",
       "      <th>LenderJ</th>\n",
       "      <th>LenderK</th>\n",
       "      <th>totalU</th>\n",
       "    </tr>\n",
       "    <tr>\n",
       "      <th>datetime</th>\n",
       "      <th></th>\n",
       "      <th></th>\n",
       "      <th></th>\n",
       "      <th></th>\n",
       "      <th></th>\n",
       "      <th></th>\n",
       "      <th></th>\n",
       "      <th></th>\n",
       "      <th></th>\n",
       "      <th></th>\n",
       "      <th></th>\n",
       "      <th></th>\n",
       "      <th></th>\n",
       "      <th></th>\n",
       "    </tr>\n",
       "  </thead>\n",
       "  <tbody>\n",
       "    <tr>\n",
       "      <th>2013-10-13</th>\n",
       "      <td>10</td>\n",
       "      <td>2013</td>\n",
       "      <td>74349.0</td>\n",
       "      <td>70109.93</td>\n",
       "      <td>11477.84</td>\n",
       "      <td>4884</td>\n",
       "      <td>0.0</td>\n",
       "      <td>61763.24</td>\n",
       "      <td>0.0</td>\n",
       "      <td>0.0</td>\n",
       "      <td>2442.00</td>\n",
       "      <td>0.0</td>\n",
       "      <td>2981.00</td>\n",
       "      <td>228007.01</td>\n",
       "    </tr>\n",
       "    <tr>\n",
       "      <th>2013-11-13</th>\n",
       "      <td>11</td>\n",
       "      <td>2013</td>\n",
       "      <td>73535.0</td>\n",
       "      <td>66083.05</td>\n",
       "      <td>9607.84</td>\n",
       "      <td>5170</td>\n",
       "      <td>0.0</td>\n",
       "      <td>61763.24</td>\n",
       "      <td>2563.0</td>\n",
       "      <td>0.0</td>\n",
       "      <td>2422.09</td>\n",
       "      <td>0.0</td>\n",
       "      <td>6844.09</td>\n",
       "      <td>227988.31</td>\n",
       "    </tr>\n",
       "    <tr>\n",
       "      <th>2013-12-10</th>\n",
       "      <td>12</td>\n",
       "      <td>2013</td>\n",
       "      <td>71027.0</td>\n",
       "      <td>93500.00</td>\n",
       "      <td>14300.00</td>\n",
       "      <td>4950</td>\n",
       "      <td>0.0</td>\n",
       "      <td>59400.00</td>\n",
       "      <td>12232.0</td>\n",
       "      <td>0.0</td>\n",
       "      <td>2640.00</td>\n",
       "      <td>0.0</td>\n",
       "      <td>7150.00</td>\n",
       "      <td>265199.00</td>\n",
       "    </tr>\n",
       "    <tr>\n",
       "      <th>2014-01-23</th>\n",
       "      <td>1</td>\n",
       "      <td>2014</td>\n",
       "      <td>0.0</td>\n",
       "      <td>15741.00</td>\n",
       "      <td>14300.00</td>\n",
       "      <td>3300</td>\n",
       "      <td>262944.0</td>\n",
       "      <td>0.00</td>\n",
       "      <td>3168.0</td>\n",
       "      <td>0.0</td>\n",
       "      <td>0.00</td>\n",
       "      <td>0.0</td>\n",
       "      <td>0.00</td>\n",
       "      <td>299453.00</td>\n",
       "    </tr>\n",
       "    <tr>\n",
       "      <th>2014-03-05</th>\n",
       "      <td>3</td>\n",
       "      <td>2014</td>\n",
       "      <td>0.0</td>\n",
       "      <td>14850.00</td>\n",
       "      <td>13200.00</td>\n",
       "      <td>3476</td>\n",
       "      <td>254177.0</td>\n",
       "      <td>0.00</td>\n",
       "      <td>4400.0</td>\n",
       "      <td>0.0</td>\n",
       "      <td>0.00</td>\n",
       "      <td>0.0</td>\n",
       "      <td>0.00</td>\n",
       "      <td>290103.00</td>\n",
       "    </tr>\n",
       "  </tbody>\n",
       "</table>\n",
       "</div>"
      ],
      "text/plain": [
       "            Month  Year  LenderA   LenderB   LenderC  LenderD   LenderE  \\\n",
       "datetime                                                                  \n",
       "2013-10-13     10  2013  74349.0  70109.93  11477.84     4884       0.0   \n",
       "2013-11-13     11  2013  73535.0  66083.05   9607.84     5170       0.0   \n",
       "2013-12-10     12  2013  71027.0  93500.00  14300.00     4950       0.0   \n",
       "2014-01-23      1  2014      0.0  15741.00  14300.00     3300  262944.0   \n",
       "2014-03-05      3  2014      0.0  14850.00  13200.00     3476  254177.0   \n",
       "\n",
       "             LenderF  LenderG  LenderH  LenderI  LenderJ  LenderK     totalU  \n",
       "datetime                                                                      \n",
       "2013-10-13  61763.24      0.0      0.0  2442.00      0.0  2981.00  228007.01  \n",
       "2013-11-13  61763.24   2563.0      0.0  2422.09      0.0  6844.09  227988.31  \n",
       "2013-12-10  59400.00  12232.0      0.0  2640.00      0.0  7150.00  265199.00  \n",
       "2014-01-23      0.00   3168.0      0.0     0.00      0.0     0.00  299453.00  \n",
       "2014-03-05      0.00   4400.0      0.0     0.00      0.0     0.00  290103.00  "
      ]
     },
     "execution_count": 48,
     "metadata": {},
     "output_type": "execute_result"
    }
   ],
   "source": [
    "data.head()"
   ]
  },
  {
   "cell_type": "code",
   "execution_count": 49,
   "id": "4353f476-dc58-48ff-8f11-030cf9ac194b",
   "metadata": {},
   "outputs": [
    {
     "data": {
      "text/html": [
       "<div>\n",
       "<style scoped>\n",
       "    .dataframe tbody tr th:only-of-type {\n",
       "        vertical-align: middle;\n",
       "    }\n",
       "\n",
       "    .dataframe tbody tr th {\n",
       "        vertical-align: top;\n",
       "    }\n",
       "\n",
       "    .dataframe thead th {\n",
       "        text-align: right;\n",
       "    }\n",
       "</style>\n",
       "<table border=\"1\" class=\"dataframe\">\n",
       "  <thead>\n",
       "    <tr style=\"text-align: right;\">\n",
       "      <th></th>\n",
       "      <th>Month</th>\n",
       "      <th>Year</th>\n",
       "      <th>LenderA</th>\n",
       "      <th>LenderB</th>\n",
       "      <th>LenderC</th>\n",
       "      <th>LenderD</th>\n",
       "      <th>LenderE</th>\n",
       "      <th>LenderF</th>\n",
       "      <th>LenderG</th>\n",
       "      <th>LenderH</th>\n",
       "      <th>LenderI</th>\n",
       "      <th>LenderJ</th>\n",
       "      <th>LenderK</th>\n",
       "      <th>totalU</th>\n",
       "    </tr>\n",
       "    <tr>\n",
       "      <th>datetime</th>\n",
       "      <th></th>\n",
       "      <th></th>\n",
       "      <th></th>\n",
       "      <th></th>\n",
       "      <th></th>\n",
       "      <th></th>\n",
       "      <th></th>\n",
       "      <th></th>\n",
       "      <th></th>\n",
       "      <th></th>\n",
       "      <th></th>\n",
       "      <th></th>\n",
       "      <th></th>\n",
       "      <th></th>\n",
       "    </tr>\n",
       "  </thead>\n",
       "  <tbody>\n",
       "    <tr>\n",
       "      <th>2022-11-28</th>\n",
       "      <td>11</td>\n",
       "      <td>2022</td>\n",
       "      <td>28369.0</td>\n",
       "      <td>115775.0</td>\n",
       "      <td>0.0</td>\n",
       "      <td>0</td>\n",
       "      <td>245740.0</td>\n",
       "      <td>22638.0</td>\n",
       "      <td>62084.00</td>\n",
       "      <td>104335.00</td>\n",
       "      <td>14025.0</td>\n",
       "      <td>19800.0</td>\n",
       "      <td>0.0</td>\n",
       "      <td>612766.00</td>\n",
       "    </tr>\n",
       "    <tr>\n",
       "      <th>2023-02-05</th>\n",
       "      <td>2</td>\n",
       "      <td>2023</td>\n",
       "      <td>26774.0</td>\n",
       "      <td>108064.0</td>\n",
       "      <td>0.0</td>\n",
       "      <td>0</td>\n",
       "      <td>234740.0</td>\n",
       "      <td>15125.0</td>\n",
       "      <td>57772.00</td>\n",
       "      <td>98703.00</td>\n",
       "      <td>8800.0</td>\n",
       "      <td>15400.0</td>\n",
       "      <td>0.0</td>\n",
       "      <td>565378.00</td>\n",
       "    </tr>\n",
       "    <tr>\n",
       "      <th>2023-03-05</th>\n",
       "      <td>3</td>\n",
       "      <td>2023</td>\n",
       "      <td>26202.0</td>\n",
       "      <td>104225.0</td>\n",
       "      <td>0.0</td>\n",
       "      <td>0</td>\n",
       "      <td>231077.0</td>\n",
       "      <td>11352.0</td>\n",
       "      <td>56826.00</td>\n",
       "      <td>95810.00</td>\n",
       "      <td>5500.0</td>\n",
       "      <td>13200.0</td>\n",
       "      <td>0.0</td>\n",
       "      <td>544192.00</td>\n",
       "    </tr>\n",
       "    <tr>\n",
       "      <th>2023-04-05</th>\n",
       "      <td>4</td>\n",
       "      <td>2023</td>\n",
       "      <td>25432.0</td>\n",
       "      <td>100375.0</td>\n",
       "      <td>0.0</td>\n",
       "      <td>0</td>\n",
       "      <td>227403.0</td>\n",
       "      <td>7579.0</td>\n",
       "      <td>54618.08</td>\n",
       "      <td>92689.96</td>\n",
       "      <td>0.0</td>\n",
       "      <td>11000.0</td>\n",
       "      <td>0.0</td>\n",
       "      <td>519097.04</td>\n",
       "    </tr>\n",
       "    <tr>\n",
       "      <th>2023-05-05</th>\n",
       "      <td>5</td>\n",
       "      <td>2023</td>\n",
       "      <td>24893.0</td>\n",
       "      <td>95975.0</td>\n",
       "      <td>0.0</td>\n",
       "      <td>0</td>\n",
       "      <td>223729.0</td>\n",
       "      <td>3773.0</td>\n",
       "      <td>51876.00</td>\n",
       "      <td>89023.00</td>\n",
       "      <td>0.0</td>\n",
       "      <td>8800.0</td>\n",
       "      <td>0.0</td>\n",
       "      <td>498069.00</td>\n",
       "    </tr>\n",
       "  </tbody>\n",
       "</table>\n",
       "</div>"
      ],
      "text/plain": [
       "            Month  Year  LenderA   LenderB  LenderC  LenderD   LenderE  \\\n",
       "datetime                                                                 \n",
       "2022-11-28     11  2022  28369.0  115775.0      0.0        0  245740.0   \n",
       "2023-02-05      2  2023  26774.0  108064.0      0.0        0  234740.0   \n",
       "2023-03-05      3  2023  26202.0  104225.0      0.0        0  231077.0   \n",
       "2023-04-05      4  2023  25432.0  100375.0      0.0        0  227403.0   \n",
       "2023-05-05      5  2023  24893.0   95975.0      0.0        0  223729.0   \n",
       "\n",
       "            LenderF   LenderG    LenderH  LenderI  LenderJ  LenderK     totalU  \n",
       "datetime                                                                        \n",
       "2022-11-28  22638.0  62084.00  104335.00  14025.0  19800.0      0.0  612766.00  \n",
       "2023-02-05  15125.0  57772.00   98703.00   8800.0  15400.0      0.0  565378.00  \n",
       "2023-03-05  11352.0  56826.00   95810.00   5500.0  13200.0      0.0  544192.00  \n",
       "2023-04-05   7579.0  54618.08   92689.96      0.0  11000.0      0.0  519097.04  \n",
       "2023-05-05   3773.0  51876.00   89023.00      0.0   8800.0      0.0  498069.00  "
      ]
     },
     "execution_count": 49,
     "metadata": {},
     "output_type": "execute_result"
    }
   ],
   "source": [
    "data.tail()"
   ]
  },
  {
   "cell_type": "code",
   "execution_count": 50,
   "id": "5700a0c0-1e00-46e0-ad21-d008426dc80b",
   "metadata": {},
   "outputs": [],
   "source": [
    "# def transform_X(df):\n",
    "#     \"\"\" from date format into numeric format \"\"\"\n",
    "#     return (df.index.year + df.index.month / 12).to_numpy().reshape(-1, 1)"
   ]
  },
  {
   "cell_type": "code",
   "execution_count": 51,
   "id": "8e69904a-083a-4f6f-9e1f-7c20e4b1521e",
   "metadata": {},
   "outputs": [],
   "source": [
    "def prepare_training_data(df):\n",
    "\n",
    "    y = data[['totalU']].to_numpy().reshape(-1, 1)\n",
    "    y = y - y.mean()\n",
    "    X = (df.index.year + df.index.month / 12).to_numpy().reshape(-1, 1)\n",
    "    \n",
    "    # change unit to million\n",
    "    y = y / 1000_000\n",
    "    \n",
    "    return X, y"
   ]
  },
  {
   "cell_type": "code",
   "execution_count": 52,
   "id": "ffc80b2a-a05a-44d3-b499-c0945f984fa5",
   "metadata": {},
   "outputs": [],
   "source": [
    "X, y = prepare_training_data(data)"
   ]
  },
  {
   "cell_type": "code",
   "execution_count": 53,
   "id": "10184fc2-6b5a-404f-bcf3-b535852bf825",
   "metadata": {},
   "outputs": [
    {
     "data": {
      "text/plain": [
       "(84, 1)"
      ]
     },
     "execution_count": 53,
     "metadata": {},
     "output_type": "execute_result"
    }
   ],
   "source": [
    "X.shape"
   ]
  },
  {
   "cell_type": "code",
   "execution_count": 54,
   "id": "0c18dac6-c3dc-4a1a-bd97-b6975a2ea89f",
   "metadata": {},
   "outputs": [
    {
     "data": {
      "text/plain": [
       "(84, 1)"
      ]
     },
     "execution_count": 54,
     "metadata": {},
     "output_type": "execute_result"
    }
   ],
   "source": [
    "y.shape"
   ]
  },
  {
   "cell_type": "code",
   "execution_count": 55,
   "id": "78098bd8-3992-4575-aa6b-f466449e3ff9",
   "metadata": {},
   "outputs": [
    {
     "data": {
      "text/plain": [
       "array([[-0.23742403],\n",
       "       [-0.23744273],\n",
       "       [-0.20023204],\n",
       "       [-0.16597804],\n",
       "       [-0.17532804],\n",
       "       [-0.16109404],\n",
       "       [-0.17180804],\n",
       "       [-0.15784904],\n",
       "       [-0.17785804],\n",
       "       [-0.15291004]])"
      ]
     },
     "execution_count": 55,
     "metadata": {},
     "output_type": "execute_result"
    }
   ],
   "source": [
    "y[:10]"
   ]
  },
  {
   "cell_type": "code",
   "execution_count": 56,
   "id": "4d4829aa-8c19-4f37-9767-d9d21d8391d3",
   "metadata": {},
   "outputs": [],
   "source": [
    "today = datetime.datetime.now()\n",
    "current_month = today.year + today.month / 12"
   ]
  },
  {
   "cell_type": "code",
   "execution_count": 57,
   "id": "a0f73f69-fca0-4475-869b-ba1b0d846b63",
   "metadata": {},
   "outputs": [],
   "source": [
    "# the start month of the observation\n",
    "\n",
    "start = data.index.min()\n",
    "start_month = start.year + start.month / 12"
   ]
  },
  {
   "cell_type": "code",
   "execution_count": 58,
   "id": "cebf0d86-e531-467c-8a58-65ada00dd94e",
   "metadata": {},
   "outputs": [],
   "source": [
    "# the last month of the observation\n",
    "\n",
    "last = data.index.max()\n",
    "last_month = last.year + last.month / 12"
   ]
  },
  {
   "cell_type": "code",
   "execution_count": 59,
   "id": "b9527cf0-0357-4096-bce5-105ef587bcc7",
   "metadata": {},
   "outputs": [],
   "source": [
    "X_test = np.linspace(start=start_month, stop=current_month, num=200).reshape(-1, 1)"
   ]
  },
  {
   "cell_type": "code",
   "execution_count": 60,
   "id": "0725652e-6a62-401f-8a68-fe90c4c3be89",
   "metadata": {},
   "outputs": [
    {
     "data": {
      "text/plain": [
       "(200, 1)"
      ]
     },
     "execution_count": 60,
     "metadata": {},
     "output_type": "execute_result"
    }
   ],
   "source": [
    "X_test.shape"
   ]
  },
  {
   "cell_type": "markdown",
   "id": "eb1988e8-c790-45f3-a1df-232c54424027",
   "metadata": {
    "tags": []
   },
   "source": [
    "### GP modelling"
   ]
  },
  {
   "cell_type": "markdown",
   "id": "6042a5c8-1d8c-4c5a-9f26-4bb387e20808",
   "metadata": {
    "tags": []
   },
   "source": [
    "#### gpflow implementation"
   ]
  },
  {
   "cell_type": "code",
   "execution_count": 61,
   "id": "7359da2c-1e4a-4660-8752-7c9fc4ac1c9c",
   "metadata": {},
   "outputs": [],
   "source": [
    "import gpflow"
   ]
  },
  {
   "cell_type": "code",
   "execution_count": 62,
   "id": "6eca179d-89da-4be9-a826-788fc4882250",
   "metadata": {},
   "outputs": [
    {
     "name": "stderr",
     "output_type": "stream",
     "text": [
      "2023-11-14 22:11:02.656950: I tensorflow/core/platform/cpu_feature_guard.cc:193] This TensorFlow binary is optimized with oneAPI Deep Neural Network Library (oneDNN) to use the following CPU instructions in performance-critical operations:  AVX2 FMA\n",
      "To enable them in other operations, rebuild TensorFlow with the appropriate compiler flags.\n",
      "2023-11-14 22:11:04.927412: I tensorflow/core/common_runtime/gpu/gpu_device.cc:1616] Created device /job:localhost/replica:0/task:0/device:GPU:0 with 10771 MB memory:  -> device: 0, name: Tesla K80, pci bus id: 0000:04:00.0, compute capability: 3.7\n",
      "2023-11-14 22:11:04.928842: I tensorflow/core/common_runtime/gpu/gpu_device.cc:1616] Created device /job:localhost/replica:0/task:0/device:GPU:1 with 10787 MB memory:  -> device: 1, name: Tesla K80, pci bus id: 0000:05:00.0, compute capability: 3.7\n",
      "2023-11-14 22:11:04.930089: I tensorflow/core/common_runtime/gpu/gpu_device.cc:1616] Created device /job:localhost/replica:0/task:0/device:GPU:2 with 10787 MB memory:  -> device: 2, name: Tesla K80, pci bus id: 0000:84:00.0, compute capability: 3.7\n",
      "2023-11-14 22:11:04.931366: I tensorflow/core/common_runtime/gpu/gpu_device.cc:1616] Created device /job:localhost/replica:0/task:0/device:GPU:3 with 10787 MB memory:  -> device: 3, name: Tesla K80, pci bus id: 0000:85:00.0, compute capability: 3.7\n",
      "2023-11-14 22:11:08.124999: I tensorflow/core/util/cuda_solvers.cc:179] Creating GpuSolver handles for stream 0x55fc4f464720\n"
     ]
    },
    {
     "data": {
      "text/plain": [
       "  message: ABNORMAL_TERMINATION_IN_LNSRCH\n",
       "  success: False\n",
       "   status: 2\n",
       "      fun: -140.61174550233284\n",
       "        x: [-1.173e-01 -4.115e+00  6.518e-01  1.042e-02 -7.218e+00\n",
       "            -7.027e+00]\n",
       "      nit: 40\n",
       "      jac: [ 6.062e-03 -2.741e-03 -4.476e-03 -2.540e-04  2.639e-04\n",
       "             7.268e-04]\n",
       "     nfev: 93\n",
       "     njev: 93\n",
       " hess_inv: <6x6 LbfgsInvHessProduct with dtype=float64>"
      ]
     },
     "execution_count": 62,
     "metadata": {},
     "output_type": "execute_result"
    }
   ],
   "source": [
    "# get the zero-mean process\n",
    "model = gpflow.models.GPR(\n",
    "    (X, y),\n",
    "    kernel=gpflow.kernels.SquaredExponential()\n",
    "    + gpflow.kernels.Periodic(gpflow.kernels.SquaredExponential(), period=1.0),\n",
    "    # likelihood=gpflow.likelihoods.Gaussian(scale=gpflow.functions.Polynomial(degree=2)),\n",
    "    # noise_variance = 10_000,\n",
    ")\n",
    "\n",
    "opt = gpflow.optimizers.Scipy()\n",
    "opt.minimize(model.training_loss, model.trainable_variables)"
   ]
  },
  {
   "cell_type": "code",
   "execution_count": 63,
   "id": "5295f272-47dc-4f3c-a15a-a55bce99246d",
   "metadata": {},
   "outputs": [
    {
     "data": {
      "text/html": [
       "<table>\n",
       "<thead>\n",
       "<tr><th>name                                          </th><th>class    </th><th>transform       </th><th>prior  </th><th>trainable  </th><th>shape  </th><th>dtype  </th><th style=\"text-align: right;\">  value</th></tr>\n",
       "</thead>\n",
       "<tbody>\n",
       "<tr><td>GPR.kernel.kernels[0].variance                </td><td>Parameter</td><td>Softplus        </td><td>       </td><td>True       </td><td>()     </td><td>float64</td><td style=\"text-align: right;\">0.0162 </td></tr>\n",
       "<tr><td>GPR.kernel.kernels[0].lengthscales            </td><td>Parameter</td><td>Softplus        </td><td>       </td><td>True       </td><td>()     </td><td>float64</td><td style=\"text-align: right;\">0.63621</td></tr>\n",
       "<tr><td>GPR.kernel.kernels[1].base_kernel.variance    </td><td>Parameter</td><td>Softplus        </td><td>       </td><td>True       </td><td>()     </td><td>float64</td><td style=\"text-align: right;\">0.00073</td></tr>\n",
       "<tr><td>GPR.kernel.kernels[1].base_kernel.lengthscales</td><td>Parameter</td><td>Softplus        </td><td>       </td><td>True       </td><td>()     </td><td>float64</td><td style=\"text-align: right;\">0.69837</td></tr>\n",
       "<tr><td>GPR.kernel.kernels[1].period                  </td><td>Parameter</td><td>Softplus        </td><td>       </td><td>True       </td><td>()     </td><td>float64</td><td style=\"text-align: right;\">1.07125</td></tr>\n",
       "<tr><td>GPR.likelihood.variance                       </td><td>Parameter</td><td>Softplus + Shift</td><td>       </td><td>True       </td><td>()     </td><td>float64</td><td style=\"text-align: right;\">0.00089</td></tr>\n",
       "</tbody>\n",
       "</table>"
      ],
      "text/plain": [
       "<IPython.core.display.HTML object>"
      ]
     },
     "metadata": {},
     "output_type": "display_data"
    }
   ],
   "source": [
    "gpflow.utilities.print_summary(model, \"notebook\")"
   ]
  },
  {
   "cell_type": "code",
   "execution_count": 64,
   "id": "4a73c2e9-9b23-4693-b810-93c8710d0610",
   "metadata": {},
   "outputs": [],
   "source": [
    "f_mean, f_var = model.predict_f(X_test, full_cov=False)"
   ]
  },
  {
   "cell_type": "code",
   "execution_count": 65,
   "id": "521dcc36-fa4c-474c-b456-e5013e0722a9",
   "metadata": {},
   "outputs": [],
   "source": [
    "f_lower = f_mean - 1.96 * np.sqrt(f_var)\n",
    "f_upper = f_mean + 1.96 * np.sqrt(f_var)"
   ]
  },
  {
   "cell_type": "code",
   "execution_count": 66,
   "id": "5431000e-3137-4d24-9aa6-ebb9147af800",
   "metadata": {},
   "outputs": [],
   "source": [
    "y_mean, y_var = model.predict_y(X_test)"
   ]
  },
  {
   "cell_type": "code",
   "execution_count": 67,
   "id": "8abba28b-f7bd-4e0a-a8d2-7b5b0c6580f7",
   "metadata": {},
   "outputs": [],
   "source": [
    "# f_mean"
   ]
  },
  {
   "cell_type": "code",
   "execution_count": 68,
   "id": "3a86db5d-bdc2-411d-89d8-0ef7344c1fe4",
   "metadata": {},
   "outputs": [],
   "source": [
    "# y_var"
   ]
  },
  {
   "cell_type": "code",
   "execution_count": 69,
   "id": "dfb53a08-301a-4851-b0ea-889ab6cbd3bd",
   "metadata": {},
   "outputs": [],
   "source": [
    "y_lower = y_mean - 1.96 * np.sqrt(y_var)\n",
    "y_upper = y_mean + 1.96 * np.sqrt(y_var)"
   ]
  },
  {
   "cell_type": "code",
   "execution_count": 70,
   "id": "cfdb7303-bccf-40e3-a68f-a47fc51a5b34",
   "metadata": {},
   "outputs": [
    {
     "data": {
      "text/plain": [
       "<matplotlib.legend.Legend at 0x7fbb7e89eec0>"
      ]
     },
     "execution_count": 70,
     "metadata": {},
     "output_type": "execute_result"
    },
    {
     "data": {
      "image/png": "[encoded data removed]",
      "text/plain": [
       "<Figure size 1000x400 with 1 Axes>"
      ]
     },
     "metadata": {},
     "output_type": "display_data"
    }
   ],
   "source": [
    "fig, ax = plt.subplots(figsize=(10, 4))\n",
    "\n",
    "# ground truth\n",
    "ax.plot(X, y, color=\"green\", label=\"observation\", ls='',\n",
    "         marker='x', ms=5, mew=1.5,\n",
    "         mec = 'coral', mfc = 'coral')\n",
    "\n",
    "# mean function\n",
    "ax.plot(X_test, f_mean, \"-\", color=\"C0\", label=\"mean\", zorder=10)\n",
    "\n",
    "# plt.plot(X_test, y_lower, \".\", color=\"C0\", label=\"Y 95% confidence\")\n",
    "# plt.plot(X_test, y_upper, \".\", color=\"C0\")\n",
    "ax.fill_between(\n",
    "    X_test[:, 0], y_lower[:, 0], y_upper[:, 0], color=\"lightblue\", alpha=0.2\n",
    ")\n",
    "\n",
    "ax.axvline(x=last_month, ymin=0, ymax=1, c='purple', ls='--', label='train/test split')\n",
    "ax.grid(ls=':')\n",
    "ax.legend()"
   ]
  },
  {
   "cell_type": "markdown",
   "id": "67091cb4-8a89-45ac-b6b5-10dfa66c27eb",
   "metadata": {
    "jp-MarkdownHeadingCollapsed": true,
    "tags": []
   },
   "source": [
    "#### SciLearn implementation"
   ]
  },
  {
   "cell_type": "code",
   "execution_count": null,
   "id": "08bd54f4-0c0d-4185-a859-c0092193821b",
   "metadata": {},
   "outputs": [],
   "source": [
    "from sklearn.gaussian_process import GaussianProcessRegressor\n",
    "from sklearn.gaussian_process.kernels import RBF"
   ]
  },
  {
   "cell_type": "code",
   "execution_count": null,
   "id": "bfe47d62-3e56-4978-a135-c01d776b591a",
   "metadata": {},
   "outputs": [],
   "source": [
    "kernel = 1 * RBF()\n",
    "gaussian_process = GaussianProcessRegressor(kernel=kernel, n_restarts_optimizer=9)"
   ]
  },
  {
   "cell_type": "code",
   "execution_count": null,
   "id": "5cb3c7b7-df0c-4345-a0c5-621b917f53e3",
   "metadata": {},
   "outputs": [],
   "source": [
    "gaussian_process.fit(X, y)"
   ]
  },
  {
   "cell_type": "code",
   "execution_count": null,
   "id": "ebfa12e4-bc51-45fd-95f3-dd59eaaebcc1",
   "metadata": {},
   "outputs": [],
   "source": [
    "mean_prediction, std_prediction = gaussian_process.predict(X_test, return_std=True)"
   ]
  },
  {
   "cell_type": "code",
   "execution_count": null,
   "id": "57f55342-8011-4793-abdc-237033396a48",
   "metadata": {},
   "outputs": [],
   "source": [
    "plt.figure(figsize=(10, 4))\n",
    "plt.plot(X, y, color=\"black\", linestyle=\"dashed\", label=\"gt\", marker='.')\n",
    "\n",
    "plt.plot(X_test, mean_prediction, label=\"Mean prediction\")\n",
    "\n",
    "plt.fill_between(\n",
    "    X_test.ravel(),\n",
    "    mean_prediction - 1.96 * std_prediction,\n",
    "    mean_prediction + 1.96 * std_prediction,\n",
    "    color=\"tab:orange\",\n",
    "    alpha=0.5,\n",
    "    label=r\"95% confidence interval\",\n",
    ")\n",
    "\n",
    "plt.show()"
   ]
  },
  {
   "cell_type": "code",
   "execution_count": null,
   "id": "febe85af-7fbc-438f-8d49-72e8d7ccd1dd",
   "metadata": {},
   "outputs": [],
   "source": []
  },
  {
   "cell_type": "code",
   "execution_count": null,
   "id": "3c06e527-5b88-4bb7-9c2a-4f5abd92677e",
   "metadata": {},
   "outputs": [],
   "source": []
  },
  {
   "cell_type": "code",
   "execution_count": null,
   "id": "e40c96b5-bd87-4ff2-ad12-18e5dcbf5371",
   "metadata": {},
   "outputs": [],
   "source": []
  },
  {
   "cell_type": "code",
   "execution_count": null,
   "id": "8cf31eda-bd30-4ebc-b57a-e5430adb3797",
   "metadata": {},
   "outputs": [],
   "source": []
  },
  {
   "cell_type": "code",
   "execution_count": null,
   "id": "2d3cd720-b162-47b7-bd42-181ea26650d7",
   "metadata": {},
   "outputs": [],
   "source": []
  },
  {
   "cell_type": "markdown",
   "id": "48ed1548-057f-4006-9e0f-162fac83d837",
   "metadata": {
    "jp-MarkdownHeadingCollapsed": true,
    "tags": []
   },
   "source": [
    "### Bayesian NN "
   ]
  },
  {
   "cell_type": "code",
   "execution_count": null,
   "id": "ade13248-edad-4ceb-bdf7-d33b03bdef82",
   "metadata": {},
   "outputs": [],
   "source": [
    "x_train = X\n",
    "y_train = y"
   ]
  },
  {
   "cell_type": "code",
   "execution_count": null,
   "id": "863a369b-e109-4fbe-b532-3991c29a37ad",
   "metadata": {},
   "outputs": [],
   "source": [
    "plt.figure(figsize=(10, 4))\n",
    "plt.scatter(x_train, y_train, alpha=0.2)\n",
    "plt.show()"
   ]
  },
  {
   "cell_type": "code",
   "execution_count": null,
   "id": "1370b552-e907-43f6-8071-2abfd7e30258",
   "metadata": {},
   "outputs": [],
   "source": [
    "def build_and_compile_model():\n",
    "    model = keras.Sequential([\n",
    "      layers.Dense(64, activation='sigmoid'),\n",
    "      layers.Dense(128, activation='sigmoid'),\n",
    "      layers.Dense(1)\n",
    "    ])\n",
    "\n",
    "    model.compile(loss='mse',\n",
    "                optimizer=tf.keras.optimizers.Adam(learning_rate=0.1))\n",
    "    return model"
   ]
  },
  {
   "cell_type": "code",
   "execution_count": null,
   "id": "9eb4aff6-80a6-4f43-ae16-9297b8705b00",
   "metadata": {},
   "outputs": [],
   "source": [
    "DNN_model = build_and_compile_model()"
   ]
  },
  {
   "cell_type": "code",
   "execution_count": null,
   "id": "44785fc3-fadc-49cd-94ab-d927e356a153",
   "metadata": {},
   "outputs": [],
   "source": [
    "history = DNN_model.fit(\n",
    "    x_train,\n",
    "    y_train,\n",
    "    # validation_split=0.2,\n",
    "    verbose=0, \n",
    "    batch_size=16,\n",
    "    epochs=500)"
   ]
  },
  {
   "cell_type": "code",
   "execution_count": null,
   "id": "104ed4e7-7cdf-4251-9f84-d71d9582f726",
   "metadata": {},
   "outputs": [],
   "source": [
    "# plot_loss(history)"
   ]
  },
  {
   "cell_type": "code",
   "execution_count": null,
   "id": "780fd79b-d7f5-4d5c-bce1-7c19fac28a49",
   "metadata": {},
   "outputs": [],
   "source": [
    "test_predictions = DNN_model.predict(X_test)"
   ]
  },
  {
   "cell_type": "code",
   "execution_count": null,
   "id": "7d80824e-27b4-4fc4-9876-679eb7541654",
   "metadata": {},
   "outputs": [],
   "source": [
    "pseudo_train_preds = DNN_model.predict(x_train)"
   ]
  },
  {
   "cell_type": "code",
   "execution_count": null,
   "id": "8a866bd7-c32f-40eb-978c-27407c5833e8",
   "metadata": {},
   "outputs": [],
   "source": [
    "test_predictions.shape"
   ]
  },
  {
   "cell_type": "code",
   "execution_count": null,
   "id": "ee502410-e9b4-4669-9046-c7c9eaf7751c",
   "metadata": {},
   "outputs": [],
   "source": [
    "# Plot an ensemble of trained probabilistic regressions\n",
    "\n",
    "plt.scatter(x_train, y_train, marker='.', alpha=0.2, label='data')\n",
    "plt.scatter(X_test, test_predictions)\n",
    "plt.scatter(x_train, pseudo_train_preds)\n",
    "# for _ in range(5):\n",
    "#     y_model = model_BNN(x_train)\n",
    "#     y_hat = y_model.mean()\n",
    "#     y_hat_m2sd = y_hat - 2 * y_model.stddev()\n",
    "#     y_hat_p2sd = y_hat + 2 * y_model.stddev()\n",
    "#     if _ == 0:\n",
    "#         plt.plot(x_train, y_hat, color='red', alpha=0.8, label='model $\\mu$')\n",
    "#         plt.plot(x_train, y_hat_m2sd, color='green', alpha=0.8, label='model $\\mu \\pm 2 \\sigma$')\n",
    "#         plt.plot(x_train, y_hat_p2sd, color='green', alpha=0.8)\n",
    "#     else:\n",
    "#         plt.plot(x_train, y_hat, color='red', alpha=0.8)\n",
    "#         plt.plot(x_train, y_hat_m2sd, color='green', alpha=0.8)\n",
    "#         plt.plot(x_train, y_hat_p2sd, color='green', alpha=0.8)        \n",
    "# plt.legend()\n",
    "# plt.show()"
   ]
  },
  {
   "cell_type": "markdown",
   "id": "ffe25e38-de4f-4937-b279-dc781afe45c9",
   "metadata": {
    "jp-MarkdownHeadingCollapsed": true,
    "tags": []
   },
   "source": [
    "#### BNN"
   ]
  },
  {
   "cell_type": "code",
   "execution_count": null,
   "id": "db5ee9a5-ed8d-4e2e-b105-5a41c0cdc50a",
   "metadata": {},
   "outputs": [],
   "source": [
    "# Create probabilistic regression with one hidden layer, weight uncertainty\n",
    "\n",
    "model_BNN = Sequential([\n",
    "    tfpl.DenseVariational(units=64,\n",
    "                          input_shape=(1,),\n",
    "                          make_prior_fn=sg_prior,\n",
    "                          make_posterior_fn=posterior,\n",
    "                          kl_weight=1/x_train.shape[0],\n",
    "                          activation='sigmoid'),\n",
    "    tfpl.DenseVariational(units=64,\n",
    "                          input_shape=(1,),\n",
    "                          make_prior_fn=sg_prior,\n",
    "                          make_posterior_fn=posterior,\n",
    "                          kl_weight=1/x_train.shape[0],\n",
    "                          activation='sigmoid'),\n",
    "    tfpl.DenseVariational(units=tfpl.IndependentNormal.params_size(1),\n",
    "                          make_prior_fn=sg_prior,\n",
    "                          make_posterior_fn=posterior,\n",
    "                          kl_weight=1/x_train.shape[0]),\n",
    "    tfpl.IndependentNormal(1)\n",
    "])\n",
    "\n",
    "model_BNN.compile(loss=nll, optimizer=RMSprop())"
   ]
  },
  {
   "cell_type": "code",
   "execution_count": null,
   "id": "b5609d43-6f74-4117-9397-ab22d2c9cd1f",
   "metadata": {},
   "outputs": [],
   "source": [
    "# # Train the model\n",
    "\n",
    "# model_BNN.fit(x_train, y_train, epochs=500, verbose=1)\n",
    "# model_BNN.evaluate(x_train, y_train)"
   ]
  },
  {
   "cell_type": "code",
   "execution_count": null,
   "id": "49c63506-2c8c-4cd4-a14f-df6976f73847",
   "metadata": {},
   "outputs": [],
   "source": [
    "# Plot an ensemble of trained probabilistic regressions\n",
    "\n",
    "plt.scatter(x_train, y_train, marker='.', alpha=0.2, label='data')\n",
    "for _ in range(5):\n",
    "    y_model = model_BNN(x_train)\n",
    "    y_hat = y_model.mean()\n",
    "    y_hat_m2sd = y_hat - 2 * y_model.stddev()\n",
    "    y_hat_p2sd = y_hat + 2 * y_model.stddev()\n",
    "    if _ == 0:\n",
    "        plt.plot(x_train, y_hat, color='red', alpha=0.8, label='model $\\mu$')\n",
    "        plt.plot(x_train, y_hat_m2sd, color='green', alpha=0.8, label='model $\\mu \\pm 2 \\sigma$')\n",
    "        plt.plot(x_train, y_hat_p2sd, color='green', alpha=0.8)\n",
    "    else:\n",
    "        plt.plot(x_train, y_hat, color='red', alpha=0.8)\n",
    "        plt.plot(x_train, y_hat_m2sd, color='green', alpha=0.8)\n",
    "        plt.plot(x_train, y_hat_p2sd, color='green', alpha=0.8)        \n",
    "plt.legend()\n",
    "plt.show()"
   ]
  },
  {
   "cell_type": "code",
   "execution_count": null,
   "id": "9bba4b62-2c8d-4a83-9227-c5c094fe1e7a",
   "metadata": {},
   "outputs": [],
   "source": []
  },
  {
   "cell_type": "code",
   "execution_count": null,
   "id": "240e6f56-78ea-43e3-863e-657ae5cce0e4",
   "metadata": {},
   "outputs": [],
   "source": []
  },
  {
   "cell_type": "code",
   "execution_count": null,
   "id": "55e463ec-1ffa-4af6-80c1-03927a1d044d",
   "metadata": {},
   "outputs": [],
   "source": []
  },
  {
   "cell_type": "code",
   "execution_count": null,
   "id": "8197c251-2897-4d20-af9b-09d959729896",
   "metadata": {},
   "outputs": [],
   "source": [
    "## Machine Learning models in an autoregressive scheme"
   ]
  },
  {
   "cell_type": "code",
   "execution_count": null,
   "id": "afeb8d0b-6dc2-455d-901b-b9ab3dcee1bc",
   "metadata": {},
   "outputs": [],
   "source": []
  },
  {
   "cell_type": "code",
   "execution_count": null,
   "id": "feb89df5-3656-4e56-9f2e-31fa1885b1d0",
   "metadata": {},
   "outputs": [],
   "source": [
    "# a table showing the accuracy metrics"
   ]
  }
 ],
 "metadata": {
  "kernelspec": {
   "display_name": "gpflow",
   "language": "python",
   "name": "gpflow"
  },
  "language_info": {
   "codemirror_mode": {
    "name": "ipython",
    "version": 3
   },
   "file_extension": ".py",
   "mimetype": "text/x-python",
   "name": "python",
   "nbconvert_exporter": "python",
   "pygments_lexer": "ipython3",
   "version": "3.10.13"
  }
 },
 "nbformat": 4,
 "nbformat_minor": 5
}
