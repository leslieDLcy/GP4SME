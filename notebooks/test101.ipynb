{
 "cells": [
  {
   "cell_type": "markdown",
   "id": "4bba9e9a-25e1-4408-9940-8b83d95dfcc4",
   "metadata": {},
   "source": [
    "Introduction\n",
    "=========\n",
    "\n",
    "A first attempt for assignment\n"
   ]
  },
  {
   "cell_type": "code",
   "execution_count": 1,
   "id": "343a4e8e-a878-4c51-b925-5e7c22c4106d",
   "metadata": {},
   "outputs": [],
   "source": [
    "import pandas as pd\n",
    "import numpy as np\n",
    "import matplotlib.pyplot as plt\n",
    "import seaborn as sns\n",
    "import matplotlib as mpl"
   ]
  },
  {
   "cell_type": "code",
   "execution_count": 2,
   "id": "1eac1d3e-c00f-4c38-ab6b-59626bdb8379",
   "metadata": {},
   "outputs": [],
   "source": [
    "data = pd.read_csv('../data/raw/smedebtsu.csv')"
   ]
  },
  {
   "cell_type": "code",
   "execution_count": 3,
   "id": "12d3fb0c-95cd-4893-91d9-4cef392247ae",
   "metadata": {},
   "outputs": [
    {
     "name": "stdout",
     "output_type": "stream",
     "text": [
      "<class 'pandas.core.frame.DataFrame'>\n",
      "RangeIndex: 84 entries, 0 to 83\n",
      "Data columns (total 16 columns):\n",
      " #   Column   Non-Null Count  Dtype  \n",
      "---  ------   --------------  -----  \n",
      " 0   Date     84 non-null     object \n",
      " 1   Day      84 non-null     int64  \n",
      " 2   Month    84 non-null     int64  \n",
      " 3   Year     84 non-null     int64  \n",
      " 4   LenderA  84 non-null     float64\n",
      " 5   LenderB  84 non-null     float64\n",
      " 6   LenderC  84 non-null     float64\n",
      " 7   LenderD  84 non-null     int64  \n",
      " 8   LenderE  84 non-null     float64\n",
      " 9   LenderF  84 non-null     float64\n",
      " 10  LenderG  84 non-null     float64\n",
      " 11  LenderH  84 non-null     float64\n",
      " 12  LenderI  84 non-null     float64\n",
      " 13  LenderJ  84 non-null     float64\n",
      " 14  LenderK  84 non-null     float64\n",
      " 15  totalU   84 non-null     float64\n",
      "dtypes: float64(11), int64(4), object(1)\n",
      "memory usage: 10.6+ KB\n"
     ]
    }
   ],
   "source": [
    "data.info()"
   ]
  },
  {
   "cell_type": "markdown",
   "id": "2f41f5e9-ca46-4894-8295-d29285688ff5",
   "metadata": {},
   "source": [
    "### clean date format"
   ]
  },
  {
   "cell_type": "code",
   "execution_count": 4,
   "id": "16a99192-b81a-4617-9f24-2c1b82c49042",
   "metadata": {},
   "outputs": [],
   "source": [
    "# identifying rows with wrong date formatting\n",
    "\n",
    "m = pd.to_datetime(data['Date'], format=\"%d/%m/%Y\", errors='coerce').isna()"
   ]
  },
  {
   "cell_type": "code",
   "execution_count": 5,
   "id": "f9f6a27a-a6a7-4abd-8736-960697b8b047",
   "metadata": {},
   "outputs": [
    {
     "name": "stdout",
     "output_type": "stream",
     "text": [
      "Rows with wrong date format: ['04/042022', '02/052022']\n"
     ]
    }
   ],
   "source": [
    "print(\"Rows with wrong date format:\", data.loc[m, 'Date'].unique().tolist())"
   ]
  },
  {
   "cell_type": "code",
   "execution_count": 6,
   "id": "2626599a-5609-450e-b6b0-5b5f4ff08e0a",
   "metadata": {},
   "outputs": [
    {
     "name": "stdout",
     "output_type": "stream",
     "text": [
      "Int64Index([73], dtype='int64')\n"
     ]
    }
   ],
   "source": [
    "print(data[data['Date'] == '04/042022'].index)"
   ]
  },
  {
   "cell_type": "code",
   "execution_count": 7,
   "id": "737fa409-87f9-47aa-b86e-94ca78cd2f5b",
   "metadata": {},
   "outputs": [
    {
     "name": "stdout",
     "output_type": "stream",
     "text": [
      "Int64Index([74, 75], dtype='int64')\n"
     ]
    }
   ],
   "source": [
    "print(data[data['Date'] == '02/052022'].index)"
   ]
  },
  {
   "cell_type": "code",
   "execution_count": 8,
   "id": "01a4b257-7b5a-4448-9add-dd4bfaece8e7",
   "metadata": {},
   "outputs": [],
   "source": [
    "data.loc[73, 'Date'] = \"04/04/2022\"\n",
    "data.loc[74, 'Date'] = \"02/05/2022\"\n",
    "data.loc[75, 'Date'] = \"02/05/2022\""
   ]
  },
  {
   "cell_type": "code",
   "execution_count": 9,
   "id": "d555630f-4e2b-4e31-8d74-08ac7eee3b21",
   "metadata": {},
   "outputs": [],
   "source": [
    "data[\"datetime\"] = pd.to_datetime(data['Date'], format=\"%d/%m/%Y\")"
   ]
  },
  {
   "cell_type": "code",
   "execution_count": 10,
   "id": "17ed7838-67ff-45db-ba9c-bbb0d87e37f8",
   "metadata": {},
   "outputs": [
    {
     "data": {
      "text/html": [
       "<div>\n",
       "<style scoped>\n",
       "    .dataframe tbody tr th:only-of-type {\n",
       "        vertical-align: middle;\n",
       "    }\n",
       "\n",
       "    .dataframe tbody tr th {\n",
       "        vertical-align: top;\n",
       "    }\n",
       "\n",
       "    .dataframe thead th {\n",
       "        text-align: right;\n",
       "    }\n",
       "</style>\n",
       "<table border=\"1\" class=\"dataframe\">\n",
       "  <thead>\n",
       "    <tr style=\"text-align: right;\">\n",
       "      <th></th>\n",
       "      <th>Date</th>\n",
       "      <th>Day</th>\n",
       "      <th>Month</th>\n",
       "      <th>Year</th>\n",
       "      <th>LenderA</th>\n",
       "      <th>LenderB</th>\n",
       "      <th>LenderC</th>\n",
       "      <th>LenderD</th>\n",
       "      <th>LenderE</th>\n",
       "      <th>LenderF</th>\n",
       "      <th>LenderG</th>\n",
       "      <th>LenderH</th>\n",
       "      <th>LenderI</th>\n",
       "      <th>LenderJ</th>\n",
       "      <th>LenderK</th>\n",
       "      <th>totalU</th>\n",
       "      <th>datetime</th>\n",
       "    </tr>\n",
       "  </thead>\n",
       "  <tbody>\n",
       "    <tr>\n",
       "      <th>0</th>\n",
       "      <td>13/10/2013</td>\n",
       "      <td>13</td>\n",
       "      <td>10</td>\n",
       "      <td>2013</td>\n",
       "      <td>74349.0</td>\n",
       "      <td>70109.93</td>\n",
       "      <td>11477.84</td>\n",
       "      <td>4884</td>\n",
       "      <td>0.0</td>\n",
       "      <td>61763.24</td>\n",
       "      <td>0.0</td>\n",
       "      <td>0.0</td>\n",
       "      <td>2442.00</td>\n",
       "      <td>0.0</td>\n",
       "      <td>2981.00</td>\n",
       "      <td>228007.01</td>\n",
       "      <td>2013-10-13</td>\n",
       "    </tr>\n",
       "    <tr>\n",
       "      <th>1</th>\n",
       "      <td>13/11/2013</td>\n",
       "      <td>13</td>\n",
       "      <td>11</td>\n",
       "      <td>2013</td>\n",
       "      <td>73535.0</td>\n",
       "      <td>66083.05</td>\n",
       "      <td>9607.84</td>\n",
       "      <td>5170</td>\n",
       "      <td>0.0</td>\n",
       "      <td>61763.24</td>\n",
       "      <td>2563.0</td>\n",
       "      <td>0.0</td>\n",
       "      <td>2422.09</td>\n",
       "      <td>0.0</td>\n",
       "      <td>6844.09</td>\n",
       "      <td>227988.31</td>\n",
       "      <td>2013-11-13</td>\n",
       "    </tr>\n",
       "    <tr>\n",
       "      <th>2</th>\n",
       "      <td>10/12/2013</td>\n",
       "      <td>10</td>\n",
       "      <td>12</td>\n",
       "      <td>2013</td>\n",
       "      <td>71027.0</td>\n",
       "      <td>93500.00</td>\n",
       "      <td>14300.00</td>\n",
       "      <td>4950</td>\n",
       "      <td>0.0</td>\n",
       "      <td>59400.00</td>\n",
       "      <td>12232.0</td>\n",
       "      <td>0.0</td>\n",
       "      <td>2640.00</td>\n",
       "      <td>0.0</td>\n",
       "      <td>7150.00</td>\n",
       "      <td>265199.00</td>\n",
       "      <td>2013-12-10</td>\n",
       "    </tr>\n",
       "    <tr>\n",
       "      <th>3</th>\n",
       "      <td>23/01/2014</td>\n",
       "      <td>23</td>\n",
       "      <td>1</td>\n",
       "      <td>2014</td>\n",
       "      <td>0.0</td>\n",
       "      <td>15741.00</td>\n",
       "      <td>14300.00</td>\n",
       "      <td>3300</td>\n",
       "      <td>262944.0</td>\n",
       "      <td>0.00</td>\n",
       "      <td>3168.0</td>\n",
       "      <td>0.0</td>\n",
       "      <td>0.00</td>\n",
       "      <td>0.0</td>\n",
       "      <td>0.00</td>\n",
       "      <td>299453.00</td>\n",
       "      <td>2014-01-23</td>\n",
       "    </tr>\n",
       "    <tr>\n",
       "      <th>4</th>\n",
       "      <td>05/03/2014</td>\n",
       "      <td>5</td>\n",
       "      <td>3</td>\n",
       "      <td>2014</td>\n",
       "      <td>0.0</td>\n",
       "      <td>14850.00</td>\n",
       "      <td>13200.00</td>\n",
       "      <td>3476</td>\n",
       "      <td>254177.0</td>\n",
       "      <td>0.00</td>\n",
       "      <td>4400.0</td>\n",
       "      <td>0.0</td>\n",
       "      <td>0.00</td>\n",
       "      <td>0.0</td>\n",
       "      <td>0.00</td>\n",
       "      <td>290103.00</td>\n",
       "      <td>2014-03-05</td>\n",
       "    </tr>\n",
       "  </tbody>\n",
       "</table>\n",
       "</div>"
      ],
      "text/plain": [
       "         Date  Day  Month  Year  LenderA   LenderB   LenderC  LenderD  \\\n",
       "0  13/10/2013   13     10  2013  74349.0  70109.93  11477.84     4884   \n",
       "1  13/11/2013   13     11  2013  73535.0  66083.05   9607.84     5170   \n",
       "2  10/12/2013   10     12  2013  71027.0  93500.00  14300.00     4950   \n",
       "3  23/01/2014   23      1  2014      0.0  15741.00  14300.00     3300   \n",
       "4  05/03/2014    5      3  2014      0.0  14850.00  13200.00     3476   \n",
       "\n",
       "    LenderE   LenderF  LenderG  LenderH  LenderI  LenderJ  LenderK     totalU  \\\n",
       "0       0.0  61763.24      0.0      0.0  2442.00      0.0  2981.00  228007.01   \n",
       "1       0.0  61763.24   2563.0      0.0  2422.09      0.0  6844.09  227988.31   \n",
       "2       0.0  59400.00  12232.0      0.0  2640.00      0.0  7150.00  265199.00   \n",
       "3  262944.0      0.00   3168.0      0.0     0.00      0.0     0.00  299453.00   \n",
       "4  254177.0      0.00   4400.0      0.0     0.00      0.0     0.00  290103.00   \n",
       "\n",
       "    datetime  \n",
       "0 2013-10-13  \n",
       "1 2013-11-13  \n",
       "2 2013-12-10  \n",
       "3 2014-01-23  \n",
       "4 2014-03-05  "
      ]
     },
     "execution_count": 10,
     "metadata": {},
     "output_type": "execute_result"
    }
   ],
   "source": [
    "data.head()"
   ]
  },
  {
   "cell_type": "code",
   "execution_count": 11,
   "id": "dc718d16-f627-4aae-bfb2-57af9a8f6812",
   "metadata": {},
   "outputs": [],
   "source": [
    "data_clean = data.set_index('datetime').drop(['Day', 'Date'], axis=1)"
   ]
  },
  {
   "cell_type": "code",
   "execution_count": 12,
   "id": "5837eda4-4a6f-40c1-997a-d9bf5a24c8c4",
   "metadata": {},
   "outputs": [
    {
     "data": {
      "text/html": [
       "<div>\n",
       "<style scoped>\n",
       "    .dataframe tbody tr th:only-of-type {\n",
       "        vertical-align: middle;\n",
       "    }\n",
       "\n",
       "    .dataframe tbody tr th {\n",
       "        vertical-align: top;\n",
       "    }\n",
       "\n",
       "    .dataframe thead th {\n",
       "        text-align: right;\n",
       "    }\n",
       "</style>\n",
       "<table border=\"1\" class=\"dataframe\">\n",
       "  <thead>\n",
       "    <tr style=\"text-align: right;\">\n",
       "      <th></th>\n",
       "      <th>Month</th>\n",
       "      <th>Year</th>\n",
       "      <th>LenderA</th>\n",
       "      <th>LenderB</th>\n",
       "      <th>LenderC</th>\n",
       "      <th>LenderD</th>\n",
       "      <th>LenderE</th>\n",
       "      <th>LenderF</th>\n",
       "      <th>LenderG</th>\n",
       "      <th>LenderH</th>\n",
       "      <th>LenderI</th>\n",
       "      <th>LenderJ</th>\n",
       "      <th>LenderK</th>\n",
       "      <th>totalU</th>\n",
       "    </tr>\n",
       "    <tr>\n",
       "      <th>datetime</th>\n",
       "      <th></th>\n",
       "      <th></th>\n",
       "      <th></th>\n",
       "      <th></th>\n",
       "      <th></th>\n",
       "      <th></th>\n",
       "      <th></th>\n",
       "      <th></th>\n",
       "      <th></th>\n",
       "      <th></th>\n",
       "      <th></th>\n",
       "      <th></th>\n",
       "      <th></th>\n",
       "      <th></th>\n",
       "    </tr>\n",
       "  </thead>\n",
       "  <tbody>\n",
       "    <tr>\n",
       "      <th>2013-10-13</th>\n",
       "      <td>10</td>\n",
       "      <td>2013</td>\n",
       "      <td>74349.0</td>\n",
       "      <td>70109.93</td>\n",
       "      <td>11477.84</td>\n",
       "      <td>4884</td>\n",
       "      <td>0.0</td>\n",
       "      <td>61763.24</td>\n",
       "      <td>0.0</td>\n",
       "      <td>0.0</td>\n",
       "      <td>2442.00</td>\n",
       "      <td>0.0</td>\n",
       "      <td>2981.00</td>\n",
       "      <td>228007.01</td>\n",
       "    </tr>\n",
       "    <tr>\n",
       "      <th>2013-11-13</th>\n",
       "      <td>11</td>\n",
       "      <td>2013</td>\n",
       "      <td>73535.0</td>\n",
       "      <td>66083.05</td>\n",
       "      <td>9607.84</td>\n",
       "      <td>5170</td>\n",
       "      <td>0.0</td>\n",
       "      <td>61763.24</td>\n",
       "      <td>2563.0</td>\n",
       "      <td>0.0</td>\n",
       "      <td>2422.09</td>\n",
       "      <td>0.0</td>\n",
       "      <td>6844.09</td>\n",
       "      <td>227988.31</td>\n",
       "    </tr>\n",
       "    <tr>\n",
       "      <th>2013-12-10</th>\n",
       "      <td>12</td>\n",
       "      <td>2013</td>\n",
       "      <td>71027.0</td>\n",
       "      <td>93500.00</td>\n",
       "      <td>14300.00</td>\n",
       "      <td>4950</td>\n",
       "      <td>0.0</td>\n",
       "      <td>59400.00</td>\n",
       "      <td>12232.0</td>\n",
       "      <td>0.0</td>\n",
       "      <td>2640.00</td>\n",
       "      <td>0.0</td>\n",
       "      <td>7150.00</td>\n",
       "      <td>265199.00</td>\n",
       "    </tr>\n",
       "    <tr>\n",
       "      <th>2014-01-23</th>\n",
       "      <td>1</td>\n",
       "      <td>2014</td>\n",
       "      <td>0.0</td>\n",
       "      <td>15741.00</td>\n",
       "      <td>14300.00</td>\n",
       "      <td>3300</td>\n",
       "      <td>262944.0</td>\n",
       "      <td>0.00</td>\n",
       "      <td>3168.0</td>\n",
       "      <td>0.0</td>\n",
       "      <td>0.00</td>\n",
       "      <td>0.0</td>\n",
       "      <td>0.00</td>\n",
       "      <td>299453.00</td>\n",
       "    </tr>\n",
       "    <tr>\n",
       "      <th>2014-03-05</th>\n",
       "      <td>3</td>\n",
       "      <td>2014</td>\n",
       "      <td>0.0</td>\n",
       "      <td>14850.00</td>\n",
       "      <td>13200.00</td>\n",
       "      <td>3476</td>\n",
       "      <td>254177.0</td>\n",
       "      <td>0.00</td>\n",
       "      <td>4400.0</td>\n",
       "      <td>0.0</td>\n",
       "      <td>0.00</td>\n",
       "      <td>0.0</td>\n",
       "      <td>0.00</td>\n",
       "      <td>290103.00</td>\n",
       "    </tr>\n",
       "  </tbody>\n",
       "</table>\n",
       "</div>"
      ],
      "text/plain": [
       "            Month  Year  LenderA   LenderB   LenderC  LenderD   LenderE  \\\n",
       "datetime                                                                  \n",
       "2013-10-13     10  2013  74349.0  70109.93  11477.84     4884       0.0   \n",
       "2013-11-13     11  2013  73535.0  66083.05   9607.84     5170       0.0   \n",
       "2013-12-10     12  2013  71027.0  93500.00  14300.00     4950       0.0   \n",
       "2014-01-23      1  2014      0.0  15741.00  14300.00     3300  262944.0   \n",
       "2014-03-05      3  2014      0.0  14850.00  13200.00     3476  254177.0   \n",
       "\n",
       "             LenderF  LenderG  LenderH  LenderI  LenderJ  LenderK     totalU  \n",
       "datetime                                                                      \n",
       "2013-10-13  61763.24      0.0      0.0  2442.00      0.0  2981.00  228007.01  \n",
       "2013-11-13  61763.24   2563.0      0.0  2422.09      0.0  6844.09  227988.31  \n",
       "2013-12-10  59400.00  12232.0      0.0  2640.00      0.0  7150.00  265199.00  \n",
       "2014-01-23      0.00   3168.0      0.0     0.00      0.0     0.00  299453.00  \n",
       "2014-03-05      0.00   4400.0      0.0     0.00      0.0     0.00  290103.00  "
      ]
     },
     "execution_count": 12,
     "metadata": {},
     "output_type": "execute_result"
    }
   ],
   "source": [
    "data_clean.head()"
   ]
  },
  {
   "cell_type": "code",
   "execution_count": 13,
   "id": "88456f71-9590-45f2-9f46-1781d465c349",
   "metadata": {},
   "outputs": [
    {
     "data": {
      "text/plain": [
       "(84, 14)"
      ]
     },
     "execution_count": 13,
     "metadata": {},
     "output_type": "execute_result"
    }
   ],
   "source": [
    "data_clean.shape"
   ]
  },
  {
   "cell_type": "markdown",
   "id": "76b76294-a172-4c10-ba19-c7bdca50d54c",
   "metadata": {
    "tags": []
   },
   "source": [
    "### check missing data"
   ]
  },
  {
   "cell_type": "code",
   "execution_count": 14,
   "id": "3d74e9f1-00cb-414a-a0b5-a165c6b4417c",
   "metadata": {},
   "outputs": [
    {
     "data": {
      "text/plain": [
       "Month      0\n",
       "Year       0\n",
       "LenderA    0\n",
       "LenderB    0\n",
       "LenderC    0\n",
       "LenderD    0\n",
       "LenderE    0\n",
       "LenderF    0\n",
       "LenderG    0\n",
       "LenderH    0\n",
       "LenderI    0\n",
       "LenderJ    0\n",
       "LenderK    0\n",
       "totalU     0\n",
       "dtype: int64"
      ]
     },
     "execution_count": 14,
     "metadata": {},
     "output_type": "execute_result"
    }
   ],
   "source": [
    "data_clean.isna().sum()"
   ]
  },
  {
   "cell_type": "markdown",
   "id": "5123841c-c5ef-451c-ac8a-f0a8558597c7",
   "metadata": {},
   "source": [
    "conclusion: currently, there is no missing data. However, in the cases there are, we can show the places for missing data"
   ]
  },
  {
   "cell_type": "code",
   "execution_count": null,
   "id": "47e53349-946d-403d-bd68-c0e914ed4fbd",
   "metadata": {},
   "outputs": [],
   "source": [
    "# data_clean.query('data_clean.isna()')"
   ]
  },
  {
   "cell_type": "code",
   "execution_count": null,
   "id": "7de724b2-1cd3-473d-b9cb-38eea6fe3781",
   "metadata": {},
   "outputs": [],
   "source": [
    "# check for missing months"
   ]
  },
  {
   "cell_type": "code",
   "execution_count": 85,
   "id": "0a6f0c49-5bd2-4312-852f-ccd568a06e3c",
   "metadata": {},
   "outputs": [
    {
     "data": {
      "text/html": [
       "<div>\n",
       "<style scoped>\n",
       "    .dataframe tbody tr th:only-of-type {\n",
       "        vertical-align: middle;\n",
       "    }\n",
       "\n",
       "    .dataframe tbody tr th {\n",
       "        vertical-align: top;\n",
       "    }\n",
       "\n",
       "    .dataframe thead th {\n",
       "        text-align: right;\n",
       "    }\n",
       "</style>\n",
       "<table border=\"1\" class=\"dataframe\">\n",
       "  <thead>\n",
       "    <tr style=\"text-align: right;\">\n",
       "      <th></th>\n",
       "      <th>Month</th>\n",
       "      <th>Year</th>\n",
       "      <th>LenderA</th>\n",
       "      <th>LenderB</th>\n",
       "      <th>LenderC</th>\n",
       "      <th>LenderD</th>\n",
       "      <th>LenderE</th>\n",
       "      <th>LenderF</th>\n",
       "      <th>LenderG</th>\n",
       "      <th>LenderH</th>\n",
       "      <th>LenderI</th>\n",
       "      <th>LenderJ</th>\n",
       "      <th>LenderK</th>\n",
       "      <th>totalU</th>\n",
       "    </tr>\n",
       "    <tr>\n",
       "      <th>datetime</th>\n",
       "      <th></th>\n",
       "      <th></th>\n",
       "      <th></th>\n",
       "      <th></th>\n",
       "      <th></th>\n",
       "      <th></th>\n",
       "      <th></th>\n",
       "      <th></th>\n",
       "      <th></th>\n",
       "      <th></th>\n",
       "      <th></th>\n",
       "      <th></th>\n",
       "      <th></th>\n",
       "      <th></th>\n",
       "    </tr>\n",
       "  </thead>\n",
       "  <tbody>\n",
       "    <tr>\n",
       "      <th>2013-10-13</th>\n",
       "      <td>10</td>\n",
       "      <td>2013</td>\n",
       "      <td>74349.0</td>\n",
       "      <td>70109.93</td>\n",
       "      <td>11477.84</td>\n",
       "      <td>4884</td>\n",
       "      <td>0.0</td>\n",
       "      <td>61763.24</td>\n",
       "      <td>0.00</td>\n",
       "      <td>0.00</td>\n",
       "      <td>2442.00</td>\n",
       "      <td>0.0</td>\n",
       "      <td>2981.00</td>\n",
       "      <td>228007.01</td>\n",
       "    </tr>\n",
       "    <tr>\n",
       "      <th>2013-11-13</th>\n",
       "      <td>11</td>\n",
       "      <td>2013</td>\n",
       "      <td>73535.0</td>\n",
       "      <td>66083.05</td>\n",
       "      <td>9607.84</td>\n",
       "      <td>5170</td>\n",
       "      <td>0.0</td>\n",
       "      <td>61763.24</td>\n",
       "      <td>2563.00</td>\n",
       "      <td>0.00</td>\n",
       "      <td>2422.09</td>\n",
       "      <td>0.0</td>\n",
       "      <td>6844.09</td>\n",
       "      <td>227988.31</td>\n",
       "    </tr>\n",
       "    <tr>\n",
       "      <th>2013-12-10</th>\n",
       "      <td>12</td>\n",
       "      <td>2013</td>\n",
       "      <td>71027.0</td>\n",
       "      <td>93500.00</td>\n",
       "      <td>14300.00</td>\n",
       "      <td>4950</td>\n",
       "      <td>0.0</td>\n",
       "      <td>59400.00</td>\n",
       "      <td>12232.00</td>\n",
       "      <td>0.00</td>\n",
       "      <td>2640.00</td>\n",
       "      <td>0.0</td>\n",
       "      <td>7150.00</td>\n",
       "      <td>265199.00</td>\n",
       "    </tr>\n",
       "    <tr>\n",
       "      <th>2014-01-23</th>\n",
       "      <td>1</td>\n",
       "      <td>2014</td>\n",
       "      <td>0.0</td>\n",
       "      <td>15741.00</td>\n",
       "      <td>14300.00</td>\n",
       "      <td>3300</td>\n",
       "      <td>262944.0</td>\n",
       "      <td>0.00</td>\n",
       "      <td>3168.00</td>\n",
       "      <td>0.00</td>\n",
       "      <td>0.00</td>\n",
       "      <td>0.0</td>\n",
       "      <td>0.00</td>\n",
       "      <td>299453.00</td>\n",
       "    </tr>\n",
       "    <tr>\n",
       "      <th>2014-03-05</th>\n",
       "      <td>3</td>\n",
       "      <td>2014</td>\n",
       "      <td>0.0</td>\n",
       "      <td>14850.00</td>\n",
       "      <td>13200.00</td>\n",
       "      <td>3476</td>\n",
       "      <td>254177.0</td>\n",
       "      <td>0.00</td>\n",
       "      <td>4400.00</td>\n",
       "      <td>0.00</td>\n",
       "      <td>0.00</td>\n",
       "      <td>0.0</td>\n",
       "      <td>0.00</td>\n",
       "      <td>290103.00</td>\n",
       "    </tr>\n",
       "    <tr>\n",
       "      <th>...</th>\n",
       "      <td>...</td>\n",
       "      <td>...</td>\n",
       "      <td>...</td>\n",
       "      <td>...</td>\n",
       "      <td>...</td>\n",
       "      <td>...</td>\n",
       "      <td>...</td>\n",
       "      <td>...</td>\n",
       "      <td>...</td>\n",
       "      <td>...</td>\n",
       "      <td>...</td>\n",
       "      <td>...</td>\n",
       "      <td>...</td>\n",
       "      <td>...</td>\n",
       "    </tr>\n",
       "    <tr>\n",
       "      <th>2022-11-28</th>\n",
       "      <td>11</td>\n",
       "      <td>2022</td>\n",
       "      <td>28369.0</td>\n",
       "      <td>115775.00</td>\n",
       "      <td>0.00</td>\n",
       "      <td>0</td>\n",
       "      <td>245740.0</td>\n",
       "      <td>22638.00</td>\n",
       "      <td>62084.00</td>\n",
       "      <td>104335.00</td>\n",
       "      <td>14025.00</td>\n",
       "      <td>19800.0</td>\n",
       "      <td>0.00</td>\n",
       "      <td>612766.00</td>\n",
       "    </tr>\n",
       "    <tr>\n",
       "      <th>2023-02-05</th>\n",
       "      <td>2</td>\n",
       "      <td>2023</td>\n",
       "      <td>26774.0</td>\n",
       "      <td>108064.00</td>\n",
       "      <td>0.00</td>\n",
       "      <td>0</td>\n",
       "      <td>234740.0</td>\n",
       "      <td>15125.00</td>\n",
       "      <td>57772.00</td>\n",
       "      <td>98703.00</td>\n",
       "      <td>8800.00</td>\n",
       "      <td>15400.0</td>\n",
       "      <td>0.00</td>\n",
       "      <td>565378.00</td>\n",
       "    </tr>\n",
       "    <tr>\n",
       "      <th>2023-03-05</th>\n",
       "      <td>3</td>\n",
       "      <td>2023</td>\n",
       "      <td>26202.0</td>\n",
       "      <td>104225.00</td>\n",
       "      <td>0.00</td>\n",
       "      <td>0</td>\n",
       "      <td>231077.0</td>\n",
       "      <td>11352.00</td>\n",
       "      <td>56826.00</td>\n",
       "      <td>95810.00</td>\n",
       "      <td>5500.00</td>\n",
       "      <td>13200.0</td>\n",
       "      <td>0.00</td>\n",
       "      <td>544192.00</td>\n",
       "    </tr>\n",
       "    <tr>\n",
       "      <th>2023-04-05</th>\n",
       "      <td>4</td>\n",
       "      <td>2023</td>\n",
       "      <td>25432.0</td>\n",
       "      <td>100375.00</td>\n",
       "      <td>0.00</td>\n",
       "      <td>0</td>\n",
       "      <td>227403.0</td>\n",
       "      <td>7579.00</td>\n",
       "      <td>54618.08</td>\n",
       "      <td>92689.96</td>\n",
       "      <td>0.00</td>\n",
       "      <td>11000.0</td>\n",
       "      <td>0.00</td>\n",
       "      <td>519097.04</td>\n",
       "    </tr>\n",
       "    <tr>\n",
       "      <th>2023-05-05</th>\n",
       "      <td>5</td>\n",
       "      <td>2023</td>\n",
       "      <td>24893.0</td>\n",
       "      <td>95975.00</td>\n",
       "      <td>0.00</td>\n",
       "      <td>0</td>\n",
       "      <td>223729.0</td>\n",
       "      <td>3773.00</td>\n",
       "      <td>51876.00</td>\n",
       "      <td>89023.00</td>\n",
       "      <td>0.00</td>\n",
       "      <td>8800.0</td>\n",
       "      <td>0.00</td>\n",
       "      <td>498069.00</td>\n",
       "    </tr>\n",
       "  </tbody>\n",
       "</table>\n",
       "<p>84 rows × 14 columns</p>\n",
       "</div>"
      ],
      "text/plain": [
       "            Month  Year  LenderA    LenderB   LenderC  LenderD   LenderE  \\\n",
       "datetime                                                                   \n",
       "2013-10-13     10  2013  74349.0   70109.93  11477.84     4884       0.0   \n",
       "2013-11-13     11  2013  73535.0   66083.05   9607.84     5170       0.0   \n",
       "2013-12-10     12  2013  71027.0   93500.00  14300.00     4950       0.0   \n",
       "2014-01-23      1  2014      0.0   15741.00  14300.00     3300  262944.0   \n",
       "2014-03-05      3  2014      0.0   14850.00  13200.00     3476  254177.0   \n",
       "...           ...   ...      ...        ...       ...      ...       ...   \n",
       "2022-11-28     11  2022  28369.0  115775.00      0.00        0  245740.0   \n",
       "2023-02-05      2  2023  26774.0  108064.00      0.00        0  234740.0   \n",
       "2023-03-05      3  2023  26202.0  104225.00      0.00        0  231077.0   \n",
       "2023-04-05      4  2023  25432.0  100375.00      0.00        0  227403.0   \n",
       "2023-05-05      5  2023  24893.0   95975.00      0.00        0  223729.0   \n",
       "\n",
       "             LenderF   LenderG    LenderH   LenderI  LenderJ  LenderK  \\\n",
       "datetime                                                                \n",
       "2013-10-13  61763.24      0.00       0.00   2442.00      0.0  2981.00   \n",
       "2013-11-13  61763.24   2563.00       0.00   2422.09      0.0  6844.09   \n",
       "2013-12-10  59400.00  12232.00       0.00   2640.00      0.0  7150.00   \n",
       "2014-01-23      0.00   3168.00       0.00      0.00      0.0     0.00   \n",
       "2014-03-05      0.00   4400.00       0.00      0.00      0.0     0.00   \n",
       "...              ...       ...        ...       ...      ...      ...   \n",
       "2022-11-28  22638.00  62084.00  104335.00  14025.00  19800.0     0.00   \n",
       "2023-02-05  15125.00  57772.00   98703.00   8800.00  15400.0     0.00   \n",
       "2023-03-05  11352.00  56826.00   95810.00   5500.00  13200.0     0.00   \n",
       "2023-04-05   7579.00  54618.08   92689.96      0.00  11000.0     0.00   \n",
       "2023-05-05   3773.00  51876.00   89023.00      0.00   8800.0     0.00   \n",
       "\n",
       "               totalU  \n",
       "datetime               \n",
       "2013-10-13  228007.01  \n",
       "2013-11-13  227988.31  \n",
       "2013-12-10  265199.00  \n",
       "2014-01-23  299453.00  \n",
       "2014-03-05  290103.00  \n",
       "...               ...  \n",
       "2022-11-28  612766.00  \n",
       "2023-02-05  565378.00  \n",
       "2023-03-05  544192.00  \n",
       "2023-04-05  519097.04  \n",
       "2023-05-05  498069.00  \n",
       "\n",
       "[84 rows x 14 columns]"
      ]
     },
     "execution_count": 85,
     "metadata": {},
     "output_type": "execute_result"
    }
   ],
   "source": [
    "data_clean"
   ]
  },
  {
   "cell_type": "code",
   "execution_count": 88,
   "id": "d8212765-563b-4e9a-8c68-01dc431f4aaf",
   "metadata": {},
   "outputs": [],
   "source": [
    "def find_missing_months(df):\n",
    "    \"\"\" look for months with missing records from the history \n",
    "    \n",
    "    args:\n",
    "        df: the query dataframe\n",
    "        \n",
    "    return:\n",
    "        information (stdout) as to missing months\n",
    "    \"\"\"\n",
    "    \n",
    "    s = df.resample('MS').size()\n",
    "    mm = s[s == 0].index.to_period('M')\n",
    "    num = len(mm)\n",
    "    print(f\"Number of monthly missing records: {num}\")\n",
    "    print(mm)"
   ]
  },
  {
   "cell_type": "code",
   "execution_count": 89,
   "id": "7fb65778-7c3f-4570-b4e5-c626cd154b12",
   "metadata": {},
   "outputs": [
    {
     "name": "stdout",
     "output_type": "stream",
     "text": [
      "Number of monthly missing records: 33\n",
      "PeriodIndex(['2014-02', '2015-06', '2015-07', '2015-09', '2016-03', '2016-04',\n",
      "             '2017-06', '2017-08', '2018-01', '2018-02', '2018-04', '2018-06',\n",
      "             '2018-08', '2018-10', '2019-02', '2019-06', '2020-01', '2020-05',\n",
      "             '2020-07', '2020-09', '2020-10', '2020-11', '2021-01', '2021-02',\n",
      "             '2021-03', '2021-05', '2021-06', '2021-08', '2022-02', '2022-06',\n",
      "             '2022-07', '2022-12', '2023-01'],\n",
      "            dtype='period[M]', name='datetime')\n"
     ]
    }
   ],
   "source": [
    "find_missing_months(data_clean)"
   ]
  },
  {
   "cell_type": "code",
   "execution_count": 32,
   "id": "9a8e9312-e6d7-4335-8c51-208b81ef1611",
   "metadata": {},
   "outputs": [],
   "source": [
    "# # failed attempt\n",
    "# min = data_clean.index.min().date()\n",
    "# max = data_clean.index.max().date()\n",
    "# pd.date_range(start=min, end=max, freq='M')"
   ]
  },
  {
   "cell_type": "code",
   "execution_count": null,
   "id": "cdfe9085-5cf8-4acb-b07e-5edab4ae149c",
   "metadata": {},
   "outputs": [],
   "source": []
  },
  {
   "cell_type": "code",
   "execution_count": null,
   "id": "7e6b4333-6068-442d-9961-7dadeb37c3af",
   "metadata": {},
   "outputs": [],
   "source": []
  },
  {
   "cell_type": "markdown",
   "id": "5733f349-4446-4dce-bd23-2604e49e1814",
   "metadata": {
    "jp-MarkdownHeadingCollapsed": true,
    "tags": []
   },
   "source": [
    "### check duplicated data"
   ]
  },
  {
   "cell_type": "code",
   "execution_count": null,
   "id": "1e383e85-eb02-4217-b80a-3caf8ab678c3",
   "metadata": {},
   "outputs": [],
   "source": [
    "data_clean.duplicated().sum()"
   ]
  },
  {
   "cell_type": "code",
   "execution_count": null,
   "id": "9b01e276-f946-40a0-a726-bf1dbdbfef55",
   "metadata": {},
   "outputs": [],
   "source": [
    "# display the duplicated rows if there exist\n",
    "\n",
    "data_clean[data_clean.duplicated()]"
   ]
  },
  {
   "cell_type": "code",
   "execution_count": null,
   "id": "40a8e6c0-093e-4a5b-966f-0979b7737d77",
   "metadata": {},
   "outputs": [],
   "source": [
    "data_clean.head()"
   ]
  },
  {
   "cell_type": "code",
   "execution_count": null,
   "id": "ad02b9a2-9624-4795-b902-80e0fb5b8d9a",
   "metadata": {},
   "outputs": [],
   "source": [
    "sns.set_style(\"whitegrid\")\n",
    "fig, ax = plt.subplots(figsize=(8, 8))\n",
    "ax = sns.boxplot(\n",
    "    data=data_clean, \n",
    "    y='totalU', \n",
    "    x='Year', \n",
    ")"
   ]
  },
  {
   "cell_type": "code",
   "execution_count": null,
   "id": "8270e7d9-3fb4-4c56-aa97-eba01f4292cf",
   "metadata": {},
   "outputs": [],
   "source": [
    "data_clean.shape"
   ]
  },
  {
   "cell_type": "markdown",
   "id": "1cab5b26-53f3-4508-ae2f-e60ead08b963",
   "metadata": {},
   "source": [
    "### data exploration"
   ]
  },
  {
   "cell_type": "code",
   "execution_count": 50,
   "id": "c5f0ea51-e19e-41a4-8938-958cabdadb01",
   "metadata": {},
   "outputs": [],
   "source": [
    "monthly_data = data_clean[data_clean['Year'] == 2013]"
   ]
  },
  {
   "cell_type": "code",
   "execution_count": 51,
   "id": "f7d4d3e2-4e69-4d75-a225-f1d33d3c7245",
   "metadata": {},
   "outputs": [
    {
     "data": {
      "text/html": [
       "<div>\n",
       "<style scoped>\n",
       "    .dataframe tbody tr th:only-of-type {\n",
       "        vertical-align: middle;\n",
       "    }\n",
       "\n",
       "    .dataframe tbody tr th {\n",
       "        vertical-align: top;\n",
       "    }\n",
       "\n",
       "    .dataframe thead th {\n",
       "        text-align: right;\n",
       "    }\n",
       "</style>\n",
       "<table border=\"1\" class=\"dataframe\">\n",
       "  <thead>\n",
       "    <tr style=\"text-align: right;\">\n",
       "      <th></th>\n",
       "      <th>Month</th>\n",
       "      <th>Year</th>\n",
       "      <th>LenderA</th>\n",
       "      <th>LenderB</th>\n",
       "      <th>LenderC</th>\n",
       "      <th>LenderD</th>\n",
       "      <th>LenderE</th>\n",
       "      <th>LenderF</th>\n",
       "      <th>LenderG</th>\n",
       "      <th>LenderH</th>\n",
       "      <th>LenderI</th>\n",
       "      <th>LenderJ</th>\n",
       "      <th>LenderK</th>\n",
       "      <th>totalU</th>\n",
       "    </tr>\n",
       "    <tr>\n",
       "      <th>datetime</th>\n",
       "      <th></th>\n",
       "      <th></th>\n",
       "      <th></th>\n",
       "      <th></th>\n",
       "      <th></th>\n",
       "      <th></th>\n",
       "      <th></th>\n",
       "      <th></th>\n",
       "      <th></th>\n",
       "      <th></th>\n",
       "      <th></th>\n",
       "      <th></th>\n",
       "      <th></th>\n",
       "      <th></th>\n",
       "    </tr>\n",
       "  </thead>\n",
       "  <tbody>\n",
       "    <tr>\n",
       "      <th>2013-10-13</th>\n",
       "      <td>10</td>\n",
       "      <td>2013</td>\n",
       "      <td>74349.0</td>\n",
       "      <td>70109.93</td>\n",
       "      <td>11477.84</td>\n",
       "      <td>4884</td>\n",
       "      <td>0.0</td>\n",
       "      <td>61763.24</td>\n",
       "      <td>0.0</td>\n",
       "      <td>0.0</td>\n",
       "      <td>2442.00</td>\n",
       "      <td>0.0</td>\n",
       "      <td>2981.00</td>\n",
       "      <td>228007.01</td>\n",
       "    </tr>\n",
       "    <tr>\n",
       "      <th>2013-11-13</th>\n",
       "      <td>11</td>\n",
       "      <td>2013</td>\n",
       "      <td>73535.0</td>\n",
       "      <td>66083.05</td>\n",
       "      <td>9607.84</td>\n",
       "      <td>5170</td>\n",
       "      <td>0.0</td>\n",
       "      <td>61763.24</td>\n",
       "      <td>2563.0</td>\n",
       "      <td>0.0</td>\n",
       "      <td>2422.09</td>\n",
       "      <td>0.0</td>\n",
       "      <td>6844.09</td>\n",
       "      <td>227988.31</td>\n",
       "    </tr>\n",
       "    <tr>\n",
       "      <th>2013-12-10</th>\n",
       "      <td>12</td>\n",
       "      <td>2013</td>\n",
       "      <td>71027.0</td>\n",
       "      <td>93500.00</td>\n",
       "      <td>14300.00</td>\n",
       "      <td>4950</td>\n",
       "      <td>0.0</td>\n",
       "      <td>59400.00</td>\n",
       "      <td>12232.0</td>\n",
       "      <td>0.0</td>\n",
       "      <td>2640.00</td>\n",
       "      <td>0.0</td>\n",
       "      <td>7150.00</td>\n",
       "      <td>265199.00</td>\n",
       "    </tr>\n",
       "  </tbody>\n",
       "</table>\n",
       "</div>"
      ],
      "text/plain": [
       "            Month  Year  LenderA   LenderB   LenderC  LenderD  LenderE  \\\n",
       "datetime                                                                 \n",
       "2013-10-13     10  2013  74349.0  70109.93  11477.84     4884      0.0   \n",
       "2013-11-13     11  2013  73535.0  66083.05   9607.84     5170      0.0   \n",
       "2013-12-10     12  2013  71027.0  93500.00  14300.00     4950      0.0   \n",
       "\n",
       "             LenderF  LenderG  LenderH  LenderI  LenderJ  LenderK     totalU  \n",
       "datetime                                                                      \n",
       "2013-10-13  61763.24      0.0      0.0  2442.00      0.0  2981.00  228007.01  \n",
       "2013-11-13  61763.24   2563.0      0.0  2422.09      0.0  6844.09  227988.31  \n",
       "2013-12-10  59400.00  12232.0      0.0  2640.00      0.0  7150.00  265199.00  "
      ]
     },
     "execution_count": 51,
     "metadata": {},
     "output_type": "execute_result"
    }
   ],
   "source": [
    "monthly_data"
   ]
  },
  {
   "cell_type": "code",
   "execution_count": 90,
   "id": "a0814dd2-150c-482c-90de-52d004e4ba55",
   "metadata": {},
   "outputs": [],
   "source": [
    "def year_average_plot(ax, df, title):\n",
    "\n",
    "    # plotting style\n",
    "    ax.plot(df.Month, \n",
    "            df.totalU, \n",
    "            color='black', \n",
    "            marker='o', \n",
    "            linestyle='-',\n",
    "            linewidth=2, \n",
    "            mfc = 'salmon',\n",
    "            mec = None,\n",
    "            markersize=8,\n",
    "           )\n",
    "    ax.grid(which='both')\n",
    "    ax.set_title(f'{title}')\n",
    "    \n",
    "    # x-axis formatting\n",
    "    ax.set_xlim(0, 13)\n",
    "    ax.xaxis.set_major_locator(\n",
    "        mpl.ticker.FixedLocator(np.arange(1,13)))\n",
    "    \n",
    "    # y-axis formatting\n",
    "    ax.set_ylim(200000, 800000)\n",
    "    ax.yaxis.set_major_locator(\n",
    "        mpl.ticker.FixedLocator(\n",
    "            [300000, 400000, 500000, 600000, 700000]))\n",
    "    ax.yaxis.set_major_formatter('£{x:,.2f}')\n",
    "    ax.yaxis.set_minor_locator(\n",
    "        mpl.ticker.AutoMinorLocator(n=2))"
   ]
  },
  {
   "cell_type": "code",
   "execution_count": 91,
   "id": "b0f83273-0bd3-4e1d-9045-09f44cd57ea1",
   "metadata": {},
   "outputs": [
    {
     "data": {
      "image/png": "[encoded data removed]",
      "text/plain": [
       "<Figure size 640x480 with 1 Axes>"
      ]
     },
     "metadata": {},
     "output_type": "display_data"
    }
   ],
   "source": [
    "fig, ax = plt.subplots()\n",
    "year_average_plot(ax, monthly_data, title='2013')"
   ]
  },
  {
   "cell_type": "code",
   "execution_count": 78,
   "id": "1d93ebae-2221-4dbf-80d7-0eb2dbf2d529",
   "metadata": {},
   "outputs": [
    {
     "data": {
      "image/png": "[encoded data removed]",
      "text/plain": [
       "<Figure size 1200x1200 with 11 Axes>"
      ]
     },
     "metadata": {},
     "output_type": "display_data"
    }
   ],
   "source": [
    "fig, axs = plt.subplots(\n",
    "    nrows=3, ncols=4, \n",
    "    sharex=True, sharey=True,\n",
    "    layout=\"constrained\",\n",
    "    figsize=(12, 12))\n",
    "\n",
    "monthly_data_gen = (data_clean[data_clean['Year'] == year] for year in range(2013, 2024))\n",
    "year_gen = iter(range(2013, 2024))\n",
    "    \n",
    "for row in range(4):\n",
    "    for col in range(4):\n",
    "        try: \n",
    "            year_average_plot(ax=axs[row, col], df=next(monthly_data_gen), title=next(year_gen))\n",
    "        except Exception:\n",
    "            pass\n",
    "        \n",
    "fig.delaxes(axs[2][3])\n",
    "plt.show()"
   ]
  },
  {
   "cell_type": "code",
   "execution_count": null,
   "id": "2ef708d7-4a07-475c-9af4-9c0648bc13cf",
   "metadata": {},
   "outputs": [],
   "source": []
  },
  {
   "cell_type": "code",
   "execution_count": null,
   "id": "08c48fd5-5116-46a7-9373-37a17dfef361",
   "metadata": {},
   "outputs": [],
   "source": [
    "# # pandas quick plotting method\n",
    "# data_clean['totalU'].plot()"
   ]
  },
  {
   "cell_type": "code",
   "execution_count": null,
   "id": "601a0866-a519-47fb-b8f9-e8be2b4ecab6",
   "metadata": {},
   "outputs": [],
   "source": [
    "fig, ax  = plt.subplots(figsize=(10, 4))\n",
    "ax.plot(data_clean.index, data_clean['totalU'], 'b-x')\n",
    "ax.yaxis.set_major_formatter('£{x:,.2f}')"
   ]
  },
  {
   "cell_type": "code",
   "execution_count": null,
   "id": "ebace39e-0018-4a0c-ab6f-f0df04d6edca",
   "metadata": {},
   "outputs": [],
   "source": []
  },
  {
   "cell_type": "code",
   "execution_count": null,
   "id": "b09bc248-1304-4303-9937-b7458e475bf8",
   "metadata": {},
   "outputs": [],
   "source": [
    "# Modelling"
   ]
  },
  {
   "cell_type": "code",
   "execution_count": null,
   "id": "62154caa-f8c4-401a-9a3b-bedca9152cd6",
   "metadata": {},
   "outputs": [],
   "source": []
  },
  {
   "cell_type": "code",
   "execution_count": null,
   "id": "47d9bdfe-93a9-42ad-b719-197d40bf326a",
   "metadata": {},
   "outputs": [],
   "source": [
    "## GP modelling"
   ]
  },
  {
   "cell_type": "code",
   "execution_count": null,
   "id": "4353f476-dc58-48ff-8f11-030cf9ac194b",
   "metadata": {},
   "outputs": [],
   "source": []
  },
  {
   "cell_type": "code",
   "execution_count": null,
   "id": "2bf824f0-8261-4590-953f-b886ce52262d",
   "metadata": {},
   "outputs": [],
   "source": []
  },
  {
   "cell_type": "code",
   "execution_count": null,
   "id": "8197c251-2897-4d20-af9b-09d959729896",
   "metadata": {},
   "outputs": [],
   "source": [
    "## Machine Learning models in an autoregressive scheme"
   ]
  },
  {
   "cell_type": "code",
   "execution_count": null,
   "id": "afeb8d0b-6dc2-455d-901b-b9ab3dcee1bc",
   "metadata": {},
   "outputs": [],
   "source": []
  },
  {
   "cell_type": "code",
   "execution_count": null,
   "id": "feb89df5-3656-4e56-9f2e-31fa1885b1d0",
   "metadata": {},
   "outputs": [],
   "source": [
    "# a table showing the accuracy metrics"
   ]
  }
 ],
 "metadata": {
  "kernelspec": {
   "display_name": "Python 3 (ipykernel)",
   "language": "python",
   "name": "python3"
  },
  "language_info": {
   "codemirror_mode": {
    "name": "ipython",
    "version": 3
   },
   "file_extension": ".py",
   "mimetype": "text/x-python",
   "name": "python",
   "nbconvert_exporter": "python",
   "pygments_lexer": "ipython3",
   "version": "3.8.13"
  }
 },
 "nbformat": 4,
 "nbformat_minor": 5
}
