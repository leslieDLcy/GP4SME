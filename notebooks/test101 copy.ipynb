{
 "cells": [
  {
   "cell_type": "markdown",
   "id": "4bba9e9a-25e1-4408-9940-8b83d95dfcc4",
   "metadata": {},
   "source": [
    "Introduction\n",
    "=========\n",
    "\n",
    "A first attempt for assignment\n"
   ]
  },
  {
   "cell_type": "code",
   "execution_count": 1,
   "id": "343a4e8e-a878-4c51-b925-5e7c22c4106d",
   "metadata": {},
   "outputs": [],
   "source": [
    "import pandas as pd\n",
    "import numpy as np\n",
    "import matplotlib.pyplot as plt\n",
    "import seaborn as sns\n",
    "import matplotlib as mpl\n",
    "import datetime"
   ]
  },
  {
   "cell_type": "code",
   "execution_count": 2,
   "id": "7a83279b-e05b-4b60-b8c2-972492635595",
   "metadata": {},
   "outputs": [
    {
     "name": "stderr",
     "output_type": "stream",
     "text": [
      "2023-11-14 18:22:32.890760: I tensorflow/core/platform/cpu_feature_guard.cc:193] This TensorFlow binary is optimized with oneAPI Deep Neural Network Library (oneDNN) to use the following CPU instructions in performance-critical operations:  AVX2 FMA\n",
      "To enable them in other operations, rebuild TensorFlow with the appropriate compiler flags.\n",
      "2023-11-14 18:22:33.074400: E tensorflow/stream_executor/cuda/cuda_blas.cc:2981] Unable to register cuBLAS factory: Attempting to register factory for plugin cuBLAS when one has already been registered\n",
      "2023-11-14 18:22:35.269519: W tensorflow/stream_executor/platform/default/dso_loader.cc:64] Could not load dynamic library 'libnvinfer.so.7'; dlerror: libnvinfer.so.7: cannot open shared object file: No such file or directory; LD_LIBRARY_PATH: /data/share/soft/anaconda/anaconda3/envs/tf/lib/libfabric::/usr/local/cuda/lib64\n",
      "2023-11-14 18:22:35.269740: W tensorflow/stream_executor/platform/default/dso_loader.cc:64] Could not load dynamic library 'libnvinfer_plugin.so.7'; dlerror: libnvinfer_plugin.so.7: cannot open shared object file: No such file or directory; LD_LIBRARY_PATH: /data/share/soft/anaconda/anaconda3/envs/tf/lib/libfabric::/usr/local/cuda/lib64\n",
      "2023-11-14 18:22:35.269758: W tensorflow/compiler/tf2tensorrt/utils/py_utils.cc:38] TF-TRT Warning: Cannot dlopen some TensorRT libraries. If you would like to use Nvidia GPU with TensorRT, please make sure the missing libraries mentioned above are installed properly.\n"
     ]
    },
    {
     "name": "stdout",
     "output_type": "stream",
     "text": [
      "TF version: 2.10.1\n",
      "TFP version: 0.18.0\n"
     ]
    }
   ],
   "source": [
    "import tensorflow as tf\n",
    "import tensorflow_probability as tfp\n",
    "tfd = tfp.distributions\n",
    "tfpl = tfp.layers\n",
    "\n",
    "print('TF version:', tf.__version__)\n",
    "print('TFP version:', tfp.__version__)\n",
    "\n",
    "from tensorflow.keras.models import Sequential\n",
    "from tensorflow.keras.losses import MeanSquaredError\n",
    "from tensorflow.keras.optimizers import RMSprop"
   ]
  },
  {
   "cell_type": "code",
   "execution_count": 3,
   "id": "5e384c62-1c04-4614-9e96-279d3eb3a101",
   "metadata": {},
   "outputs": [],
   "source": [
    "from tensorflow import keras\n",
    "from tensorflow.keras import layers"
   ]
  },
  {
   "cell_type": "code",
   "execution_count": 4,
   "id": "b2deed12-7ae2-4b08-8bfa-ad84add49530",
   "metadata": {},
   "outputs": [],
   "source": [
    "# from probabilistic_models_archive.prior import sg_prior, gmm_prior\n",
    "# from probabilistic_models_archive.posterior import posterior\n",
    "# from probabilistic_models_archive.utils import nll"
   ]
  },
  {
   "cell_type": "code",
   "execution_count": 5,
   "id": "0ab78ef9-5142-4cf1-bad0-07f4b82d4b8b",
   "metadata": {},
   "outputs": [],
   "source": [
    "# %matplotlib inline"
   ]
  },
  {
   "cell_type": "code",
   "execution_count": 6,
   "id": "1eac1d3e-c00f-4c38-ab6b-59626bdb8379",
   "metadata": {},
   "outputs": [],
   "source": [
    "data = pd.read_csv('../data/raw/smedebtsu.csv')"
   ]
  },
  {
   "cell_type": "code",
   "execution_count": 7,
   "id": "12d3fb0c-95cd-4893-91d9-4cef392247ae",
   "metadata": {},
   "outputs": [
    {
     "name": "stdout",
     "output_type": "stream",
     "text": [
      "<class 'pandas.core.frame.DataFrame'>\n",
      "RangeIndex: 84 entries, 0 to 83\n",
      "Data columns (total 16 columns):\n",
      " #   Column   Non-Null Count  Dtype  \n",
      "---  ------   --------------  -----  \n",
      " 0   Date     84 non-null     object \n",
      " 1   Day      84 non-null     int64  \n",
      " 2   Month    84 non-null     int64  \n",
      " 3   Year     84 non-null     int64  \n",
      " 4   LenderA  84 non-null     float64\n",
      " 5   LenderB  84 non-null     float64\n",
      " 6   LenderC  84 non-null     float64\n",
      " 7   LenderD  84 non-null     int64  \n",
      " 8   LenderE  84 non-null     float64\n",
      " 9   LenderF  84 non-null     float64\n",
      " 10  LenderG  84 non-null     float64\n",
      " 11  LenderH  84 non-null     float64\n",
      " 12  LenderI  84 non-null     float64\n",
      " 13  LenderJ  84 non-null     float64\n",
      " 14  LenderK  84 non-null     float64\n",
      " 15  totalU   84 non-null     float64\n",
      "dtypes: float64(11), int64(4), object(1)\n",
      "memory usage: 10.6+ KB\n"
     ]
    }
   ],
   "source": [
    "data.info()"
   ]
  },
  {
   "cell_type": "markdown",
   "id": "2f41f5e9-ca46-4894-8295-d29285688ff5",
   "metadata": {
    "tags": []
   },
   "source": [
    "### clean date format"
   ]
  },
  {
   "cell_type": "code",
   "execution_count": 8,
   "id": "16a99192-b81a-4617-9f24-2c1b82c49042",
   "metadata": {},
   "outputs": [],
   "source": [
    "# identifying rows with wrong date formatting\n",
    "\n",
    "m = pd.to_datetime(data['Date'], format=\"%d/%m/%Y\", errors='coerce').isna()"
   ]
  },
  {
   "cell_type": "code",
   "execution_count": 9,
   "id": "f9f6a27a-a6a7-4abd-8736-960697b8b047",
   "metadata": {},
   "outputs": [
    {
     "name": "stdout",
     "output_type": "stream",
     "text": [
      "Rows with wrong date format: ['04/042022', '02/052022']\n"
     ]
    }
   ],
   "source": [
    "print(\"Rows with wrong date format:\", data.loc[m, 'Date'].unique().tolist())"
   ]
  },
  {
   "cell_type": "code",
   "execution_count": 10,
   "id": "2626599a-5609-450e-b6b0-5b5f4ff08e0a",
   "metadata": {},
   "outputs": [
    {
     "name": "stdout",
     "output_type": "stream",
     "text": [
      "Index([73], dtype='int64')\n"
     ]
    }
   ],
   "source": [
    "print(data[data['Date'] == '04/042022'].index)"
   ]
  },
  {
   "cell_type": "code",
   "execution_count": 11,
   "id": "737fa409-87f9-47aa-b86e-94ca78cd2f5b",
   "metadata": {},
   "outputs": [
    {
     "name": "stdout",
     "output_type": "stream",
     "text": [
      "Index([74, 75], dtype='int64')\n"
     ]
    }
   ],
   "source": [
    "print(data[data['Date'] == '02/052022'].index)"
   ]
  },
  {
   "cell_type": "code",
   "execution_count": null,
   "id": "f83886f5-f405-4238-a91c-55bcc1163d58",
   "metadata": {},
   "outputs": [],
   "source": [
    "def identify"
   ]
  },
  {
   "cell_type": "code",
   "execution_count": 12,
   "id": "01a4b257-7b5a-4448-9add-dd4bfaece8e7",
   "metadata": {},
   "outputs": [],
   "source": [
    "data.loc[73, 'Date'] = \"04/04/2022\"\n",
    "data.loc[74, 'Date'] = \"02/05/2022\"\n",
    "data.loc[75, 'Date'] = \"02/05/2022\""
   ]
  },
  {
   "cell_type": "code",
   "execution_count": 13,
   "id": "d555630f-4e2b-4e31-8d74-08ac7eee3b21",
   "metadata": {},
   "outputs": [],
   "source": [
    "data[\"datetime\"] = pd.to_datetime(data['Date'], format=\"%d/%m/%Y\")"
   ]
  },
  {
   "cell_type": "code",
   "execution_count": 14,
   "id": "17ed7838-67ff-45db-ba9c-bbb0d87e37f8",
   "metadata": {},
   "outputs": [
    {
     "data": {
      "text/html": [
       "<div>\n",
       "<style scoped>\n",
       "    .dataframe tbody tr th:only-of-type {\n",
       "        vertical-align: middle;\n",
       "    }\n",
       "\n",
       "    .dataframe tbody tr th {\n",
       "        vertical-align: top;\n",
       "    }\n",
       "\n",
       "    .dataframe thead th {\n",
       "        text-align: right;\n",
       "    }\n",
       "</style>\n",
       "<table border=\"1\" class=\"dataframe\">\n",
       "  <thead>\n",
       "    <tr style=\"text-align: right;\">\n",
       "      <th></th>\n",
       "      <th>Date</th>\n",
       "      <th>Day</th>\n",
       "      <th>Month</th>\n",
       "      <th>Year</th>\n",
       "      <th>LenderA</th>\n",
       "      <th>LenderB</th>\n",
       "      <th>LenderC</th>\n",
       "      <th>LenderD</th>\n",
       "      <th>LenderE</th>\n",
       "      <th>LenderF</th>\n",
       "      <th>LenderG</th>\n",
       "      <th>LenderH</th>\n",
       "      <th>LenderI</th>\n",
       "      <th>LenderJ</th>\n",
       "      <th>LenderK</th>\n",
       "      <th>totalU</th>\n",
       "      <th>datetime</th>\n",
       "    </tr>\n",
       "  </thead>\n",
       "  <tbody>\n",
       "    <tr>\n",
       "      <th>0</th>\n",
       "      <td>13/10/2013</td>\n",
       "      <td>13</td>\n",
       "      <td>10</td>\n",
       "      <td>2013</td>\n",
       "      <td>74349.0</td>\n",
       "      <td>70109.93</td>\n",
       "      <td>11477.84</td>\n",
       "      <td>4884</td>\n",
       "      <td>0.0</td>\n",
       "      <td>61763.24</td>\n",
       "      <td>0.0</td>\n",
       "      <td>0.0</td>\n",
       "      <td>2442.00</td>\n",
       "      <td>0.0</td>\n",
       "      <td>2981.00</td>\n",
       "      <td>228007.01</td>\n",
       "      <td>2013-10-13</td>\n",
       "    </tr>\n",
       "    <tr>\n",
       "      <th>1</th>\n",
       "      <td>13/11/2013</td>\n",
       "      <td>13</td>\n",
       "      <td>11</td>\n",
       "      <td>2013</td>\n",
       "      <td>73535.0</td>\n",
       "      <td>66083.05</td>\n",
       "      <td>9607.84</td>\n",
       "      <td>5170</td>\n",
       "      <td>0.0</td>\n",
       "      <td>61763.24</td>\n",
       "      <td>2563.0</td>\n",
       "      <td>0.0</td>\n",
       "      <td>2422.09</td>\n",
       "      <td>0.0</td>\n",
       "      <td>6844.09</td>\n",
       "      <td>227988.31</td>\n",
       "      <td>2013-11-13</td>\n",
       "    </tr>\n",
       "    <tr>\n",
       "      <th>2</th>\n",
       "      <td>10/12/2013</td>\n",
       "      <td>10</td>\n",
       "      <td>12</td>\n",
       "      <td>2013</td>\n",
       "      <td>71027.0</td>\n",
       "      <td>93500.00</td>\n",
       "      <td>14300.00</td>\n",
       "      <td>4950</td>\n",
       "      <td>0.0</td>\n",
       "      <td>59400.00</td>\n",
       "      <td>12232.0</td>\n",
       "      <td>0.0</td>\n",
       "      <td>2640.00</td>\n",
       "      <td>0.0</td>\n",
       "      <td>7150.00</td>\n",
       "      <td>265199.00</td>\n",
       "      <td>2013-12-10</td>\n",
       "    </tr>\n",
       "    <tr>\n",
       "      <th>3</th>\n",
       "      <td>23/01/2014</td>\n",
       "      <td>23</td>\n",
       "      <td>1</td>\n",
       "      <td>2014</td>\n",
       "      <td>0.0</td>\n",
       "      <td>15741.00</td>\n",
       "      <td>14300.00</td>\n",
       "      <td>3300</td>\n",
       "      <td>262944.0</td>\n",
       "      <td>0.00</td>\n",
       "      <td>3168.0</td>\n",
       "      <td>0.0</td>\n",
       "      <td>0.00</td>\n",
       "      <td>0.0</td>\n",
       "      <td>0.00</td>\n",
       "      <td>299453.00</td>\n",
       "      <td>2014-01-23</td>\n",
       "    </tr>\n",
       "    <tr>\n",
       "      <th>4</th>\n",
       "      <td>05/03/2014</td>\n",
       "      <td>5</td>\n",
       "      <td>3</td>\n",
       "      <td>2014</td>\n",
       "      <td>0.0</td>\n",
       "      <td>14850.00</td>\n",
       "      <td>13200.00</td>\n",
       "      <td>3476</td>\n",
       "      <td>254177.0</td>\n",
       "      <td>0.00</td>\n",
       "      <td>4400.0</td>\n",
       "      <td>0.0</td>\n",
       "      <td>0.00</td>\n",
       "      <td>0.0</td>\n",
       "      <td>0.00</td>\n",
       "      <td>290103.00</td>\n",
       "      <td>2014-03-05</td>\n",
       "    </tr>\n",
       "  </tbody>\n",
       "</table>\n",
       "</div>"
      ],
      "text/plain": [
       "         Date  Day  Month  Year  LenderA   LenderB   LenderC  LenderD  \\\n",
       "0  13/10/2013   13     10  2013  74349.0  70109.93  11477.84     4884   \n",
       "1  13/11/2013   13     11  2013  73535.0  66083.05   9607.84     5170   \n",
       "2  10/12/2013   10     12  2013  71027.0  93500.00  14300.00     4950   \n",
       "3  23/01/2014   23      1  2014      0.0  15741.00  14300.00     3300   \n",
       "4  05/03/2014    5      3  2014      0.0  14850.00  13200.00     3476   \n",
       "\n",
       "    LenderE   LenderF  LenderG  LenderH  LenderI  LenderJ  LenderK     totalU  \\\n",
       "0       0.0  61763.24      0.0      0.0  2442.00      0.0  2981.00  228007.01   \n",
       "1       0.0  61763.24   2563.0      0.0  2422.09      0.0  6844.09  227988.31   \n",
       "2       0.0  59400.00  12232.0      0.0  2640.00      0.0  7150.00  265199.00   \n",
       "3  262944.0      0.00   3168.0      0.0     0.00      0.0     0.00  299453.00   \n",
       "4  254177.0      0.00   4400.0      0.0     0.00      0.0     0.00  290103.00   \n",
       "\n",
       "    datetime  \n",
       "0 2013-10-13  \n",
       "1 2013-11-13  \n",
       "2 2013-12-10  \n",
       "3 2014-01-23  \n",
       "4 2014-03-05  "
      ]
     },
     "execution_count": 14,
     "metadata": {},
     "output_type": "execute_result"
    }
   ],
   "source": [
    "data.head()"
   ]
  },
  {
   "cell_type": "code",
   "execution_count": 15,
   "id": "dc718d16-f627-4aae-bfb2-57af9a8f6812",
   "metadata": {},
   "outputs": [],
   "source": [
    "data_clean = data.set_index('datetime').drop(['Day', 'Date'], axis=1)"
   ]
  },
  {
   "cell_type": "code",
   "execution_count": 16,
   "id": "5837eda4-4a6f-40c1-997a-d9bf5a24c8c4",
   "metadata": {},
   "outputs": [
    {
     "data": {
      "text/html": [
       "<div>\n",
       "<style scoped>\n",
       "    .dataframe tbody tr th:only-of-type {\n",
       "        vertical-align: middle;\n",
       "    }\n",
       "\n",
       "    .dataframe tbody tr th {\n",
       "        vertical-align: top;\n",
       "    }\n",
       "\n",
       "    .dataframe thead th {\n",
       "        text-align: right;\n",
       "    }\n",
       "</style>\n",
       "<table border=\"1\" class=\"dataframe\">\n",
       "  <thead>\n",
       "    <tr style=\"text-align: right;\">\n",
       "      <th></th>\n",
       "      <th>Month</th>\n",
       "      <th>Year</th>\n",
       "      <th>LenderA</th>\n",
       "      <th>LenderB</th>\n",
       "      <th>LenderC</th>\n",
       "      <th>LenderD</th>\n",
       "      <th>LenderE</th>\n",
       "      <th>LenderF</th>\n",
       "      <th>LenderG</th>\n",
       "      <th>LenderH</th>\n",
       "      <th>LenderI</th>\n",
       "      <th>LenderJ</th>\n",
       "      <th>LenderK</th>\n",
       "      <th>totalU</th>\n",
       "    </tr>\n",
       "    <tr>\n",
       "      <th>datetime</th>\n",
       "      <th></th>\n",
       "      <th></th>\n",
       "      <th></th>\n",
       "      <th></th>\n",
       "      <th></th>\n",
       "      <th></th>\n",
       "      <th></th>\n",
       "      <th></th>\n",
       "      <th></th>\n",
       "      <th></th>\n",
       "      <th></th>\n",
       "      <th></th>\n",
       "      <th></th>\n",
       "      <th></th>\n",
       "    </tr>\n",
       "  </thead>\n",
       "  <tbody>\n",
       "    <tr>\n",
       "      <th>2013-10-13</th>\n",
       "      <td>10</td>\n",
       "      <td>2013</td>\n",
       "      <td>74349.0</td>\n",
       "      <td>70109.93</td>\n",
       "      <td>11477.84</td>\n",
       "      <td>4884</td>\n",
       "      <td>0.0</td>\n",
       "      <td>61763.24</td>\n",
       "      <td>0.0</td>\n",
       "      <td>0.0</td>\n",
       "      <td>2442.00</td>\n",
       "      <td>0.0</td>\n",
       "      <td>2981.00</td>\n",
       "      <td>228007.01</td>\n",
       "    </tr>\n",
       "    <tr>\n",
       "      <th>2013-11-13</th>\n",
       "      <td>11</td>\n",
       "      <td>2013</td>\n",
       "      <td>73535.0</td>\n",
       "      <td>66083.05</td>\n",
       "      <td>9607.84</td>\n",
       "      <td>5170</td>\n",
       "      <td>0.0</td>\n",
       "      <td>61763.24</td>\n",
       "      <td>2563.0</td>\n",
       "      <td>0.0</td>\n",
       "      <td>2422.09</td>\n",
       "      <td>0.0</td>\n",
       "      <td>6844.09</td>\n",
       "      <td>227988.31</td>\n",
       "    </tr>\n",
       "    <tr>\n",
       "      <th>2013-12-10</th>\n",
       "      <td>12</td>\n",
       "      <td>2013</td>\n",
       "      <td>71027.0</td>\n",
       "      <td>93500.00</td>\n",
       "      <td>14300.00</td>\n",
       "      <td>4950</td>\n",
       "      <td>0.0</td>\n",
       "      <td>59400.00</td>\n",
       "      <td>12232.0</td>\n",
       "      <td>0.0</td>\n",
       "      <td>2640.00</td>\n",
       "      <td>0.0</td>\n",
       "      <td>7150.00</td>\n",
       "      <td>265199.00</td>\n",
       "    </tr>\n",
       "    <tr>\n",
       "      <th>2014-01-23</th>\n",
       "      <td>1</td>\n",
       "      <td>2014</td>\n",
       "      <td>0.0</td>\n",
       "      <td>15741.00</td>\n",
       "      <td>14300.00</td>\n",
       "      <td>3300</td>\n",
       "      <td>262944.0</td>\n",
       "      <td>0.00</td>\n",
       "      <td>3168.0</td>\n",
       "      <td>0.0</td>\n",
       "      <td>0.00</td>\n",
       "      <td>0.0</td>\n",
       "      <td>0.00</td>\n",
       "      <td>299453.00</td>\n",
       "    </tr>\n",
       "    <tr>\n",
       "      <th>2014-03-05</th>\n",
       "      <td>3</td>\n",
       "      <td>2014</td>\n",
       "      <td>0.0</td>\n",
       "      <td>14850.00</td>\n",
       "      <td>13200.00</td>\n",
       "      <td>3476</td>\n",
       "      <td>254177.0</td>\n",
       "      <td>0.00</td>\n",
       "      <td>4400.0</td>\n",
       "      <td>0.0</td>\n",
       "      <td>0.00</td>\n",
       "      <td>0.0</td>\n",
       "      <td>0.00</td>\n",
       "      <td>290103.00</td>\n",
       "    </tr>\n",
       "  </tbody>\n",
       "</table>\n",
       "</div>"
      ],
      "text/plain": [
       "            Month  Year  LenderA   LenderB   LenderC  LenderD   LenderE  \\\n",
       "datetime                                                                  \n",
       "2013-10-13     10  2013  74349.0  70109.93  11477.84     4884       0.0   \n",
       "2013-11-13     11  2013  73535.0  66083.05   9607.84     5170       0.0   \n",
       "2013-12-10     12  2013  71027.0  93500.00  14300.00     4950       0.0   \n",
       "2014-01-23      1  2014      0.0  15741.00  14300.00     3300  262944.0   \n",
       "2014-03-05      3  2014      0.0  14850.00  13200.00     3476  254177.0   \n",
       "\n",
       "             LenderF  LenderG  LenderH  LenderI  LenderJ  LenderK     totalU  \n",
       "datetime                                                                      \n",
       "2013-10-13  61763.24      0.0      0.0  2442.00      0.0  2981.00  228007.01  \n",
       "2013-11-13  61763.24   2563.0      0.0  2422.09      0.0  6844.09  227988.31  \n",
       "2013-12-10  59400.00  12232.0      0.0  2640.00      0.0  7150.00  265199.00  \n",
       "2014-01-23      0.00   3168.0      0.0     0.00      0.0     0.00  299453.00  \n",
       "2014-03-05      0.00   4400.0      0.0     0.00      0.0     0.00  290103.00  "
      ]
     },
     "execution_count": 16,
     "metadata": {},
     "output_type": "execute_result"
    }
   ],
   "source": [
    "data_clean.head()"
   ]
  },
  {
   "cell_type": "code",
   "execution_count": 17,
   "id": "88456f71-9590-45f2-9f46-1781d465c349",
   "metadata": {},
   "outputs": [
    {
     "data": {
      "text/plain": [
       "(84, 14)"
      ]
     },
     "execution_count": 17,
     "metadata": {},
     "output_type": "execute_result"
    }
   ],
   "source": [
    "data_clean.shape"
   ]
  },
  {
   "cell_type": "markdown",
   "id": "76b76294-a172-4c10-ba19-c7bdca50d54c",
   "metadata": {
    "tags": []
   },
   "source": [
    "### check missing data"
   ]
  },
  {
   "cell_type": "code",
   "execution_count": null,
   "id": "3d74e9f1-00cb-414a-a0b5-a165c6b4417c",
   "metadata": {},
   "outputs": [],
   "source": [
    "data_clean.isna().sum()"
   ]
  },
  {
   "cell_type": "markdown",
   "id": "5123841c-c5ef-451c-ac8a-f0a8558597c7",
   "metadata": {},
   "source": [
    "conclusion: currently, there is no missing data. However, in the cases there are, we can show the places for missing data"
   ]
  },
  {
   "cell_type": "code",
   "execution_count": null,
   "id": "47e53349-946d-403d-bd68-c0e914ed4fbd",
   "metadata": {},
   "outputs": [],
   "source": [
    "# data_clean.query('data_clean.isna()')"
   ]
  },
  {
   "cell_type": "code",
   "execution_count": null,
   "id": "7de724b2-1cd3-473d-b9cb-38eea6fe3781",
   "metadata": {},
   "outputs": [],
   "source": [
    "# check for missing months"
   ]
  },
  {
   "cell_type": "code",
   "execution_count": null,
   "id": "0a6f0c49-5bd2-4312-852f-ccd568a06e3c",
   "metadata": {},
   "outputs": [],
   "source": [
    "data_clean"
   ]
  },
  {
   "cell_type": "code",
   "execution_count": null,
   "id": "d8212765-563b-4e9a-8c68-01dc431f4aaf",
   "metadata": {},
   "outputs": [],
   "source": [
    "def find_missing_months(df):\n",
    "    \"\"\" look for months with missing records from the history \n",
    "    \n",
    "    args:\n",
    "        df: the query dataframe\n",
    "        \n",
    "    return:\n",
    "        information (stdout) as to missing months\n",
    "    \"\"\"\n",
    "    \n",
    "    s = df.resample('MS').size()\n",
    "    mm = s[s == 0].index.to_period('M')\n",
    "    num = len(mm)\n",
    "    print(f\"Number of monthly missing records: {num}\")\n",
    "    print(mm)"
   ]
  },
  {
   "cell_type": "code",
   "execution_count": null,
   "id": "7fb65778-7c3f-4570-b4e5-c626cd154b12",
   "metadata": {},
   "outputs": [],
   "source": [
    "find_missing_months(data_clean)"
   ]
  },
  {
   "cell_type": "code",
   "execution_count": null,
   "id": "9a8e9312-e6d7-4335-8c51-208b81ef1611",
   "metadata": {},
   "outputs": [],
   "source": [
    "# # failed attempt\n",
    "# min = data_clean.index.min().date()\n",
    "# max = data_clean.index.max().date()\n",
    "# pd.date_range(start=min, end=max, freq='M')"
   ]
  },
  {
   "cell_type": "code",
   "execution_count": null,
   "id": "cdfe9085-5cf8-4acb-b07e-5edab4ae149c",
   "metadata": {},
   "outputs": [],
   "source": []
  },
  {
   "cell_type": "code",
   "execution_count": null,
   "id": "7e6b4333-6068-442d-9961-7dadeb37c3af",
   "metadata": {},
   "outputs": [],
   "source": []
  },
  {
   "cell_type": "markdown",
   "id": "5733f349-4446-4dce-bd23-2604e49e1814",
   "metadata": {
    "tags": []
   },
   "source": [
    "### check duplicated data"
   ]
  },
  {
   "cell_type": "code",
   "execution_count": null,
   "id": "1e383e85-eb02-4217-b80a-3caf8ab678c3",
   "metadata": {},
   "outputs": [],
   "source": [
    "data_clean.duplicated().sum()"
   ]
  },
  {
   "cell_type": "code",
   "execution_count": null,
   "id": "9b01e276-f946-40a0-a726-bf1dbdbfef55",
   "metadata": {},
   "outputs": [],
   "source": [
    "# display the duplicated rows if there exist\n",
    "\n",
    "data_clean[data_clean.duplicated()]"
   ]
  },
  {
   "cell_type": "code",
   "execution_count": null,
   "id": "40a8e6c0-093e-4a5b-966f-0979b7737d77",
   "metadata": {},
   "outputs": [],
   "source": [
    "data_clean.head()"
   ]
  },
  {
   "cell_type": "code",
   "execution_count": null,
   "id": "ad02b9a2-9624-4795-b902-80e0fb5b8d9a",
   "metadata": {},
   "outputs": [],
   "source": [
    "sns.set_style(\"whitegrid\")\n",
    "fig, ax = plt.subplots(figsize=(8, 8))\n",
    "ax = sns.boxplot(\n",
    "    data=data_clean, \n",
    "    y='totalU', \n",
    "    x='Year', \n",
    ")"
   ]
  },
  {
   "cell_type": "code",
   "execution_count": null,
   "id": "8270e7d9-3fb4-4c56-aa97-eba01f4292cf",
   "metadata": {},
   "outputs": [],
   "source": [
    "data_clean.shape"
   ]
  },
  {
   "cell_type": "markdown",
   "id": "1cab5b26-53f3-4508-ae2f-e60ead08b963",
   "metadata": {
    "jp-MarkdownHeadingCollapsed": true,
    "tags": []
   },
   "source": [
    "### data visualization"
   ]
  },
  {
   "cell_type": "code",
   "execution_count": 18,
   "id": "c5f0ea51-e19e-41a4-8938-958cabdadb01",
   "metadata": {},
   "outputs": [],
   "source": [
    "monthly_data = data_clean[data_clean['Year'] == 2013]"
   ]
  },
  {
   "cell_type": "code",
   "execution_count": 19,
   "id": "f7d4d3e2-4e69-4d75-a225-f1d33d3c7245",
   "metadata": {},
   "outputs": [
    {
     "data": {
      "text/html": [
       "<div>\n",
       "<style scoped>\n",
       "    .dataframe tbody tr th:only-of-type {\n",
       "        vertical-align: middle;\n",
       "    }\n",
       "\n",
       "    .dataframe tbody tr th {\n",
       "        vertical-align: top;\n",
       "    }\n",
       "\n",
       "    .dataframe thead th {\n",
       "        text-align: right;\n",
       "    }\n",
       "</style>\n",
       "<table border=\"1\" class=\"dataframe\">\n",
       "  <thead>\n",
       "    <tr style=\"text-align: right;\">\n",
       "      <th></th>\n",
       "      <th>Month</th>\n",
       "      <th>Year</th>\n",
       "      <th>LenderA</th>\n",
       "      <th>LenderB</th>\n",
       "      <th>LenderC</th>\n",
       "      <th>LenderD</th>\n",
       "      <th>LenderE</th>\n",
       "      <th>LenderF</th>\n",
       "      <th>LenderG</th>\n",
       "      <th>LenderH</th>\n",
       "      <th>LenderI</th>\n",
       "      <th>LenderJ</th>\n",
       "      <th>LenderK</th>\n",
       "      <th>totalU</th>\n",
       "    </tr>\n",
       "    <tr>\n",
       "      <th>datetime</th>\n",
       "      <th></th>\n",
       "      <th></th>\n",
       "      <th></th>\n",
       "      <th></th>\n",
       "      <th></th>\n",
       "      <th></th>\n",
       "      <th></th>\n",
       "      <th></th>\n",
       "      <th></th>\n",
       "      <th></th>\n",
       "      <th></th>\n",
       "      <th></th>\n",
       "      <th></th>\n",
       "      <th></th>\n",
       "    </tr>\n",
       "  </thead>\n",
       "  <tbody>\n",
       "    <tr>\n",
       "      <th>2013-10-13</th>\n",
       "      <td>10</td>\n",
       "      <td>2013</td>\n",
       "      <td>74349.0</td>\n",
       "      <td>70109.93</td>\n",
       "      <td>11477.84</td>\n",
       "      <td>4884</td>\n",
       "      <td>0.0</td>\n",
       "      <td>61763.24</td>\n",
       "      <td>0.0</td>\n",
       "      <td>0.0</td>\n",
       "      <td>2442.00</td>\n",
       "      <td>0.0</td>\n",
       "      <td>2981.00</td>\n",
       "      <td>228007.01</td>\n",
       "    </tr>\n",
       "    <tr>\n",
       "      <th>2013-11-13</th>\n",
       "      <td>11</td>\n",
       "      <td>2013</td>\n",
       "      <td>73535.0</td>\n",
       "      <td>66083.05</td>\n",
       "      <td>9607.84</td>\n",
       "      <td>5170</td>\n",
       "      <td>0.0</td>\n",
       "      <td>61763.24</td>\n",
       "      <td>2563.0</td>\n",
       "      <td>0.0</td>\n",
       "      <td>2422.09</td>\n",
       "      <td>0.0</td>\n",
       "      <td>6844.09</td>\n",
       "      <td>227988.31</td>\n",
       "    </tr>\n",
       "    <tr>\n",
       "      <th>2013-12-10</th>\n",
       "      <td>12</td>\n",
       "      <td>2013</td>\n",
       "      <td>71027.0</td>\n",
       "      <td>93500.00</td>\n",
       "      <td>14300.00</td>\n",
       "      <td>4950</td>\n",
       "      <td>0.0</td>\n",
       "      <td>59400.00</td>\n",
       "      <td>12232.0</td>\n",
       "      <td>0.0</td>\n",
       "      <td>2640.00</td>\n",
       "      <td>0.0</td>\n",
       "      <td>7150.00</td>\n",
       "      <td>265199.00</td>\n",
       "    </tr>\n",
       "  </tbody>\n",
       "</table>\n",
       "</div>"
      ],
      "text/plain": [
       "            Month  Year  LenderA   LenderB   LenderC  LenderD  LenderE  \\\n",
       "datetime                                                                 \n",
       "2013-10-13     10  2013  74349.0  70109.93  11477.84     4884      0.0   \n",
       "2013-11-13     11  2013  73535.0  66083.05   9607.84     5170      0.0   \n",
       "2013-12-10     12  2013  71027.0  93500.00  14300.00     4950      0.0   \n",
       "\n",
       "             LenderF  LenderG  LenderH  LenderI  LenderJ  LenderK     totalU  \n",
       "datetime                                                                      \n",
       "2013-10-13  61763.24      0.0      0.0  2442.00      0.0  2981.00  228007.01  \n",
       "2013-11-13  61763.24   2563.0      0.0  2422.09      0.0  6844.09  227988.31  \n",
       "2013-12-10  59400.00  12232.0      0.0  2640.00      0.0  7150.00  265199.00  "
      ]
     },
     "execution_count": 19,
     "metadata": {},
     "output_type": "execute_result"
    }
   ],
   "source": [
    "monthly_data"
   ]
  },
  {
   "cell_type": "code",
   "execution_count": 20,
   "id": "a0814dd2-150c-482c-90de-52d004e4ba55",
   "metadata": {},
   "outputs": [],
   "source": [
    "def year_average_plot(ax, df, title):\n",
    "\n",
    "    # plotting style\n",
    "    ax.plot(df.Month, \n",
    "            df.totalU, \n",
    "            color='black', \n",
    "            marker='o', \n",
    "            linestyle='-',\n",
    "            linewidth=2, \n",
    "            mfc = 'salmon',\n",
    "            mec = None,\n",
    "            markersize=8,\n",
    "           )\n",
    "    ax.grid(which='both')\n",
    "    ax.set_title(f'{title}')\n",
    "    \n",
    "    # x-axis formatting\n",
    "    ax.set_xlim(0, 13)\n",
    "    ax.xaxis.set_major_locator(\n",
    "        mpl.ticker.FixedLocator(np.arange(1,13)))\n",
    "    \n",
    "    # y-axis formatting\n",
    "    ax.set_ylim(200000, 800000)\n",
    "    ax.yaxis.set_major_locator(\n",
    "        mpl.ticker.FixedLocator(\n",
    "            [300000, 400000, 500000, 600000, 700000]))\n",
    "    ax.yaxis.set_major_formatter('£{x:,.2f}')\n",
    "    ax.yaxis.set_minor_locator(\n",
    "        mpl.ticker.AutoMinorLocator(n=2))\n"
   ]
  },
  {
   "cell_type": "code",
   "execution_count": 21,
   "id": "b0f83273-0bd3-4e1d-9045-09f44cd57ea1",
   "metadata": {},
   "outputs": [
    {
     "data": {
      "image/png": "[encoded data removed]",
      "text/plain": [
       "<Figure size 640x480 with 1 Axes>"
      ]
     },
     "metadata": {},
     "output_type": "display_data"
    }
   ],
   "source": [
    "fig, ax = plt.subplots()\n",
    "year_average_plot(ax, monthly_data, title='2013')"
   ]
  },
  {
   "cell_type": "code",
   "execution_count": 22,
   "id": "1d93ebae-2221-4dbf-80d7-0eb2dbf2d529",
   "metadata": {},
   "outputs": [
    {
     "data": {
      "image/png": "[encoded data removed]",
      "text/plain": [
       "<Figure size 1200x1200 with 11 Axes>"
      ]
     },
     "metadata": {},
     "output_type": "display_data"
    }
   ],
   "source": [
    "fig, axs = plt.subplots(\n",
    "    nrows=3, ncols=4, \n",
    "    sharex=True, sharey=True,\n",
    "    layout=\"constrained\",\n",
    "    figsize=(12, 12))\n",
    "\n",
    "monthly_data_gen = (data_clean[data_clean['Year'] == year] for year in range(2013, 2024))\n",
    "year_gen = iter(range(2013, 2024))\n",
    "    \n",
    "for row in range(4):\n",
    "    for col in range(4):\n",
    "        try: \n",
    "            year_average_plot(ax=axs[row, col], df=next(monthly_data_gen), title=next(year_gen))\n",
    "        except Exception:\n",
    "            pass\n",
    "        \n",
    "fig.delaxes(axs[2][3])\n",
    "plt.show()"
   ]
  },
  {
   "cell_type": "code",
   "execution_count": 23,
   "id": "08c48fd5-5116-46a7-9373-37a17dfef361",
   "metadata": {},
   "outputs": [],
   "source": [
    "# # pandas quick plotting method\n",
    "# data_clean['totalU'].plot()"
   ]
  },
  {
   "cell_type": "code",
   "execution_count": 24,
   "id": "601a0866-a519-47fb-b8f9-e8be2b4ecab6",
   "metadata": {},
   "outputs": [
    {
     "data": {
      "image/png": "[encoded data removed]",
      "text/plain": [
       "<Figure size 1000x400 with 1 Axes>"
      ]
     },
     "metadata": {},
     "output_type": "display_data"
    }
   ],
   "source": [
    "fig, ax  = plt.subplots(figsize=(10, 4))\n",
    "ax.plot(data_clean.index, data_clean['totalU'], 'k-x')\n",
    "ax.yaxis.set_major_formatter('£{x:,.2f}')"
   ]
  },
  {
   "cell_type": "markdown",
   "id": "06c644c0-2e41-4fc6-a61e-1759937c3cbd",
   "metadata": {
    "jp-MarkdownHeadingCollapsed": true,
    "tags": []
   },
   "source": [
    "# Modelling"
   ]
  },
  {
   "cell_type": "code",
   "execution_count": null,
   "id": "47d9bdfe-93a9-42ad-b719-197d40bf326a",
   "metadata": {},
   "outputs": [],
   "source": [
    "## GP modelling"
   ]
  },
  {
   "cell_type": "code",
   "execution_count": null,
   "id": "de7536bd-426e-4066-91e4-344a6d2d1048",
   "metadata": {},
   "outputs": [],
   "source": [
    "data_clean.head()"
   ]
  },
  {
   "cell_type": "code",
   "execution_count": null,
   "id": "4353f476-dc58-48ff-8f11-030cf9ac194b",
   "metadata": {},
   "outputs": [],
   "source": [
    "data_clean.tail()"
   ]
  },
  {
   "cell_type": "code",
   "execution_count": null,
   "id": "5700a0c0-1e00-46e0-ad21-d008426dc80b",
   "metadata": {},
   "outputs": [],
   "source": [
    "# def transform_X(df):\n",
    "#     \"\"\" from date format into numeric format \"\"\"\n",
    "#     return (df.index.year + df.index.month / 12).to_numpy().reshape(-1, 1)"
   ]
  },
  {
   "cell_type": "code",
   "execution_count": 25,
   "id": "8e69904a-083a-4f6f-9e1f-7c20e4b1521e",
   "metadata": {},
   "outputs": [],
   "source": [
    "def prepare_training_data(df):\n",
    "\n",
    "    y = data_clean[['totalU']].to_numpy().reshape(-1, 1)\n",
    "    y = y - y.mean()\n",
    "    X = (df.index.year + df.index.month / 12).to_numpy().reshape(-1, 1)\n",
    "    \n",
    "    # change unit to million\n",
    "    y = y / 1000_000\n",
    "    \n",
    "    return X, y"
   ]
  },
  {
   "cell_type": "code",
   "execution_count": 26,
   "id": "ffc80b2a-a05a-44d3-b499-c0945f984fa5",
   "metadata": {},
   "outputs": [],
   "source": [
    "X, y = prepare_training_data(data_clean)"
   ]
  },
  {
   "cell_type": "code",
   "execution_count": 27,
   "id": "10184fc2-6b5a-404f-bcf3-b535852bf825",
   "metadata": {},
   "outputs": [
    {
     "data": {
      "text/plain": [
       "(84, 1)"
      ]
     },
     "execution_count": 27,
     "metadata": {},
     "output_type": "execute_result"
    }
   ],
   "source": [
    "X.shape"
   ]
  },
  {
   "cell_type": "code",
   "execution_count": 28,
   "id": "0c18dac6-c3dc-4a1a-bd97-b6975a2ea89f",
   "metadata": {},
   "outputs": [
    {
     "data": {
      "text/plain": [
       "(84, 1)"
      ]
     },
     "execution_count": 28,
     "metadata": {},
     "output_type": "execute_result"
    }
   ],
   "source": [
    "y.shape"
   ]
  },
  {
   "cell_type": "code",
   "execution_count": 29,
   "id": "78098bd8-3992-4575-aa6b-f466449e3ff9",
   "metadata": {},
   "outputs": [
    {
     "data": {
      "text/plain": [
       "array([[-0.23742403],\n",
       "       [-0.23744273],\n",
       "       [-0.20023204],\n",
       "       [-0.16597804],\n",
       "       [-0.17532804],\n",
       "       [-0.16109404],\n",
       "       [-0.17180804],\n",
       "       [-0.15784904],\n",
       "       [-0.17785804],\n",
       "       [-0.15291004]])"
      ]
     },
     "execution_count": 29,
     "metadata": {},
     "output_type": "execute_result"
    }
   ],
   "source": [
    "y[:10]"
   ]
  },
  {
   "cell_type": "code",
   "execution_count": 30,
   "id": "4d4829aa-8c19-4f37-9767-d9d21d8391d3",
   "metadata": {},
   "outputs": [],
   "source": [
    "today = datetime.datetime.now()\n",
    "current_month = today.year + today.month / 12"
   ]
  },
  {
   "cell_type": "code",
   "execution_count": 31,
   "id": "a0f73f69-fca0-4475-869b-ba1b0d846b63",
   "metadata": {},
   "outputs": [],
   "source": [
    "# the start month of the observation\n",
    "\n",
    "start = data_clean.index.min()\n",
    "start_month = start.year + start.month / 12"
   ]
  },
  {
   "cell_type": "code",
   "execution_count": 77,
   "id": "cebf0d86-e531-467c-8a58-65ada00dd94e",
   "metadata": {},
   "outputs": [],
   "source": [
    "# the last month of the observation\n",
    "\n",
    "last = data_clean.index.max()\n",
    "last_month = last.year + last.month / 12"
   ]
  },
  {
   "cell_type": "code",
   "execution_count": 32,
   "id": "b9527cf0-0357-4096-bce5-105ef587bcc7",
   "metadata": {},
   "outputs": [],
   "source": [
    "X_test = np.linspace(start=start_month, stop=current_month, num=200).reshape(-1, 1)"
   ]
  },
  {
   "cell_type": "code",
   "execution_count": 33,
   "id": "0725652e-6a62-401f-8a68-fe90c4c3be89",
   "metadata": {},
   "outputs": [
    {
     "data": {
      "text/plain": [
       "(200, 1)"
      ]
     },
     "execution_count": 33,
     "metadata": {},
     "output_type": "execute_result"
    }
   ],
   "source": [
    "X_test.shape"
   ]
  },
  {
   "cell_type": "markdown",
   "id": "eb1988e8-c790-45f3-a1df-232c54424027",
   "metadata": {
    "tags": []
   },
   "source": [
    "### GP modelling"
   ]
  },
  {
   "cell_type": "markdown",
   "id": "6042a5c8-1d8c-4c5a-9f26-4bb387e20808",
   "metadata": {
    "tags": []
   },
   "source": [
    "#### gpflow implementation"
   ]
  },
  {
   "cell_type": "code",
   "execution_count": 34,
   "id": "7359da2c-1e4a-4660-8752-7c9fc4ac1c9c",
   "metadata": {},
   "outputs": [],
   "source": [
    "import gpflow"
   ]
  },
  {
   "cell_type": "code",
   "execution_count": 44,
   "id": "6eca179d-89da-4be9-a826-788fc4882250",
   "metadata": {},
   "outputs": [
    {
     "data": {
      "text/plain": [
       "  message: ABNORMAL_TERMINATION_IN_LNSRCH\n",
       "  success: False\n",
       "   status: 2\n",
       "      fun: -140.61174550233284\n",
       "        x: [-1.173e-01 -4.115e+00  6.518e-01  1.042e-02 -7.218e+00\n",
       "            -7.027e+00]\n",
       "      nit: 40\n",
       "      jac: [ 6.062e-03 -2.741e-03 -4.476e-03 -2.540e-04  2.639e-04\n",
       "             7.268e-04]\n",
       "     nfev: 93\n",
       "     njev: 93\n",
       " hess_inv: <6x6 LbfgsInvHessProduct with dtype=float64>"
      ]
     },
     "execution_count": 44,
     "metadata": {},
     "output_type": "execute_result"
    }
   ],
   "source": [
    "# get the zero-mean process\n",
    "model = gpflow.models.GPR(\n",
    "    (X, y),\n",
    "    kernel=gpflow.kernels.SquaredExponential()\n",
    "    + gpflow.kernels.Periodic(gpflow.kernels.SquaredExponential(), period=1.0),\n",
    "    # likelihood=gpflow.likelihoods.Gaussian(scale=gpflow.functions.Polynomial(degree=2)),\n",
    "    # noise_variance = 10_000,\n",
    ")\n",
    "\n",
    "opt = gpflow.optimizers.Scipy()\n",
    "opt.minimize(model.training_loss, model.trainable_variables)"
   ]
  },
  {
   "cell_type": "code",
   "execution_count": 45,
   "id": "5295f272-47dc-4f3c-a15a-a55bce99246d",
   "metadata": {},
   "outputs": [
    {
     "data": {
      "text/html": [
       "<table>\n",
       "<thead>\n",
       "<tr><th>name                                          </th><th>class    </th><th>transform       </th><th>prior  </th><th>trainable  </th><th>shape  </th><th>dtype  </th><th style=\"text-align: right;\">  value</th></tr>\n",
       "</thead>\n",
       "<tbody>\n",
       "<tr><td>GPR.kernel.kernels[0].variance                </td><td>Parameter</td><td>Softplus        </td><td>       </td><td>True       </td><td>()     </td><td>float64</td><td style=\"text-align: right;\">0.0162 </td></tr>\n",
       "<tr><td>GPR.kernel.kernels[0].lengthscales            </td><td>Parameter</td><td>Softplus        </td><td>       </td><td>True       </td><td>()     </td><td>float64</td><td style=\"text-align: right;\">0.63621</td></tr>\n",
       "<tr><td>GPR.kernel.kernels[1].base_kernel.variance    </td><td>Parameter</td><td>Softplus        </td><td>       </td><td>True       </td><td>()     </td><td>float64</td><td style=\"text-align: right;\">0.00073</td></tr>\n",
       "<tr><td>GPR.kernel.kernels[1].base_kernel.lengthscales</td><td>Parameter</td><td>Softplus        </td><td>       </td><td>True       </td><td>()     </td><td>float64</td><td style=\"text-align: right;\">0.69837</td></tr>\n",
       "<tr><td>GPR.kernel.kernels[1].period                  </td><td>Parameter</td><td>Softplus        </td><td>       </td><td>True       </td><td>()     </td><td>float64</td><td style=\"text-align: right;\">1.07125</td></tr>\n",
       "<tr><td>GPR.likelihood.variance                       </td><td>Parameter</td><td>Softplus + Shift</td><td>       </td><td>True       </td><td>()     </td><td>float64</td><td style=\"text-align: right;\">0.00089</td></tr>\n",
       "</tbody>\n",
       "</table>"
      ],
      "text/plain": [
       "<IPython.core.display.HTML object>"
      ]
     },
     "metadata": {},
     "output_type": "display_data"
    }
   ],
   "source": [
    "gpflow.utilities.print_summary(model, \"notebook\")"
   ]
  },
  {
   "cell_type": "code",
   "execution_count": 46,
   "id": "4a73c2e9-9b23-4693-b810-93c8710d0610",
   "metadata": {},
   "outputs": [],
   "source": [
    "f_mean, f_var = model.predict_f(X_test, full_cov=False)"
   ]
  },
  {
   "cell_type": "code",
   "execution_count": 47,
   "id": "521dcc36-fa4c-474c-b456-e5013e0722a9",
   "metadata": {},
   "outputs": [],
   "source": [
    "f_lower = f_mean - 1.96 * np.sqrt(f_var)\n",
    "f_upper = f_mean + 1.96 * np.sqrt(f_var)"
   ]
  },
  {
   "cell_type": "code",
   "execution_count": 48,
   "id": "5431000e-3137-4d24-9aa6-ebb9147af800",
   "metadata": {},
   "outputs": [],
   "source": [
    "y_mean, y_var = model.predict_y(X_test)"
   ]
  },
  {
   "cell_type": "code",
   "execution_count": 49,
   "id": "8abba28b-f7bd-4e0a-a8d2-7b5b0c6580f7",
   "metadata": {},
   "outputs": [],
   "source": [
    "# f_mean"
   ]
  },
  {
   "cell_type": "code",
   "execution_count": 50,
   "id": "3a86db5d-bdc2-411d-89d8-0ef7344c1fe4",
   "metadata": {},
   "outputs": [],
   "source": [
    "# y_var"
   ]
  },
  {
   "cell_type": "code",
   "execution_count": 51,
   "id": "dfb53a08-301a-4851-b0ea-889ab6cbd3bd",
   "metadata": {},
   "outputs": [],
   "source": [
    "y_lower = y_mean - 1.96 * np.sqrt(y_var)\n",
    "y_upper = y_mean + 1.96 * np.sqrt(y_var)"
   ]
  },
  {
   "cell_type": "code",
   "execution_count": 85,
   "id": "cfdb7303-bccf-40e3-a68f-a47fc51a5b34",
   "metadata": {},
   "outputs": [
    {
     "data": {
      "text/plain": [
       "<matplotlib.legend.Legend at 0x7f0ab01ee5c0>"
      ]
     },
     "execution_count": 85,
     "metadata": {},
     "output_type": "execute_result"
    },
    {
     "data": {
      "image/png": "[encoded data removed]",
      "text/plain": [
       "<Figure size 1000x400 with 1 Axes>"
      ]
     },
     "metadata": {},
     "output_type": "display_data"
    }
   ],
   "source": [
    "fig, ax = plt.subplots(figsize=(10, 4))\n",
    "\n",
    "# ground truth\n",
    "ax.plot(X, y, color=\"green\", label=\"observation\", ls='',\n",
    "         marker='x', ms=5, mew=1.5,\n",
    "         mec = 'coral', mfc = 'coral')\n",
    "\n",
    "# mean function\n",
    "ax.plot(X_test, f_mean, \"-\", color=\"C0\", label=\"mean\", zorder=10)\n",
    "\n",
    "# plt.plot(X_test, y_lower, \".\", color=\"C0\", label=\"Y 95% confidence\")\n",
    "# plt.plot(X_test, y_upper, \".\", color=\"C0\")\n",
    "ax.fill_between(\n",
    "    X_test[:, 0], y_lower[:, 0], y_upper[:, 0], color=\"lightblue\", alpha=0.2\n",
    ")\n",
    "\n",
    "ax.axvline(x=last_month, ymin=0, ymax=1, c='purple', ls='--', label='train/test split')\n",
    "ax.grid(ls=':')\n",
    "ax.legend()"
   ]
  },
  {
   "cell_type": "markdown",
   "id": "67091cb4-8a89-45ac-b6b5-10dfa66c27eb",
   "metadata": {
    "jp-MarkdownHeadingCollapsed": true,
    "tags": []
   },
   "source": [
    "#### SciLearn implementation"
   ]
  },
  {
   "cell_type": "code",
   "execution_count": null,
   "id": "08bd54f4-0c0d-4185-a859-c0092193821b",
   "metadata": {},
   "outputs": [],
   "source": [
    "from sklearn.gaussian_process import GaussianProcessRegressor\n",
    "from sklearn.gaussian_process.kernels import RBF"
   ]
  },
  {
   "cell_type": "code",
   "execution_count": null,
   "id": "bfe47d62-3e56-4978-a135-c01d776b591a",
   "metadata": {},
   "outputs": [],
   "source": [
    "kernel = 1 * RBF()\n",
    "gaussian_process = GaussianProcessRegressor(kernel=kernel, n_restarts_optimizer=9)"
   ]
  },
  {
   "cell_type": "code",
   "execution_count": null,
   "id": "5cb3c7b7-df0c-4345-a0c5-621b917f53e3",
   "metadata": {},
   "outputs": [],
   "source": [
    "gaussian_process.fit(X, y)"
   ]
  },
  {
   "cell_type": "code",
   "execution_count": null,
   "id": "ebfa12e4-bc51-45fd-95f3-dd59eaaebcc1",
   "metadata": {},
   "outputs": [],
   "source": [
    "mean_prediction, std_prediction = gaussian_process.predict(X_test, return_std=True)"
   ]
  },
  {
   "cell_type": "code",
   "execution_count": null,
   "id": "57f55342-8011-4793-abdc-237033396a48",
   "metadata": {},
   "outputs": [],
   "source": [
    "plt.figure(figsize=(10, 4))\n",
    "plt.plot(X, y, color=\"black\", linestyle=\"dashed\", label=\"gt\", marker='.')\n",
    "\n",
    "plt.plot(X_test, mean_prediction, label=\"Mean prediction\")\n",
    "\n",
    "plt.fill_between(\n",
    "    X_test.ravel(),\n",
    "    mean_prediction - 1.96 * std_prediction,\n",
    "    mean_prediction + 1.96 * std_prediction,\n",
    "    color=\"tab:orange\",\n",
    "    alpha=0.5,\n",
    "    label=r\"95% confidence interval\",\n",
    ")\n",
    "\n",
    "plt.show()"
   ]
  },
  {
   "cell_type": "code",
   "execution_count": null,
   "id": "febe85af-7fbc-438f-8d49-72e8d7ccd1dd",
   "metadata": {},
   "outputs": [],
   "source": []
  },
  {
   "cell_type": "code",
   "execution_count": null,
   "id": "3c06e527-5b88-4bb7-9c2a-4f5abd92677e",
   "metadata": {},
   "outputs": [],
   "source": []
  },
  {
   "cell_type": "code",
   "execution_count": null,
   "id": "e40c96b5-bd87-4ff2-ad12-18e5dcbf5371",
   "metadata": {},
   "outputs": [],
   "source": []
  },
  {
   "cell_type": "code",
   "execution_count": null,
   "id": "8cf31eda-bd30-4ebc-b57a-e5430adb3797",
   "metadata": {},
   "outputs": [],
   "source": []
  },
  {
   "cell_type": "code",
   "execution_count": null,
   "id": "2d3cd720-b162-47b7-bd42-181ea26650d7",
   "metadata": {},
   "outputs": [],
   "source": []
  },
  {
   "cell_type": "markdown",
   "id": "48ed1548-057f-4006-9e0f-162fac83d837",
   "metadata": {
    "jp-MarkdownHeadingCollapsed": true,
    "tags": []
   },
   "source": [
    "### Bayesian NN "
   ]
  },
  {
   "cell_type": "code",
   "execution_count": null,
   "id": "ade13248-edad-4ceb-bdf7-d33b03bdef82",
   "metadata": {},
   "outputs": [],
   "source": [
    "x_train = X\n",
    "y_train = y"
   ]
  },
  {
   "cell_type": "code",
   "execution_count": null,
   "id": "863a369b-e109-4fbe-b532-3991c29a37ad",
   "metadata": {},
   "outputs": [],
   "source": [
    "plt.figure(figsize=(10, 4))\n",
    "plt.scatter(x_train, y_train, alpha=0.2)\n",
    "plt.show()"
   ]
  },
  {
   "cell_type": "code",
   "execution_count": null,
   "id": "1370b552-e907-43f6-8071-2abfd7e30258",
   "metadata": {},
   "outputs": [],
   "source": [
    "def build_and_compile_model():\n",
    "    model = keras.Sequential([\n",
    "      layers.Dense(64, activation='sigmoid'),\n",
    "      layers.Dense(128, activation='sigmoid'),\n",
    "      layers.Dense(1)\n",
    "    ])\n",
    "\n",
    "    model.compile(loss='mse',\n",
    "                optimizer=tf.keras.optimizers.Adam(learning_rate=0.1))\n",
    "    return model"
   ]
  },
  {
   "cell_type": "code",
   "execution_count": null,
   "id": "9eb4aff6-80a6-4f43-ae16-9297b8705b00",
   "metadata": {},
   "outputs": [],
   "source": [
    "DNN_model = build_and_compile_model()"
   ]
  },
  {
   "cell_type": "code",
   "execution_count": null,
   "id": "44785fc3-fadc-49cd-94ab-d927e356a153",
   "metadata": {},
   "outputs": [],
   "source": [
    "history = DNN_model.fit(\n",
    "    x_train,\n",
    "    y_train,\n",
    "    # validation_split=0.2,\n",
    "    verbose=0, \n",
    "    batch_size=16,\n",
    "    epochs=500)"
   ]
  },
  {
   "cell_type": "code",
   "execution_count": null,
   "id": "104ed4e7-7cdf-4251-9f84-d71d9582f726",
   "metadata": {},
   "outputs": [],
   "source": [
    "# plot_loss(history)"
   ]
  },
  {
   "cell_type": "code",
   "execution_count": null,
   "id": "780fd79b-d7f5-4d5c-bce1-7c19fac28a49",
   "metadata": {},
   "outputs": [],
   "source": [
    "test_predictions = DNN_model.predict(X_test)"
   ]
  },
  {
   "cell_type": "code",
   "execution_count": null,
   "id": "7d80824e-27b4-4fc4-9876-679eb7541654",
   "metadata": {},
   "outputs": [],
   "source": [
    "pseudo_train_preds = DNN_model.predict(x_train)"
   ]
  },
  {
   "cell_type": "code",
   "execution_count": null,
   "id": "8a866bd7-c32f-40eb-978c-27407c5833e8",
   "metadata": {},
   "outputs": [],
   "source": [
    "test_predictions.shape"
   ]
  },
  {
   "cell_type": "code",
   "execution_count": null,
   "id": "ee502410-e9b4-4669-9046-c7c9eaf7751c",
   "metadata": {},
   "outputs": [],
   "source": [
    "# Plot an ensemble of trained probabilistic regressions\n",
    "\n",
    "plt.scatter(x_train, y_train, marker='.', alpha=0.2, label='data')\n",
    "plt.scatter(X_test, test_predictions)\n",
    "plt.scatter(x_train, pseudo_train_preds)\n",
    "# for _ in range(5):\n",
    "#     y_model = model_BNN(x_train)\n",
    "#     y_hat = y_model.mean()\n",
    "#     y_hat_m2sd = y_hat - 2 * y_model.stddev()\n",
    "#     y_hat_p2sd = y_hat + 2 * y_model.stddev()\n",
    "#     if _ == 0:\n",
    "#         plt.plot(x_train, y_hat, color='red', alpha=0.8, label='model $\\mu$')\n",
    "#         plt.plot(x_train, y_hat_m2sd, color='green', alpha=0.8, label='model $\\mu \\pm 2 \\sigma$')\n",
    "#         plt.plot(x_train, y_hat_p2sd, color='green', alpha=0.8)\n",
    "#     else:\n",
    "#         plt.plot(x_train, y_hat, color='red', alpha=0.8)\n",
    "#         plt.plot(x_train, y_hat_m2sd, color='green', alpha=0.8)\n",
    "#         plt.plot(x_train, y_hat_p2sd, color='green', alpha=0.8)        \n",
    "# plt.legend()\n",
    "# plt.show()"
   ]
  },
  {
   "cell_type": "markdown",
   "id": "ffe25e38-de4f-4937-b279-dc781afe45c9",
   "metadata": {
    "jp-MarkdownHeadingCollapsed": true,
    "tags": []
   },
   "source": [
    "#### BNN"
   ]
  },
  {
   "cell_type": "code",
   "execution_count": null,
   "id": "db5ee9a5-ed8d-4e2e-b105-5a41c0cdc50a",
   "metadata": {},
   "outputs": [],
   "source": [
    "# Create probabilistic regression with one hidden layer, weight uncertainty\n",
    "\n",
    "model_BNN = Sequential([\n",
    "    tfpl.DenseVariational(units=64,\n",
    "                          input_shape=(1,),\n",
    "                          make_prior_fn=sg_prior,\n",
    "                          make_posterior_fn=posterior,\n",
    "                          kl_weight=1/x_train.shape[0],\n",
    "                          activation='sigmoid'),\n",
    "    tfpl.DenseVariational(units=64,\n",
    "                          input_shape=(1,),\n",
    "                          make_prior_fn=sg_prior,\n",
    "                          make_posterior_fn=posterior,\n",
    "                          kl_weight=1/x_train.shape[0],\n",
    "                          activation='sigmoid'),\n",
    "    tfpl.DenseVariational(units=tfpl.IndependentNormal.params_size(1),\n",
    "                          make_prior_fn=sg_prior,\n",
    "                          make_posterior_fn=posterior,\n",
    "                          kl_weight=1/x_train.shape[0]),\n",
    "    tfpl.IndependentNormal(1)\n",
    "])\n",
    "\n",
    "model_BNN.compile(loss=nll, optimizer=RMSprop())"
   ]
  },
  {
   "cell_type": "code",
   "execution_count": null,
   "id": "b5609d43-6f74-4117-9397-ab22d2c9cd1f",
   "metadata": {},
   "outputs": [],
   "source": [
    "# # Train the model\n",
    "\n",
    "# model_BNN.fit(x_train, y_train, epochs=500, verbose=1)\n",
    "# model_BNN.evaluate(x_train, y_train)"
   ]
  },
  {
   "cell_type": "code",
   "execution_count": null,
   "id": "49c63506-2c8c-4cd4-a14f-df6976f73847",
   "metadata": {},
   "outputs": [],
   "source": [
    "# Plot an ensemble of trained probabilistic regressions\n",
    "\n",
    "plt.scatter(x_train, y_train, marker='.', alpha=0.2, label='data')\n",
    "for _ in range(5):\n",
    "    y_model = model_BNN(x_train)\n",
    "    y_hat = y_model.mean()\n",
    "    y_hat_m2sd = y_hat - 2 * y_model.stddev()\n",
    "    y_hat_p2sd = y_hat + 2 * y_model.stddev()\n",
    "    if _ == 0:\n",
    "        plt.plot(x_train, y_hat, color='red', alpha=0.8, label='model $\\mu$')\n",
    "        plt.plot(x_train, y_hat_m2sd, color='green', alpha=0.8, label='model $\\mu \\pm 2 \\sigma$')\n",
    "        plt.plot(x_train, y_hat_p2sd, color='green', alpha=0.8)\n",
    "    else:\n",
    "        plt.plot(x_train, y_hat, color='red', alpha=0.8)\n",
    "        plt.plot(x_train, y_hat_m2sd, color='green', alpha=0.8)\n",
    "        plt.plot(x_train, y_hat_p2sd, color='green', alpha=0.8)        \n",
    "plt.legend()\n",
    "plt.show()"
   ]
  },
  {
   "cell_type": "code",
   "execution_count": null,
   "id": "9bba4b62-2c8d-4a83-9227-c5c094fe1e7a",
   "metadata": {},
   "outputs": [],
   "source": []
  },
  {
   "cell_type": "code",
   "execution_count": null,
   "id": "240e6f56-78ea-43e3-863e-657ae5cce0e4",
   "metadata": {},
   "outputs": [],
   "source": []
  },
  {
   "cell_type": "code",
   "execution_count": null,
   "id": "55e463ec-1ffa-4af6-80c1-03927a1d044d",
   "metadata": {},
   "outputs": [],
   "source": []
  },
  {
   "cell_type": "code",
   "execution_count": null,
   "id": "8197c251-2897-4d20-af9b-09d959729896",
   "metadata": {},
   "outputs": [],
   "source": [
    "## Machine Learning models in an autoregressive scheme"
   ]
  },
  {
   "cell_type": "code",
   "execution_count": null,
   "id": "afeb8d0b-6dc2-455d-901b-b9ab3dcee1bc",
   "metadata": {},
   "outputs": [],
   "source": []
  },
  {
   "cell_type": "code",
   "execution_count": null,
   "id": "feb89df5-3656-4e56-9f2e-31fa1885b1d0",
   "metadata": {},
   "outputs": [],
   "source": [
    "# a table showing the accuracy metrics"
   ]
  }
 ],
 "metadata": {
  "kernelspec": {
   "display_name": "gpflow",
   "language": "python",
   "name": "gpflow"
  },
  "language_info": {
   "codemirror_mode": {
    "name": "ipython",
    "version": 3
   },
   "file_extension": ".py",
   "mimetype": "text/x-python",
   "name": "python",
   "nbconvert_exporter": "python",
   "pygments_lexer": "ipython3",
   "version": "3.10.13"
  }
 },
 "nbformat": 4,
 "nbformat_minor": 5
}
